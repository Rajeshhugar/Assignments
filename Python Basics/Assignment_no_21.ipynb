{
 "cells": [
  {
   "cell_type": "markdown",
   "id": "984b4513",
   "metadata": {},
   "source": [
    "# Assignment 21 Solutions"
   ]
  },
  {
   "cell_type": "markdown",
   "id": "4fe8b19e",
   "metadata": {},
   "source": [
    "#### 1. Add the current date to the text file today.txt as a string."
   ]
  },
  {
   "cell_type": "code",
   "execution_count": 9,
   "id": "4c5ad5ac",
   "metadata": {},
   "outputs": [
    {
     "name": "stdout",
     "output_type": "stream",
     "text": [
      "02-01-2023\n"
     ]
    }
   ],
   "source": [
    "import datetime\n",
    "# Code to Add current date to the today.txt file\n",
    "file = open('today.txt','w')\n",
    "file.write(datetime.datetime.now().strftime(\"%d-%m-%Y\"))\n",
    "file.close()\n",
    "# Code to Read current date from today.txt file\n",
    "file = open('today.txt','r')\n",
    "print(file.read())\n",
    "file.close()"
   ]
  },
  {
   "cell_type": "markdown",
   "id": "6cf23762",
   "metadata": {},
   "source": [
    "#### 2. Read the text file today.txt into the string today_string"
   ]
  },
  {
   "cell_type": "code",
   "execution_count": 10,
   "id": "107143ea",
   "metadata": {},
   "outputs": [
    {
     "name": "stdout",
     "output_type": "stream",
     "text": [
      "02-01-2023\n"
     ]
    }
   ],
   "source": [
    "file = open('today.txt','r')\n",
    "today_string = file.read()\n",
    "print(today_string)"
   ]
  },
  {
   "cell_type": "markdown",
   "id": "165addb6",
   "metadata": {},
   "source": [
    "#### 3. Parse the date from today_string."
   ]
  },
  {
   "cell_type": "code",
   "execution_count": 11,
   "id": "c622da5b",
   "metadata": {},
   "outputs": [
    {
     "name": "stdout",
     "output_type": "stream",
     "text": [
      "2023-01-02 00:00:00\n"
     ]
    }
   ],
   "source": [
    "from datetime import datetime\n",
    "parsed_data = datetime.strptime(today_string, '%d-%m-%Y')\n",
    "print(parsed_data)"
   ]
  },
  {
   "cell_type": "markdown",
   "id": "664d3278",
   "metadata": {},
   "source": [
    "#### 4. List the files in your current directory"
   ]
  },
  {
   "cell_type": "code",
   "execution_count": 18,
   "id": "cbacd0e4",
   "metadata": {},
   "outputs": [
    {
     "name": "stdout",
     "output_type": "stream",
     "text": [
      ".jovianrc\n",
      "Assignment_no_01.ipynb\n",
      "Assignment_no_02.ipynb\n",
      "Assignment_no_03.ipynb\n",
      "Assignment_no_04.ipynb\n",
      "Assignment_no_05.ipynb\n",
      "Assignment_no_06.ipynb\n",
      "Assignment_no_07.ipynb\n",
      "Assignment_no_08.ipynb\n",
      "Assignment_no_09.ipynb\n",
      "Assignment_no_10.ipynb\n",
      "Assignment_no_11.ipynb\n",
      "Assignment_no_12.ipynb\n",
      "Assignment_no_13.ipynb\n",
      "Assignment_no_14.ipynb\n",
      "Assignment_no_15.ipynb\n",
      "Assignment_no_16.ipynb\n",
      "Assignment_no_17.ipynb\n",
      "Assignment_no_18.ipynb\n",
      "Assignment_no_19.ipynb\n",
      "Assignment_no_20.ipynb\n",
      "Assignment_no_21.ipynb\n",
      "Assignment_no_22.ipynb\n",
      "Assignment_no_23.ipynb\n",
      "Assignment_no_24.ipynb\n",
      "Assignment_no_25.ipynb\n",
      "books.csv\n",
      "books.db\n",
      "books.sql\n",
      "test.txt\n",
      "today.txt\n",
      "Assignment_no_04-checkpoint.ipynb\n",
      "Assignment_no_08-checkpoint.ipynb\n",
      "Assignment_no_10-checkpoint.ipynb\n",
      "Assignment_no_11-checkpoint.ipynb\n",
      "Assignment_no_12-checkpoint.ipynb\n",
      "Assignment_no_13-checkpoint.ipynb\n",
      "Assignment_no_14-checkpoint.ipynb\n",
      "Assignment_no_15-checkpoint.ipynb\n",
      "Assignment_no_16-checkpoint.ipynb\n",
      "Assignment_no_18-checkpoint.ipynb\n",
      "Assignment_no_19-checkpoint.ipynb\n",
      "Assignment_no_20-checkpoint.ipynb\n",
      "Assignment_no_21-checkpoint.ipynb\n",
      "Assignment_no_22-checkpoint.ipynb\n",
      "Assignment_no_23-checkpoint.ipynb\n",
      "Assignment_no_24-checkpoint.ipynb\n",
      "Assignment_no_25-checkpoint.ipynb\n"
     ]
    }
   ],
   "source": [
    "import os\n",
    "for folders, subfolders, files in os.walk(os.getcwd()):\n",
    "    for file in files:\n",
    "        print(file)"
   ]
  },
  {
   "cell_type": "markdown",
   "id": "291a203b",
   "metadata": {},
   "source": [
    "#### 5. Create a list of all of the files in your parent directory (minimum five files should be available)."
   ]
  },
  {
   "cell_type": "code",
   "execution_count": 20,
   "id": "87d8ad2c",
   "metadata": {},
   "outputs": [
    {
     "data": {
      "text/plain": [
       "'D:\\\\FSDS ASSESMENTS\\\\FSDS Assignment(Submission)_rajesh\\\\git repository\\\\Python Basics'"
      ]
     },
     "execution_count": 20,
     "metadata": {},
     "output_type": "execute_result"
    }
   ],
   "source": [
    "os.getcwd()"
   ]
  },
  {
   "cell_type": "code",
   "execution_count": 19,
   "id": "efe9618b",
   "metadata": {},
   "outputs": [
    {
     "data": {
      "text/plain": [
       "['.ipynb_checkpoints',\n",
       " '.jovianrc',\n",
       " 'Assignment_no_01.ipynb',\n",
       " 'Assignment_no_02.ipynb',\n",
       " 'Assignment_no_03.ipynb',\n",
       " 'Assignment_no_04.ipynb',\n",
       " 'Assignment_no_05.ipynb',\n",
       " 'Assignment_no_06.ipynb',\n",
       " 'Assignment_no_07.ipynb',\n",
       " 'Assignment_no_08.ipynb',\n",
       " 'Assignment_no_09.ipynb',\n",
       " 'Assignment_no_10.ipynb',\n",
       " 'Assignment_no_11.ipynb',\n",
       " 'Assignment_no_12.ipynb',\n",
       " 'Assignment_no_13.ipynb',\n",
       " 'Assignment_no_14.ipynb',\n",
       " 'Assignment_no_15.ipynb',\n",
       " 'Assignment_no_16.ipynb',\n",
       " 'Assignment_no_17.ipynb',\n",
       " 'Assignment_no_18.ipynb',\n",
       " 'Assignment_no_19.ipynb',\n",
       " 'Assignment_no_20.ipynb',\n",
       " 'Assignment_no_21.ipynb',\n",
       " 'Assignment_no_22.ipynb',\n",
       " 'Assignment_no_23.ipynb',\n",
       " 'Assignment_no_24.ipynb',\n",
       " 'Assignment_no_25.ipynb',\n",
       " 'books.csv',\n",
       " 'books.db',\n",
       " 'books.sql',\n",
       " 'Dummy Destination',\n",
       " 'Dummy Source',\n",
       " 'test.txt',\n",
       " 'today.txt']"
      ]
     },
     "execution_count": 19,
     "metadata": {},
     "output_type": "execute_result"
    }
   ],
   "source": [
    "import os \n",
    "os.listdir()"
   ]
  },
  {
   "cell_type": "markdown",
   "id": "203dd9fe",
   "metadata": {},
   "source": [
    "#### 6. Use multiprocessing to create three separate processes. Make each one wait a random number of seconds between one and five, print the current time, and then exit."
   ]
  },
  {
   "cell_type": "code",
   "execution_count": 14,
   "id": "bcb2799b",
   "metadata": {},
   "outputs": [],
   "source": [
    "import multiprocessing\n",
    "import time \n",
    "import random\n",
    "import datetime\n",
    "\n",
    "def procOne():\n",
    "    print(f'Proc_one_Starttime -> {datetime.datetime.now()}')\n",
    "    time.sleep(random.randint(1,5))\n",
    "    print(f'Proc_one_Endtime -> {datetime.datetime.now()}')\n",
    "    \n",
    "def procTwo():\n",
    "    print(f'Proc_two_Starttime -> {datetime.datetime.now()}')\n",
    "    time.sleep(random.randint(1,5))\n",
    "    print(f'Proc_two_Endtime -> {datetime.datetime.now()}')\n",
    "\n",
    "def procThree():\n",
    "    print(f'Proc_two_Starttime -> {datetime.datetime.now()}')\n",
    "    time.sleep(random.randint(1,5))\n",
    "    print(f'Proc_two_Endtime -> {datetime.datetime.now()}')\n",
    "    \n",
    "if __name__ == \"__main__\":    \n",
    "    p1 = multiprocessing.Process(target=procOne)\n",
    "    p2 = multiprocessing.Process(target=procTwo)\n",
    "    p3 = multiprocessing.Process(target=procThree)\n",
    "\n",
    "    p1.start()\n",
    "    p2.start()\n",
    "    p3.start()\n",
    "\n",
    "    p1.join()\n",
    "    p2.join()\n",
    "    p3.join()"
   ]
  },
  {
   "cell_type": "markdown",
   "id": "710ba830-38ca-4814-a28d-a266099ff07f",
   "metadata": {},
   "source": [
    "Below is the output from python(.py) file\n"
   ]
  },
  {
   "cell_type": "markdown",
   "id": "e35447c6",
   "metadata": {},
   "source": [
    "`C:\\ProgramData\\Anaconda3\\python.exe C:/Users/rajes/AppData/Roaming/JetBrains/PyCharmCE2022.1/scratches/scratch_5.py`\n",
    "\n",
    "`Proc_one_Starttime -> 2023-01-02 12:50:14.369990`\n",
    "\n",
    "`Proc_two_Starttime -> 2023-01-02 12:50:14.382990`\n",
    "\n",
    "`Proc_two_Starttime -> 2023-01-02 12:50:14.385987`\n",
    "\n",
    "`Proc_one_Endtime -> 2023-01-02 12:50:15.375816`\n",
    "\n",
    "\n",
    "`Proc_two_Endtime -> 2023-01-02 12:50:18.390630`\n",
    "\n",
    "`Proc_two_Endtime -> 2023-01-02 12:50:19.396005`\n",
    "\n",
    "`Process finished with exit code 0`"
   ]
  },
  {
   "cell_type": "markdown",
   "id": "71d07e78",
   "metadata": {},
   "source": [
    "#### 7. Create a date object of your day of birth."
   ]
  },
  {
   "cell_type": "code",
   "execution_count": 15,
   "id": "b3e67c1c",
   "metadata": {},
   "outputs": [
    {
     "name": "stdout",
     "output_type": "stream",
     "text": [
      "1994-08-25 00:00:00 <class 'datetime.datetime'>\n"
     ]
    }
   ],
   "source": [
    "from datetime import datetime\n",
    "my_dob = datetime.strptime('25/08/1994','%d/%m/%Y')\n",
    "print(my_dob, type(my_dob))"
   ]
  },
  {
   "cell_type": "markdown",
   "id": "e5775db9",
   "metadata": {},
   "source": [
    "#### 8. What day of the week was your day of birth?"
   ]
  },
  {
   "cell_type": "code",
   "execution_count": 16,
   "id": "65b6ae43",
   "metadata": {},
   "outputs": [
    {
     "data": {
      "text/plain": [
       "'Thursday'"
      ]
     },
     "execution_count": 16,
     "metadata": {},
     "output_type": "execute_result"
    }
   ],
   "source": [
    "from datetime import datetime\n",
    "my_dob = datetime(1994,8,25)\n",
    "my_dob.strftime(\"%A\")"
   ]
  },
  {
   "cell_type": "markdown",
   "id": "abe779de",
   "metadata": {},
   "source": [
    "#### 9. When will you be (or when were you) 10,000 days old?"
   ]
  },
  {
   "cell_type": "code",
   "execution_count": 17,
   "id": "db7e28a0",
   "metadata": {},
   "outputs": [
    {
     "data": {
      "text/plain": [
       "datetime.datetime(2022, 1, 10, 0, 0)"
      ]
     },
     "execution_count": 17,
     "metadata": {},
     "output_type": "execute_result"
    }
   ],
   "source": [
    "from datetime import datetime, timedelta\n",
    "my_dob = datetime.strptime(\"25/08/1994\",'%d/%m/%Y')\n",
    "future_date = my_dob+timedelta(10000)\n",
    "future_date"
   ]
  },
  {
   "cell_type": "code",
   "execution_count": null,
   "id": "04f0238e",
   "metadata": {},
   "outputs": [],
   "source": []
  },
  {
   "cell_type": "code",
   "execution_count": null,
   "id": "eaf34632",
   "metadata": {},
   "outputs": [],
   "source": []
  }
 ],
 "metadata": {
  "hide_input": false,
  "kernelspec": {
   "display_name": "Python 3 (ipykernel)",
   "language": "python",
   "name": "python3"
  },
  "language_info": {
   "codemirror_mode": {
    "name": "ipython",
    "version": 3
   },
   "file_extension": ".py",
   "mimetype": "text/x-python",
   "name": "python",
   "nbconvert_exporter": "python",
   "pygments_lexer": "ipython3",
   "version": "3.9.12"
  },
  "nbTranslate": {
   "displayLangs": [
    "*"
   ],
   "hotkey": "alt-t",
   "langInMainMenu": true,
   "sourceLang": "en",
   "targetLang": "fr",
   "useGoogleTranslate": true
  },
  "toc": {
   "base_numbering": 1,
   "nav_menu": {},
   "number_sections": true,
   "sideBar": true,
   "skip_h1_title": false,
   "title_cell": "Table of Contents",
   "title_sidebar": "Contents",
   "toc_cell": false,
   "toc_position": {},
   "toc_section_display": true,
   "toc_window_display": false
  }
 },
 "nbformat": 4,
 "nbformat_minor": 5
}
