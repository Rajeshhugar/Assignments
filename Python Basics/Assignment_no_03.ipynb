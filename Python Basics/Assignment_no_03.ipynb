{
 "cells": [
  {
   "cell_type": "markdown",
   "id": "d27d70dd",
   "metadata": {},
   "source": [
    "1. Why are functions advantageous to have in your programs?"
   ]
  },
  {
   "cell_type": "markdown",
   "id": "195dd338",
   "metadata": {},
   "source": [
    "**Ans** :Functions reduce the duplication of the code and makes the code short\n",
    "Functions make the code easier to read and the main advantage is the reusability of the code"
   ]
  },
  {
   "cell_type": "markdown",
   "id": "00579f5c",
   "metadata": {},
   "source": [
    "2. When does the code in a function run: when it's specified or when it's called?"
   ]
  },
  {
   "cell_type": "markdown",
   "id": "cf2de0d7",
   "metadata": {},
   "source": [
    "**Ans** : The code in a function run when the function is called.\n"
   ]
  },
  {
   "cell_type": "markdown",
   "id": "5359e571",
   "metadata": {},
   "source": [
    "3. What statement creates a function?"
   ]
  },
  {
   "cell_type": "markdown",
   "id": "dc4f5b8e",
   "metadata": {},
   "source": [
    "**Ans**`def` statement is used to create a function \n",
    "\n",
    "`def function_name(param):`\n",
    "\n",
    "    \"\"\" Document string\"\"\"\n",
    "    ---Body----\n",
    "    \n",
    "    return value"
   ]
  },
  {
   "cell_type": "markdown",
   "id": "463022c2",
   "metadata": {},
   "source": [
    "4. What is the difference between a function and a function call?"
   ]
  },
  {
   "cell_type": "markdown",
   "id": "24471455",
   "metadata": {},
   "source": [
    "**Ans** : A function(which contains a set of code) is created to perform a task or operation for a given set of params \n",
    "when we call a function it executes the task "
   ]
  },
  {
   "cell_type": "markdown",
   "id": "b5fdca1e",
   "metadata": {},
   "source": [
    "5. How many global scopes are there in a Python program? How many local scopes?"
   ]
  },
  {
   "cell_type": "markdown",
   "id": "75d7f11c",
   "metadata": {},
   "source": [
    "**Ans :** There is one global scope, and a local scope is created whenever a function is called."
   ]
  },
  {
   "cell_type": "markdown",
   "id": "c67df257",
   "metadata": {},
   "source": [
    "6. What happens to variables in a local scope when the function call returns?"
   ]
  },
  {
   "cell_type": "markdown",
   "id": "d2995c62",
   "metadata": {},
   "source": [
    "**Ans:** When a function returns, the local scope is destroyed, and all the variables in it are forgotten."
   ]
  },
  {
   "cell_type": "markdown",
   "id": "850d4b05",
   "metadata": {},
   "source": [
    "7. What is the concept of a return value? Is it possible to have a return value in an expression?"
   ]
  },
  {
   "cell_type": "markdown",
   "id": "db1a143d",
   "metadata": {},
   "source": [
    " **Ans** Return value is the value that a function call evaluates to. Like any value, a return value can be used as part of an expression."
   ]
  },
  {
   "cell_type": "markdown",
   "id": "d84d95e5",
   "metadata": {},
   "source": [
    "8. If a function does not have a return statement, what is the return value of a call to that function?"
   ]
  },
  {
   "cell_type": "markdown",
   "id": "47c0bc31",
   "metadata": {},
   "source": [
    "**Ans:** If there is no return statement for a function, its return value is None."
   ]
  },
  {
   "cell_type": "markdown",
   "id": "7de11c4f",
   "metadata": {},
   "source": [
    "9. How do you make a function variable refer to the global variable?"
   ]
  },
  {
   "cell_type": "markdown",
   "id": "f68d90df",
   "metadata": {},
   "source": [
    "**Ans:** A global statement will force a variable in a function to refer to the global variable. If you want to refer to a global variable in a function, you can use the global keyword to declare which variables are global."
   ]
  },
  {
   "cell_type": "markdown",
   "id": "2d4e087a",
   "metadata": {},
   "source": [
    "10. What is the data type of None?"
   ]
  },
  {
   "cell_type": "markdown",
   "id": "ff2e92c6",
   "metadata": {},
   "source": [
    "**Ans** : `NoneType`"
   ]
  },
  {
   "cell_type": "markdown",
   "id": "280bcd07",
   "metadata": {},
   "source": [
    "11. What does the sentence import areallyourpetsnamederic do?"
   ]
  },
  {
   "cell_type": "markdown",
   "id": "30af4502",
   "metadata": {},
   "source": [
    "**Ans:** That import statement imports a module named `areallyourpetsnamederic.`"
   ]
  },
  {
   "cell_type": "markdown",
   "id": "2ca0322d",
   "metadata": {},
   "source": [
    "12. If you had a bacon() feature in a spam module, what would you call it after importing spam?"
   ]
  },
  {
   "cell_type": "markdown",
   "id": "3d8c5dc8",
   "metadata": {},
   "source": [
    "**Ans** :`spam.bacon()`"
   ]
  },
  {
   "cell_type": "markdown",
   "id": "5479abaf",
   "metadata": {},
   "source": [
    "13. What can you do to save a programme from crashing if it encounters an error?"
   ]
  },
  {
   "cell_type": "markdown",
   "id": "7119af92",
   "metadata": {},
   "source": [
    "**Ans** : use the `try` and `except` block to handle the exception .\n",
    "First place the line of code in the `try block` and then use the `except block` to handle the exception"
   ]
  },
  {
   "cell_type": "markdown",
   "id": "22247899",
   "metadata": {},
   "source": [
    "14. What is the purpose of the try clause? What is the purpose of the except clause?"
   ]
  },
  {
   "cell_type": "markdown",
   "id": "298ec5d3",
   "metadata": {},
   "source": [
    "**Ans** : The code that could potentially cause an error(risky code) goes in the try clause. The code that executes if an error happens goes in the except clause."
   ]
  },
  {
   "cell_type": "code",
   "execution_count": null,
   "id": "4eb3efa7",
   "metadata": {},
   "outputs": [],
   "source": []
  }
 ],
 "metadata": {
  "hide_input": false,
  "kernelspec": {
   "display_name": "Python 3 (ipykernel)",
   "language": "python",
   "name": "python3"
  },
  "language_info": {
   "codemirror_mode": {
    "name": "ipython",
    "version": 3
   },
   "file_extension": ".py",
   "mimetype": "text/x-python",
   "name": "python",
   "nbconvert_exporter": "python",
   "pygments_lexer": "ipython3",
   "version": "3.9.12"
  },
  "nbTranslate": {
   "displayLangs": [
    "*"
   ],
   "hotkey": "alt-t",
   "langInMainMenu": true,
   "sourceLang": "en",
   "targetLang": "fr",
   "useGoogleTranslate": true
  },
  "toc": {
   "base_numbering": 1,
   "nav_menu": {},
   "number_sections": true,
   "sideBar": true,
   "skip_h1_title": false,
   "title_cell": "Table of Contents",
   "title_sidebar": "Contents",
   "toc_cell": false,
   "toc_position": {},
   "toc_section_display": true,
   "toc_window_display": false
  }
 },
 "nbformat": 4,
 "nbformat_minor": 5
}
