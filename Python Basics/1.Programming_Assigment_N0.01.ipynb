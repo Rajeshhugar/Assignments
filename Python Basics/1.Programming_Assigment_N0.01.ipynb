{
 "cells": [
  {
   "cell_type": "markdown",
   "id": "515816fe",
   "metadata": {},
   "source": [
    "### 1.Write a Python program to print \"Hello Python\"?"
   ]
  },
  {
   "cell_type": "code",
   "execution_count": 1,
   "id": "991032fc",
   "metadata": {},
   "outputs": [
    {
     "name": "stdout",
     "output_type": "stream",
     "text": [
      "Hello Python\n"
     ]
    }
   ],
   "source": [
    "print(\"Hello Python\")"
   ]
  },
  {
   "cell_type": "markdown",
   "id": "ac835093",
   "metadata": {},
   "source": [
    "### 2.Write a Python program to do arithmetical operations addition and division.?"
   ]
  },
  {
   "cell_type": "code",
   "execution_count": 7,
   "id": "1c81d572",
   "metadata": {},
   "outputs": [
    {
     "name": "stdout",
     "output_type": "stream",
     "text": [
      "Enter a number :34\n",
      "Enter a another number :5\n",
      "\n",
      " Addition is : 39 \n",
      " Subtraction is : 29 \n",
      " Division is : 6.8\n"
     ]
    }
   ],
   "source": [
    "first_num=eval(input(\"Enter a number :\"))\n",
    "second_num=eval(input(\"Enter a another number :\"))\n",
    "addition=first_num +second_num\n",
    "subtraction=first_num -second_num\n",
    "division =first_num/second_num\n",
    "print(\"\\n Addition is :\",addition,\"\\n Subtraction is :\",subtraction,\"\\n Division is :\",round(division,2))"
   ]
  },
  {
   "cell_type": "code",
   "execution_count": null,
   "id": "c765a4eb",
   "metadata": {},
   "outputs": [],
   "source": []
  },
  {
   "cell_type": "markdown",
   "id": "0f661897",
   "metadata": {},
   "source": [
    "### 3.Write a Python program to find the area of a triangle?"
   ]
  },
  {
   "cell_type": "code",
   "execution_count": 9,
   "id": "54993bae",
   "metadata": {},
   "outputs": [
    {
     "name": "stdout",
     "output_type": "stream",
     "text": [
      "ENter first side : 34\n",
      "Enter second Side : 2\n",
      "Area of the Traingle is : 34.0\n"
     ]
    }
   ],
   "source": [
    "frst_side=eval(input(\"ENter first side : \"))\n",
    "scnd_side=eval(input(\"Enter second Side : \"))\n",
    "area=0.5*frst_side*scnd_side\n",
    "print(\"Area of the Traingle is :\",area)"
   ]
  },
  {
   "cell_type": "markdown",
   "id": "bfb4f233",
   "metadata": {},
   "source": [
    "### 4.Write a Python program to swap two variables?"
   ]
  },
  {
   "cell_type": "code",
   "execution_count": 22,
   "id": "b4c39836",
   "metadata": {},
   "outputs": [
    {
     "name": "stdout",
     "output_type": "stream",
     "text": [
      "34 45\n"
     ]
    }
   ],
   "source": [
    "x=45\n",
    "y=34\n",
    "z=\"num\"\n",
    "\n",
    "z=x\n",
    "x=y\n",
    "y=z\n",
    "\n",
    "print(x,y)"
   ]
  },
  {
   "cell_type": "markdown",
   "id": "0541e663",
   "metadata": {},
   "source": [
    "### 5.Write a Python program to generate a random number?"
   ]
  },
  {
   "cell_type": "code",
   "execution_count": 26,
   "id": "e51ccda3",
   "metadata": {},
   "outputs": [
    {
     "name": "stdout",
     "output_type": "stream",
     "text": [
      "[91 17 45 21 94 78 20 35 11 80 78 65 56 59 81]\n"
     ]
    }
   ],
   "source": [
    "import numpy as np\n",
    "x=np.random.randint(10,100,size=15)\n",
    "print(x)"
   ]
  },
  {
   "cell_type": "code",
   "execution_count": 29,
   "id": "1231a19a",
   "metadata": {},
   "outputs": [
    {
     "data": {
      "text/plain": [
       "array([91, 17, 45, 21, 94, 78, 20, 35, 11, 80, 78, 65, 56, 59, 81])"
      ]
     },
     "execution_count": 29,
     "metadata": {},
     "output_type": "execute_result"
    }
   ],
   "source": []
  },
  {
   "cell_type": "code",
   "execution_count": 27,
   "id": "e93f0fc3",
   "metadata": {},
   "outputs": [],
   "source": []
  },
  {
   "cell_type": "code",
   "execution_count": 33,
   "id": "77aafe1c",
   "metadata": {},
   "outputs": [
    {
     "data": {
      "text/plain": [
       "[33, 98, 53, 68, 76, 59, 29, 24, 93, 69, 95, 35, 22, 70, 61]"
      ]
     },
     "execution_count": 33,
     "metadata": {},
     "output_type": "execute_result"
    }
   ],
   "source": [
    "\n",
    "import random \n",
    "y=random.sample(range(10,100),15)\n",
    "y "
   ]
  },
  {
   "cell_type": "code",
   "execution_count": null,
   "id": "a9f43177",
   "metadata": {},
   "outputs": [],
   "source": []
  },
  {
   "cell_type": "code",
   "execution_count": null,
   "id": "9c92e4eb",
   "metadata": {},
   "outputs": [],
   "source": []
  }
 ],
 "metadata": {
  "hide_input": false,
  "kernelspec": {
   "display_name": "Neuron",
   "language": "python",
   "name": "neuron"
  },
  "language_info": {
   "codemirror_mode": {
    "name": "ipython",
    "version": 3
   },
   "file_extension": ".py",
   "mimetype": "text/x-python",
   "name": "python",
   "nbconvert_exporter": "python",
   "pygments_lexer": "ipython3",
   "version": "3.10.4"
  },
  "nbTranslate": {
   "displayLangs": [
    "*"
   ],
   "hotkey": "alt-t",
   "langInMainMenu": true,
   "sourceLang": "en",
   "targetLang": "fr",
   "useGoogleTranslate": true
  },
  "toc": {
   "base_numbering": 1,
   "nav_menu": {},
   "number_sections": true,
   "sideBar": true,
   "skip_h1_title": false,
   "title_cell": "Table of Contents",
   "title_sidebar": "Contents",
   "toc_cell": false,
   "toc_position": {},
   "toc_section_display": true,
   "toc_window_display": false
  }
 },
 "nbformat": 4,
 "nbformat_minor": 5
}
