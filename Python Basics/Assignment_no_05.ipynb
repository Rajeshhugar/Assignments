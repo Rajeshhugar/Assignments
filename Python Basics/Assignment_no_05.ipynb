{
 "cells": [
  {
   "cell_type": "markdown",
   "id": "b9b968b4",
   "metadata": {},
   "source": [
    "#### 1. What does an empty dictionary's code look like?"
   ]
  },
  {
   "cell_type": "markdown",
   "id": "0b525ded",
   "metadata": {},
   "source": [
    "**Ans:** \n",
    "We can initialize a dict using `dict()` or `{}`\n"
   ]
  },
  {
   "cell_type": "code",
   "execution_count": 1,
   "id": "ce73763b",
   "metadata": {},
   "outputs": [
    {
     "data": {
      "text/plain": [
       "dict"
      ]
     },
     "execution_count": 1,
     "metadata": {},
     "output_type": "execute_result"
    }
   ],
   "source": [
    "y=dict()\n",
    "type(y)"
   ]
  },
  {
   "cell_type": "code",
   "execution_count": 2,
   "id": "2be694b8",
   "metadata": {},
   "outputs": [],
   "source": [
    "x={}"
   ]
  },
  {
   "cell_type": "code",
   "execution_count": 3,
   "id": "35c46fcb",
   "metadata": {},
   "outputs": [
    {
     "data": {
      "text/plain": [
       "dict"
      ]
     },
     "execution_count": 3,
     "metadata": {},
     "output_type": "execute_result"
    }
   ],
   "source": [
    "type(x)"
   ]
  },
  {
   "cell_type": "code",
   "execution_count": 4,
   "id": "1e4fcf0b",
   "metadata": {},
   "outputs": [
    {
     "data": {
      "text/plain": [
       "dict"
      ]
     },
     "execution_count": 4,
     "metadata": {},
     "output_type": "execute_result"
    }
   ],
   "source": [
    "x={}\n",
    "type(x)"
   ]
  },
  {
   "cell_type": "markdown",
   "id": "642e5757",
   "metadata": {},
   "source": [
    "#### 2. What is the value of a dictionary value with the key 'foo' and the value 42?"
   ]
  },
  {
   "cell_type": "code",
   "execution_count": 5,
   "id": "35adeb45",
   "metadata": {},
   "outputs": [
    {
     "data": {
      "text/plain": [
       "dict_values([42])"
      ]
     },
     "execution_count": 5,
     "metadata": {},
     "output_type": "execute_result"
    }
   ],
   "source": [
    "{'foo':42}.values()"
   ]
  },
  {
   "cell_type": "markdown",
   "id": "14dbfc50",
   "metadata": {},
   "source": [
    "#### 3. What is the most significant distinction between a dictionary and a list?"
   ]
  },
  {
   "cell_type": "markdown",
   "id": "db60db52",
   "metadata": {},
   "source": [
    "Dictinaries:\n",
    "Dictionaries are represented by {} \n",
    "The Items stored in a dictionary are Unordered \n",
    "Dictionary are stored as key,values pairs,\n",
    "\n",
    "Lists:   \n",
    "the items in a list are ordered\n",
    "listed are represented by []\n",
    "Lists need not be homogeneous always which makes it a most powerful tool in Python.\n",
    "A single list may contain DataTypes like Integers, Strings, as well as Objects.\n",
    "Lists are mutable, and hence, they can be altered even after their creation."
   ]
  },
  {
   "cell_type": "code",
   "execution_count": 6,
   "id": "ea9b3ecf",
   "metadata": {},
   "outputs": [
    {
     "data": {
      "text/plain": [
       "[('List is a collection of index values pairs as that of array in c++',\n",
       "  'Dictionary is a hashed structure of key and value pairs.'),\n",
       " ('List is created by placing elements in [ ] separated by commas “, “',\n",
       "  'There is no guarantee for maintaining ord'),\n",
       " ('The indices of list are integers starting from 0.',\n",
       "  'The elements are accessed via key-values.'),\n",
       " ('The elements are accessed via indices.',\n",
       "  'Dictionary is created by placing elements in { } as “key”:”value”, each key value pair is separated by commas “, “'),\n",
       " ('The order of the elements entered are maintained.',\n",
       "  'The keys of dictionary can be of any data type.')]"
      ]
     },
     "execution_count": 6,
     "metadata": {},
     "output_type": "execute_result"
    }
   ],
   "source": [
    "\n",
    "List=['List is a collection of index values pairs as that of array in c++',\n",
    "'List is created by placing elements in [ ] separated by commas “, “',\n",
    "'The indices of list are integers starting from 0.',\n",
    "'The elements are accessed via indices.',\n",
    "'The order of the elements entered are maintained.']\n",
    "\n",
    "\n",
    "Dictionary=['Dictionary is a hashed structure of key and value pairs.',\n",
    "'There is no guarantee for maintaining ord',\n",
    "'The elements are accessed via key-values.',\n",
    "'Dictionary is created by placing elements in { } as “key”:”value”, each key value pair is separated by commas “, “',\n",
    "'The keys of dictionary can be of any data type.']\n",
    "\n",
    "x=zip(List,Dictionary)\n",
    "list(x)"
   ]
  },
  {
   "cell_type": "code",
   "execution_count": 7,
   "id": "d5b578db",
   "metadata": {},
   "outputs": [
    {
     "data": {
      "text/html": [
       "<div>\n",
       "<style scoped>\n",
       "    .dataframe tbody tr th:only-of-type {\n",
       "        vertical-align: middle;\n",
       "    }\n",
       "\n",
       "    .dataframe tbody tr th {\n",
       "        vertical-align: top;\n",
       "    }\n",
       "\n",
       "    .dataframe thead th {\n",
       "        text-align: right;\n",
       "    }\n",
       "</style>\n",
       "<table border=\"1\" class=\"dataframe\">\n",
       "  <thead>\n",
       "    <tr style=\"text-align: right;\">\n",
       "      <th></th>\n",
       "      <th>List</th>\n",
       "      <th>Dictionary</th>\n",
       "    </tr>\n",
       "  </thead>\n",
       "  <tbody>\n",
       "    <tr>\n",
       "      <th>0</th>\n",
       "      <td>List is a collection of index values pairs as ...</td>\n",
       "      <td>Dictionary is a hashed structure of key and va...</td>\n",
       "    </tr>\n",
       "    <tr>\n",
       "      <th>1</th>\n",
       "      <td>List is created by placing elements in [ ] sep...</td>\n",
       "      <td>There is no guarantee for maintaining ord</td>\n",
       "    </tr>\n",
       "    <tr>\n",
       "      <th>2</th>\n",
       "      <td>The indices of list are integers starting from 0.</td>\n",
       "      <td>The elements are accessed via key-values.</td>\n",
       "    </tr>\n",
       "    <tr>\n",
       "      <th>3</th>\n",
       "      <td>The elements are accessed via indices.</td>\n",
       "      <td>Dictionary is created by placing elements in {...</td>\n",
       "    </tr>\n",
       "    <tr>\n",
       "      <th>4</th>\n",
       "      <td>The order of the elements entered are maintained.</td>\n",
       "      <td>The keys of dictionary can be of any data type.</td>\n",
       "    </tr>\n",
       "  </tbody>\n",
       "</table>\n",
       "</div>"
      ],
      "text/plain": [
       "                                                List  \\\n",
       "0  List is a collection of index values pairs as ...   \n",
       "1  List is created by placing elements in [ ] sep...   \n",
       "2  The indices of list are integers starting from 0.   \n",
       "3             The elements are accessed via indices.   \n",
       "4  The order of the elements entered are maintained.   \n",
       "\n",
       "                                          Dictionary  \n",
       "0  Dictionary is a hashed structure of key and va...  \n",
       "1          There is no guarantee for maintaining ord  \n",
       "2          The elements are accessed via key-values.  \n",
       "3  Dictionary is created by placing elements in {...  \n",
       "4    The keys of dictionary can be of any data type.  "
      ]
     },
     "execution_count": 7,
     "metadata": {},
     "output_type": "execute_result"
    }
   ],
   "source": [
    "import pandas as pd\n",
    "import numpy as np\n",
    "df1=pd.DataFrame(data=[List,Dictionary],index=['List','Dictionary']).T\n",
    "df1"
   ]
  },
  {
   "cell_type": "markdown",
   "id": "28ffe3f3",
   "metadata": {},
   "source": [
    "#### 4. What happens if you try to access spam['foo'] if spam is {'bar': 100}?"
   ]
  },
  {
   "cell_type": "code",
   "execution_count": 8,
   "id": "7112f369",
   "metadata": {},
   "outputs": [
    {
     "ename": "KeyError",
     "evalue": "'foo'",
     "output_type": "error",
     "traceback": [
      "\u001b[1;31m---------------------------------------------------------------------------\u001b[0m",
      "\u001b[1;31mKeyError\u001b[0m                                  Traceback (most recent call last)",
      "Input \u001b[1;32mIn [8]\u001b[0m, in \u001b[0;36m<cell line: 3>\u001b[1;34m()\u001b[0m\n\u001b[0;32m      1\u001b[0m spam \u001b[38;5;241m=\u001b[39m{\u001b[38;5;124m'\u001b[39m\u001b[38;5;124mbar\u001b[39m\u001b[38;5;124m'\u001b[39m:\u001b[38;5;241m100\u001b[39m}\n\u001b[0;32m      2\u001b[0m \u001b[38;5;28;01mimport\u001b[39;00m \u001b[38;5;21;01mexceptiongroup\u001b[39;00m \n\u001b[1;32m----> 3\u001b[0m \u001b[43mspam\u001b[49m\u001b[43m[\u001b[49m\u001b[38;5;124;43m'\u001b[39;49m\u001b[38;5;124;43mfoo\u001b[39;49m\u001b[38;5;124;43m'\u001b[39;49m\u001b[43m]\u001b[49m\n",
      "\u001b[1;31mKeyError\u001b[0m: 'foo'"
     ]
    }
   ],
   "source": [
    "spam ={'bar':100}\n",
    "import exceptiongroup \n",
    "spam['foo']"
   ]
  },
  {
   "cell_type": "markdown",
   "id": "4a686c22",
   "metadata": {},
   "source": [
    "**Ans**:`KeyError: 'foo'`"
   ]
  },
  {
   "cell_type": "markdown",
   "id": "87092ef4",
   "metadata": {},
   "source": [
    "#### 5. If a dictionary is stored in spam, what is the difference between the expressions 'cat' in spam and 'cat' in spam.keys()?"
   ]
  },
  {
   "cell_type": "markdown",
   "id": "3e93c912",
   "metadata": {},
   "source": [
    "**Ans:**: There is no difference . The operator checks whether a value exits as a key in the dictionary or not"
   ]
  },
  {
   "cell_type": "markdown",
   "id": "714300d1",
   "metadata": {},
   "source": [
    "#### 6. If a dictionary is stored in spam, what is the difference between the expressions 'cat' in spam and 'cat' in spam.values()?"
   ]
  },
  {
   "cell_type": "markdown",
   "id": "7db53124",
   "metadata": {},
   "source": [
    "**Ans:**'cat' in spam checks whether there is a 'cat' key in the dictionary, while 'cat' in spam.values() checks whether there is a value 'cat' for one of the keys in spam."
   ]
  },
  {
   "cell_type": "markdown",
   "id": "2e69f4e1",
   "metadata": {},
   "source": [
    "#### 7. What is a shortcut for the following code?\n",
    "\n",
    "if 'color' not in spam:\n",
    "\n",
    "spam['color'] = 'black'"
   ]
  },
  {
   "cell_type": "markdown",
   "id": "b3b59ca8",
   "metadata": {},
   "source": [
    "**Ans:**\n",
    "spam.setdefault('color','black')"
   ]
  },
  {
   "cell_type": "code",
   "execution_count": null,
   "id": "71e2a84a",
   "metadata": {},
   "outputs": [],
   "source": [
    "spam.setdefault('color','black')\n",
    "spam"
   ]
  },
  {
   "cell_type": "markdown",
   "id": "df0c006f",
   "metadata": {},
   "source": [
    "#### 8. How do you \"pretty print\" dictionary values using which module and function?"
   ]
  },
  {
   "cell_type": "markdown",
   "id": "af7e47cb",
   "metadata": {},
   "source": [
    "**Ans:** we can pretty print a dictionary using three functions\n",
    "\n",
    "by using pprint() function of pprint module\n",
    "\n",
    "pprint() function doesnot prettify nested dictionaries\n",
    "by using dumps() method of json module\n",
    "\n",
    "by using dumps() method of yaml module"
   ]
  },
  {
   "cell_type": "code",
   "execution_count": 9,
   "id": "e084c771",
   "metadata": {},
   "outputs": [
    {
     "name": "stdout",
     "output_type": "stream",
     "text": [
      "Printing using print() function\n",
      " [{'Name': 'Krish', 'Age': '35', 'Residence': {'Country': 'India', 'City': 'India'}}, {'Name': 'Aman', 'Age': '23', 'Residence': {'Country': 'Spain', 'City': 'Madrid'}}, {'Name': 'Alakh Panday', 'Age': '30', 'Residence': {'Country': 'UK', 'City': 'England'}}, {'Name': 'Sudhanshu', 'Age': '35', 'Residence': {'Country': 'Japan', 'City': 'Osaka'}}]\n",
      "----------------------------------------------------------------------\n",
      "Printing using pprint() funciton\n",
      "[{'Age': '35',\n",
      "  'Name': 'Krish',\n",
      "  'Residence': {'City': 'India', 'Country': 'India'}},\n",
      " {'Age': '23',\n",
      "  'Name': 'Aman',\n",
      "  'Residence': {'City': 'Madrid', 'Country': 'Spain'}},\n",
      " {'Age': '30',\n",
      "  'Name': 'Alakh Panday',\n",
      "  'Residence': {'City': 'England', 'Country': 'UK'}},\n",
      " {'Age': '35',\n",
      "  'Name': 'Sudhanshu',\n",
      "  'Residence': {'City': 'Osaka', 'Country': 'Japan'}}]\n",
      "----------------------------------------------------------------------\n",
      "Printing using dumps() method\n",
      " [\n",
      "    {\n",
      "        \"Name\": \"Krish\",\n",
      "        \"Age\": \"35\",\n",
      "        \"Residence\": {\n",
      "            \"Country\": \"India\",\n",
      "            \"City\": \"India\"\n",
      "        }\n",
      "    },\n",
      "    {\n",
      "        \"Name\": \"Aman\",\n",
      "        \"Age\": \"23\",\n",
      "        \"Residence\": {\n",
      "            \"Country\": \"Spain\",\n",
      "            \"City\": \"Madrid\"\n",
      "        }\n",
      "    },\n",
      "    {\n",
      "        \"Name\": \"Alakh Panday\",\n",
      "        \"Age\": \"30\",\n",
      "        \"Residence\": {\n",
      "            \"Country\": \"UK\",\n",
      "            \"City\": \"England\"\n",
      "        }\n",
      "    },\n",
      "    {\n",
      "        \"Name\": \"Sudhanshu\",\n",
      "        \"Age\": \"35\",\n",
      "        \"Residence\": {\n",
      "            \"Country\": \"Japan\",\n",
      "            \"City\": \"Osaka\"\n",
      "        }\n",
      "    }\n",
      "]\n",
      "----------------------------------------------------------------------\n",
      "Printing using dump() method\n",
      " - Age: '35'\n",
      "  Name: Krish\n",
      "  Residence:\n",
      "    City: India\n",
      "    Country: India\n",
      "- Age: '23'\n",
      "  Name: Aman\n",
      "  Residence:\n",
      "    City: Madrid\n",
      "    Country: Spain\n",
      "- Age: '30'\n",
      "  Name: Alakh Panday\n",
      "  Residence:\n",
      "    City: England\n",
      "    Country: UK\n",
      "- Age: '35'\n",
      "  Name: Sudhanshu\n",
      "  Residence:\n",
      "    City: Osaka\n",
      "    Country: Japan\n",
      "\n"
     ]
    }
   ],
   "source": [
    "ndict = [\n",
    "  {'Name': 'Krish', 'Age': '35', 'Residence': {'Country':'India', 'City': 'India'}},\n",
    "  {'Name': 'Aman', 'Age': '23', 'Residence': {'Country':'Spain', 'City': 'Madrid'}},\n",
    "  {'Name': 'Alakh Panday', 'Age': '30', 'Residence': {'Country':'UK', 'City': 'England'}},\n",
    "  {'Name': 'Sudhanshu', 'Age': '35', 'Residence': {'Country':'Japan', 'City': 'Osaka'}}\n",
    "]\n",
    "\n",
    "print('Printing using print() function\\n',ndict)\n",
    "print('-'*70)\n",
    "import pprint\n",
    "print('Printing using pprint() funciton')\n",
    "pprint.pprint(ndict)\n",
    "print('-'*70)\n",
    "import json\n",
    "dump = json.dumps(ndict, indent=4)\n",
    "print('Printing using dumps() method\\n', dump)\n",
    "print('-'*70)\n",
    "import yaml\n",
    "dump = yaml.dump(ndict)\n",
    "print('Printing using dump() method\\n', dump)\n"
   ]
  }
 ],
 "metadata": {
  "hide_input": false,
  "kernelspec": {
   "display_name": "Neuron",
   "language": "python",
   "name": "neuron"
  },
  "language_info": {
   "codemirror_mode": {
    "name": "ipython",
    "version": 3
   },
   "file_extension": ".py",
   "mimetype": "text/x-python",
   "name": "python",
   "nbconvert_exporter": "python",
   "pygments_lexer": "ipython3",
   "version": "3.10.4"
  },
  "nbTranslate": {
   "displayLangs": [
    "*"
   ],
   "hotkey": "alt-t",
   "langInMainMenu": true,
   "sourceLang": "en",
   "targetLang": "fr",
   "useGoogleTranslate": true
  },
  "toc": {
   "base_numbering": 1,
   "nav_menu": {},
   "number_sections": true,
   "sideBar": true,
   "skip_h1_title": false,
   "title_cell": "Table of Contents",
   "title_sidebar": "Contents",
   "toc_cell": false,
   "toc_position": {},
   "toc_section_display": true,
   "toc_window_display": false
  }
 },
 "nbformat": 4,
 "nbformat_minor": 5
}
