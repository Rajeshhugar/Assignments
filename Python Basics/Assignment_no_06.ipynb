{
 "cells": [
  {
   "cell_type": "markdown",
   "id": "dfc8e26c",
   "metadata": {
    "run_control": {
     "marked": true
    }
   },
   "source": [
    "#### 1. What are escape characters, and how do you use them?"
   ]
  },
  {
   "cell_type": "markdown",
   "id": "7e90c3ca",
   "metadata": {},
   "source": [
    "**Ans:** Escape characters represent characters in string values that would otherwise be difficult or impossible to type into code. we can use the backslash `character` to escape a single character or symbol  \n",
    "**example:** `\\t, \\n`"
   ]
  },
  {
   "cell_type": "markdown",
   "id": "fe0f8822",
   "metadata": {
    "run_control": {
     "marked": true
    }
   },
   "source": [
    "#### 2. What do the escape characters n and t stand for?"
   ]
  },
  {
   "cell_type": "markdown",
   "id": "61bb2a4c",
   "metadata": {},
   "source": [
    "**Ans:** `\\n` is a newline, `\\t` is a tab"
   ]
  },
  {
   "cell_type": "markdown",
   "id": "0aa17ee9",
   "metadata": {
    "run_control": {
     "marked": true
    }
   },
   "source": [
    "#### 3. What is the way to include backslash characters in a string?"
   ]
  },
  {
   "cell_type": "markdown",
   "id": "2b6d9e99",
   "metadata": {},
   "source": [
    "**Ans:** The `\\\\` escape character will represent the backslash character in a string"
   ]
  },
  {
   "cell_type": "markdown",
   "id": "247e26f9",
   "metadata": {
    "run_control": {
     "marked": true
    }
   },
   "source": [
    "#### 4. The string \"Howl's Moving Castle\" is a correct value. Why isn't the single quote character in the word Howl's not escaped a problem?"
   ]
  },
  {
   "cell_type": "markdown",
   "id": "638d6a92",
   "metadata": {},
   "source": [
    "**Ans:** The string `\"Howl's Moving Castle\"` escaped the problem because it is wrapped inside double quotes. if its wrapped inside single quotes ,\n",
    "then we have to use escape character `\\'` to show single quote in the final output  "
   ]
  },
  {
   "cell_type": "code",
   "execution_count": 13,
   "id": "ceb8c00d",
   "metadata": {},
   "outputs": [
    {
     "data": {
      "text/plain": [
       "\"Howl's Moving Castle\""
      ]
     },
     "execution_count": 13,
     "metadata": {},
     "output_type": "execute_result"
    }
   ],
   "source": [
    "'Howl\\'s Moving Castle'"
   ]
  },
  {
   "cell_type": "markdown",
   "id": "49629832",
   "metadata": {
    "run_control": {
     "marked": true
    }
   },
   "source": [
    "#### 5. How do you write a string of newlines if you don't want to use the n character?"
   ]
  },
  {
   "cell_type": "markdown",
   "id": "d4b84ad0",
   "metadata": {},
   "source": [
    "**Ans :** Multiline string allow you to use newlines in string without the `\\n` escape character  \n"
   ]
  },
  {
   "cell_type": "code",
   "execution_count": 12,
   "id": "58c48faa",
   "metadata": {},
   "outputs": [
    {
     "name": "stdout",
     "output_type": "stream",
     "text": [
      "\n",
      "Machine Learning and \n",
      "Deep Learning are subset of AI\n",
      "\n"
     ]
    }
   ],
   "source": [
    "string=\"\"\"\n",
    "Machine Learning and \n",
    "Deep Learning are subset of AI\n",
    "\"\"\"\n",
    "print(string)"
   ]
  },
  {
   "cell_type": "markdown",
   "id": "af506ab2",
   "metadata": {
    "run_control": {
     "marked": true
    }
   },
   "source": [
    "#### 6. What are the values of the given expressions?\n",
    "\n",
    "'Hello, world!'[1]\n",
    "\n",
    "'Hello, world!'[0:5]\n",
    "\n",
    "'Hello, world!'[:5]\n",
    "\n",
    "'Hello, world!'[3:]"
   ]
  },
  {
   "cell_type": "code",
   "execution_count": 11,
   "id": "a44acd18",
   "metadata": {},
   "outputs": [
    {
     "name": "stdout",
     "output_type": "stream",
     "text": [
      "e\n",
      "Hello\n",
      "Hello\n",
      "lo, world!\n"
     ]
    }
   ],
   "source": [
    "print('Hello, world!'[1])\n",
    "\n",
    "print('Hello, world!'[0:5])\n",
    "\n",
    "print('Hello, world!'[:5])\n",
    "\n",
    "print('Hello, world!'[3:])"
   ]
  },
  {
   "cell_type": "markdown",
   "id": "c9874b26",
   "metadata": {
    "run_control": {
     "marked": true
    }
   },
   "source": [
    "#### 7. What are the values of the following expressions?\n",
    "\n",
    "'Hello'.upper()\n",
    "\n",
    "'Hello'.upper().isupper()\n",
    "\n",
    "'Hello'.upper().lower()"
   ]
  },
  {
   "cell_type": "code",
   "execution_count": 8,
   "id": "f48f21d2",
   "metadata": {},
   "outputs": [
    {
     "name": "stdout",
     "output_type": "stream",
     "text": [
      "HELLO\n",
      "True\n",
      "hello\n"
     ]
    }
   ],
   "source": [
    "print('Hello'.upper())\n",
    "\n",
    "print('Hello'.upper().isupper())\n",
    "\n",
    "print('Hello'.upper().lower())"
   ]
  },
  {
   "cell_type": "markdown",
   "id": "f2afee22",
   "metadata": {
    "run_control": {
     "marked": true
    }
   },
   "source": [
    "#### 8. What are the values of the following expressions?\n",
    "\n",
    "'Remember, remember, the fifth of July.'.split()\n",
    "\n",
    "'-'.join('There can only one.'.split())"
   ]
  },
  {
   "cell_type": "markdown",
   "id": "094ada48",
   "metadata": {},
   "source": [
    "**Ans:** The values for the given expressions are:  "
   ]
  },
  {
   "cell_type": "code",
   "execution_count": 4,
   "id": "66ce22f3",
   "metadata": {},
   "outputs": [
    {
     "data": {
      "text/plain": [
       "['Remember,', 'remember,', 'the', 'fifith', 'of', 'July.']"
      ]
     },
     "execution_count": 4,
     "metadata": {},
     "output_type": "execute_result"
    }
   ],
   "source": [
    "'Remember, remember, the fifith of July.'.split() "
   ]
  },
  {
   "cell_type": "code",
   "execution_count": 5,
   "id": "63ce1a3a",
   "metadata": {},
   "outputs": [
    {
     "data": {
      "text/plain": [
       "'There-can-only-one'"
      ]
     },
     "execution_count": 5,
     "metadata": {},
     "output_type": "execute_result"
    }
   ],
   "source": [
    "\"-\".join('There can only one'.split())"
   ]
  },
  {
   "cell_type": "markdown",
   "id": "406cc5d4",
   "metadata": {
    "run_control": {
     "marked": true
    }
   },
   "source": [
    "#### 9. What are the methods for right-justifying, left-justifying, and centering a string?"
   ]
  },
  {
   "cell_type": "markdown",
   "id": "f1f1a215",
   "metadata": {},
   "source": [
    "**Ans:** The `rjust()`,`ljust()`,`center()` string methods, respectively"
   ]
  },
  {
   "cell_type": "markdown",
   "id": "0223de48",
   "metadata": {
    "run_control": {
     "marked": true
    }
   },
   "source": [
    "#### 10. What is the best way to remove whitespace characters from the start or end?"
   ]
  },
  {
   "cell_type": "markdown",
   "id": "25a574b2",
   "metadata": {},
   "source": [
    "**Ans:** The `lstrip()` and `rstrip()` methods remove whitesapce characters from the left and right ends of a string respectively"
   ]
  },
  {
   "cell_type": "code",
   "execution_count": null,
   "id": "9b0dbffa",
   "metadata": {},
   "outputs": [],
   "source": []
  },
  {
   "cell_type": "code",
   "execution_count": null,
   "id": "886176ad",
   "metadata": {},
   "outputs": [],
   "source": []
  }
 ],
 "metadata": {
  "hide_input": false,
  "kernelspec": {
   "display_name": "Neuron",
   "language": "python",
   "name": "neuron"
  },
  "language_info": {
   "codemirror_mode": {
    "name": "ipython",
    "version": 3
   },
   "file_extension": ".py",
   "mimetype": "text/x-python",
   "name": "python",
   "nbconvert_exporter": "python",
   "pygments_lexer": "ipython3",
   "version": "3.10.4"
  },
  "nbTranslate": {
   "displayLangs": [
    "*"
   ],
   "hotkey": "alt-t",
   "langInMainMenu": true,
   "sourceLang": "en",
   "targetLang": "fr",
   "useGoogleTranslate": true
  },
  "toc": {
   "base_numbering": 1,
   "nav_menu": {},
   "number_sections": true,
   "sideBar": true,
   "skip_h1_title": false,
   "title_cell": "Table of Contents",
   "title_sidebar": "Contents",
   "toc_cell": false,
   "toc_position": {},
   "toc_section_display": true,
   "toc_window_display": false
  }
 },
 "nbformat": 4,
 "nbformat_minor": 5
}
