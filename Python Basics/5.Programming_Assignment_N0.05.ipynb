{
 "cells": [
  {
   "cell_type": "markdown",
   "id": "13608fb8",
   "metadata": {},
   "source": [
    "1.Write a Python Program to Find LCM?"
   ]
  },
  {
   "cell_type": "code",
   "execution_count": 112,
   "id": "b8cbd6cf",
   "metadata": {
    "run_control": {
     "marked": true
    }
   },
   "outputs": [
    {
     "name": "stdout",
     "output_type": "stream",
     "text": [
      "1 2 4 5 10 20 25 50 100 \n",
      "1 2 4 5 8 10 20 25 40 50 100 200 \n"
     ]
    }
   ],
   "source": [
    "li=[100,200]\n",
    "if len(li)==1:\n",
    "    for i in range(1,li[0]+1):\n",
    "         if(x % i == 0):\n",
    "            print(i)\n",
    "elif len(li)>1:\n",
    "    for i,ele in enumerate(li):\n",
    "            for i in range(1,ele+1):\n",
    "                if ele % i ==0:\n",
    "                    print(i,end=\" \")\n",
    "            print()\n"
   ]
  },
  {
   "cell_type": "code",
   "execution_count": 101,
   "id": "326a4291",
   "metadata": {},
   "outputs": [
    {
     "name": "stdout",
     "output_type": "stream",
     "text": [
      "1 2 4 7 8 14 28 56 \n",
      "1 2 4 \n",
      "1 2 17 34 \n",
      "1 2 4 7 8 14 28 56 \n",
      "1 2 3 6 13 26 39 78 \n",
      "1 3 9 \n",
      "1 2 17 34 \n"
     ]
    }
   ],
   "source": [
    "list1=[56,4,34,56,78,9,34]\n",
    "for i,ele in enumerate(list1):\n",
    "    for i in range(1,ele+1):\n",
    "        if ele % i ==0:\n",
    "            print(i,end=\" \")\n",
    "    print()"
   ]
  },
  {
   "cell_type": "code",
   "execution_count": 63,
   "id": "81ffe85b",
   "metadata": {},
   "outputs": [
    {
     "name": "stdout",
     "output_type": "stream",
     "text": [
      "****************************************\n",
      "1  \n",
      "****************************************\n",
      "1  \n",
      "2  \n",
      "4  \n",
      "8  \n",
      "16  \n",
      "32  \n",
      "****************************************\n",
      "1  \n",
      "3  \n",
      "****************************************\n",
      "1  \n",
      "2  \n",
      "4  \n",
      "****************************************\n",
      "1  \n",
      "5  \n"
     ]
    }
   ],
   "source": [
    "x=[1,32,3,4,5]\n",
    "if len(x)>1:\n",
    "    for i,ele in enumerate(x):\n",
    "            print('**'*20)\n",
    "            for i in range(1,ele+1):\n",
    "                if ele % i ==0:\n",
    "                    print(i,end=\"  \")\n",
    "                    print()\n",
    "                    \n",
    "           \n",
    "            \n",
    "              \n",
    "            \n",
    "\n",
    "                "
   ]
  },
  {
   "cell_type": "markdown",
   "id": "90a4901f",
   "metadata": {},
   "source": [
    "2.Write a Python Program to Find HCF?"
   ]
  },
  {
   "cell_type": "code",
   "execution_count": 121,
   "id": "405df337",
   "metadata": {},
   "outputs": [
    {
     "name": "stdout",
     "output_type": "stream",
     "text": [
      "Hcf of 36 and 45 is 9\n"
     ]
    }
   ],
   "source": [
    "num1 = 36\n",
    "num2 = 45\n",
    "hcf = 1\n",
    "\n",
    "for i in range(1, min(num1, num2)):\n",
    "    if num1 % i == 0 and num2 % i == 0:\n",
    "        hcf = i\n",
    "print(\"Hcf of\", num1, \"and\", num2, \"is\", hcf)"
   ]
  },
  {
   "cell_type": "code",
   "execution_count": 122,
   "id": "0503a285",
   "metadata": {},
   "outputs": [
    {
     "name": "stdout",
     "output_type": "stream",
     "text": [
      "Hcf of 36 and 45 is 9\n"
     ]
    }
   ],
   "source": [
    "def getHCF(a, b):\n",
    "    return b == 0 and a or getHCF(b, a % b)\n",
    "\n",
    "num1 = 36\n",
    "num2 = 45\n",
    "\n",
    "print(\"Hcf of\", num1, \"and\", num2, \"is\", getHCF(num1, num2))"
   ]
  },
  {
   "cell_type": "code",
   "execution_count": null,
   "id": "a6f98720",
   "metadata": {},
   "outputs": [],
   "source": []
  },
  {
   "cell_type": "markdown",
   "id": "db14876f",
   "metadata": {},
   "source": [
    "3.Write a Python Program to Convert Decimal to Binary, Octal and Hexadecimal?"
   ]
  },
  {
   "cell_type": "code",
   "execution_count": 45,
   "id": "2ab5d2d7",
   "metadata": {
    "run_control": {
     "marked": true
    }
   },
   "outputs": [
    {
     "name": "stdout",
     "output_type": "stream",
     "text": [
      "The decimal value of {3} is:\n",
      "0b11 in binary.\n",
      "0o3 in octal.\n",
      "0x3 in hexadecimal.\n",
      "******************************\n",
      "The decimal value of {2} is:\n",
      "0b10 in binary.\n",
      "0o2 in octal.\n",
      "0x2 in hexadecimal.\n",
      "******************************\n",
      "The decimal value of {7} is:\n",
      "0b111 in binary.\n",
      "0o7 in octal.\n",
      "0x7 in hexadecimal.\n",
      "******************************\n",
      "The decimal value of {8} is:\n",
      "0b1000 in binary.\n",
      "0o10 in octal.\n",
      "0x8 in hexadecimal.\n",
      "******************************\n",
      "The decimal value of {9} is:\n",
      "0b1001 in binary.\n",
      "0o11 in octal.\n",
      "0x9 in hexadecimal.\n",
      "******************************\n"
     ]
    }
   ],
   "source": [
    "def bin_Oct_hex(self,*args):\n",
    "    num=list(args)\n",
    "    for i in (num):\n",
    "        print(f\"The decimal value of\",{i}, \"is:\")\n",
    "        print(bin(i), \"in binary.\")\n",
    "        print(oct(i), \"in octal.\")\n",
    "        print(hex(i), \"in hexadecimal.\")\n",
    "        print(\"*\"*30)\n",
    "        \n",
    "bin_Oct_hex(5,3,2,7,8,9)\n"
   ]
  },
  {
   "cell_type": "markdown",
   "id": "773a68fd",
   "metadata": {},
   "source": [
    "4.Write a Python Program To Find ASCII value of a character?"
   ]
  },
  {
   "cell_type": "code",
   "execution_count": 130,
   "id": "4c9fe6f5",
   "metadata": {},
   "outputs": [
    {
     "data": {
      "text/plain": [
       "(\"The character value of 'k' ASCII value is: \", 107)"
      ]
     },
     "execution_count": 130,
     "metadata": {},
     "output_type": "execute_result"
    }
   ],
   "source": [
    "def ASCHII(kn):\n",
    "        return (f\"The character value of '{kn}' ASCII value is: \", ord(kn))      \n",
    "ASCHII(\"k\")    "
   ]
  },
  {
   "cell_type": "markdown",
   "id": "25a7c5d0",
   "metadata": {},
   "source": [
    "5.Write a Python Program to Make a Simple Calculator with 4 basic mathematical operations?"
   ]
  },
  {
   "cell_type": "code",
   "execution_count": 21,
   "id": "64873d1d",
   "metadata": {},
   "outputs": [],
   "source": [
    "class mathematics:\n",
    "    \"\"\"\n",
    "    class is used to perform \n",
    "    mathematical operations \n",
    "    \n",
    "    \"\"\"\n",
    "    def __init__(self,a,b): \n",
    "        self.a=a\n",
    "        self.b=b\n",
    "        \n",
    "    def addition(self):\n",
    "        add=self.a + self.b\n",
    "        return add\n",
    "    def substraction(self):\n",
    "        sub= self.a -self.b\n",
    "        return sub\n",
    "    def multiplication(self):\n",
    "        mul =self.a-self.b\n",
    "        return mul\n",
    "    def division(self):\n",
    "        divide=self.a /self.b\n",
    "        return divide"
   ]
  },
  {
   "cell_type": "code",
   "execution_count": 29,
   "id": "51d14b2d",
   "metadata": {},
   "outputs": [
    {
     "name": "stdout",
     "output_type": "stream",
     "text": [
      "Addition : 19\n",
      "substraction : 9\n",
      "multiplication : 9\n",
      "division : 2.8\n"
     ]
    }
   ],
   "source": [
    "math=mathematics(14,5)\n",
    "print(\"Addition :\",math.addition())\n",
    "print(\"substraction :\",math.substraction())\n",
    "print(\"multiplication :\",math.multiplication())\n",
    "print(\"division :\",math.division())"
   ]
  },
  {
   "cell_type": "code",
   "execution_count": 11,
   "id": "c4f88561",
   "metadata": {},
   "outputs": [],
   "source": []
  },
  {
   "cell_type": "code",
   "execution_count": null,
   "id": "455bc1d7",
   "metadata": {},
   "outputs": [],
   "source": []
  }
 ],
 "metadata": {
  "hide_input": false,
  "kernelspec": {
   "display_name": "Neuron",
   "language": "python",
   "name": "neuron"
  },
  "language_info": {
   "codemirror_mode": {
    "name": "ipython",
    "version": 3
   },
   "file_extension": ".py",
   "mimetype": "text/x-python",
   "name": "python",
   "nbconvert_exporter": "python",
   "pygments_lexer": "ipython3",
   "version": "3.10.4"
  },
  "nbTranslate": {
   "displayLangs": [
    "*"
   ],
   "hotkey": "alt-t",
   "langInMainMenu": true,
   "sourceLang": "en",
   "targetLang": "fr",
   "useGoogleTranslate": true
  },
  "toc": {
   "base_numbering": 1,
   "nav_menu": {},
   "number_sections": true,
   "sideBar": true,
   "skip_h1_title": false,
   "title_cell": "Table of Contents",
   "title_sidebar": "Contents",
   "toc_cell": false,
   "toc_position": {},
   "toc_section_display": true,
   "toc_window_display": false
  }
 },
 "nbformat": 4,
 "nbformat_minor": 5
}
