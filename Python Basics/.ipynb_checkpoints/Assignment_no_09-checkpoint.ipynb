{
 "cells": [
  {
   "cell_type": "markdown",
   "id": "b499f9e9",
   "metadata": {},
   "source": [
    "#### 1. To what does a relative path refer?"
   ]
  },
  {
   "cell_type": "markdown",
   "id": "4480b8b1",
   "metadata": {},
   "source": [
    "**Ans:** The relative path is the path to some file with respect to your current working directory (PWD).  \n",
    "**For example:** if Absolute path to a file called stuff.txt is: `C:/users/admin/docs/stuff.txt` If my PWD is `C:/users/admin/` , then the relative path to `stuff.txt` would be: `docs/stuff.txt`       \n",
    "**Note:** PWD + relative path = absolute path"
   ]
  },
  {
   "cell_type": "markdown",
   "id": "02aed261",
   "metadata": {},
   "source": [
    "#### 2. What does an absolute path start with your operating system?"
   ]
  },
  {
   "cell_type": "markdown",
   "id": "78ffc3ca",
   "metadata": {},
   "source": [
    "**Ans:** In Windows based systems absolute path starts with **`C:`**\n",
    "\n",
    " In Linux based systems the absolute path starts with **`/`**. "
   ]
  },
  {
   "cell_type": "markdown",
   "id": "8529149f",
   "metadata": {},
   "source": [
    "#### 3. What do the functions os.getcwd() and os.chdir() do?"
   ]
  },
  {
   "cell_type": "markdown",
   "id": "f75203dd",
   "metadata": {},
   "source": [
    "**Ans:** `os.getcwd()` method tells us the location of current working directory (CWD). Whereas `os.chdir()` method in Python used to change the current working directory to specified path. These functions are similar to linux commands `pwd` and `cd`"
   ]
  },
  {
   "cell_type": "code",
   "execution_count": 8,
   "id": "5e753881",
   "metadata": {},
   "outputs": [
    {
     "name": "stdout",
     "output_type": "stream",
     "text": [
      "D:\\FSDS ASSESMENTS\\FSDS Assignment(Submission)_rajesh\\Python Basics Ass\n",
      "D:\\FSDS ASSESMENTS\\FSDS Assignment(Submission)_rajesh\n"
     ]
    }
   ],
   "source": [
    "import os\n",
    "print(os.getcwd()) # Prints the current Working Directory\n",
    "path = r'D:\\FSDS ASSESMENTS\\FSDS Assignment(Submission)_rajesh'\n",
    "os.chdir(path)\n",
    "print(os.getcwd())"
   ]
  },
  {
   "cell_type": "markdown",
   "id": "b1c54f71",
   "metadata": {},
   "source": [
    "#### 4. What are the . and .. folders?"
   ]
  },
  {
   "cell_type": "markdown",
   "id": "348403d6",
   "metadata": {},
   "source": [
    "**Ans:** `.` Represents the Current Directory Whereas `..` Represents the Parent Directory of the Current Directory  \n",
    "**For Example:** \n",
    "\n",
    "if the below path is my absolute path:  \n",
    "`D:\\FSDS ASSESMENTS\\FSDS Assignment(Submission)_rajesh\\Python Basics Ass`\n",
    "\n",
    "Then `.` represents the path \n",
    "`D:\\FSDS ASSESMENTS\\FSDS Assignment(Submission)_rajesh\\Python Basics Ass`  \n",
    "\n",
    "Where as `..` represents the path\n",
    "`D:\\FSDS ASSESMENTS\\FSDS Assignment(Submission)_rajesh\\`"
   ]
  },
  {
   "cell_type": "markdown",
   "id": "40715362",
   "metadata": {},
   "source": [
    "#### 5. In C:\\bacon\\eggs\\spam.txt, which part is the dir name, and which part is the base name?"
   ]
  },
  {
   "cell_type": "markdown",
   "id": "ecd97f4e",
   "metadata": {},
   "source": [
    "**Ans:** For `C:\\bacon\\eggs\\spam.txt`  \n",
    "The dir name is `C:\\\\bacon\\\\eggs`  \n",
    "The Base name is `spam.txt`"
   ]
  },
  {
   "cell_type": "code",
   "execution_count": 1,
   "id": "a7409a85",
   "metadata": {},
   "outputs": [
    {
     "name": "stdout",
     "output_type": "stream",
     "text": [
      "C:\\bacon\\eggs\n",
      "spam.txt\n"
     ]
    }
   ],
   "source": [
    "import os\n",
    "path = r'C:\\bacon\\eggs\\spam.txt'\n",
    "print(os.path.dirname(path))\n",
    "print(os.path.basename(path))"
   ]
  },
  {
   "cell_type": "markdown",
   "id": "d4f7c0de",
   "metadata": {},
   "source": [
    "#### 6. What are the three “mode” arguments that can be passed to the open() function?"
   ]
  },
  {
   "cell_type": "markdown",
   "id": "3172332f",
   "metadata": {},
   "source": [
    "**Ans:** A file can be Accessed in python using `open()` function. open function takes two arguments filename and mode of operation (optional). if mode is not provided the default mode of opening is read mode   \n",
    "So, the syntax being: **`open(filename, mode)`**\n",
    "* **`‘r’`** – Read Mode: This is the default mode for open(). The file is opened and a pointer is positioned at the beginning of the file’s content.\n",
    "* **`‘w’`** – Write Mode: Using this mode will overwrite any existing content in a file. If the given file does not exist, a new one will be created. \n",
    "* **`‘r+’`** – Read/Write Mode: Use this mode if you need to simultaneously read and write to a file.\n",
    "* **`‘a’`** – Append Mode: With this mode the user can append the data without overwriting any already existing data in the file. \n",
    "* **`‘a+’`** – Append and Read Mode: In this mode you can read and append the data without overwriting the original file.\n",
    "* **`‘x’`** – Exclusive Creating Mode: This mode is for the sole purpose of creating new files. Use this mode if you know the file to be written doesn’t exist beforehand."
   ]
  },
  {
   "cell_type": "markdown",
   "id": "6619e9e8",
   "metadata": {},
   "source": [
    "#### 7. What happens if an existing file is opened in write mode?"
   ]
  },
  {
   "cell_type": "markdown",
   "id": "0e7d8f74",
   "metadata": {},
   "source": [
    "**Ans:** Using this mode will overwrite any existing content in a file. If the given file does not exist, a new one will be created."
   ]
  },
  {
   "cell_type": "markdown",
   "id": "c6f15bec",
   "metadata": {},
   "source": [
    "#### 8. How do you tell the difference between read() and readlines()?"
   ]
  },
  {
   "cell_type": "markdown",
   "id": "d81d960d",
   "metadata": {},
   "source": [
    "**Ans:** \n",
    "* The main difference is that **`read()`** will read the whole file at once and then print out the first characters that take up as many bytes as you specify in the parenthesis\n",
    "* The **`read()`** would treat each character in the file separately, meaning that the iteration would happen for every character.\n",
    "\n",
    "* Whereas the **`readline()`** that will read and print out only the first characters that take up as many bytes as you specify in the parenthesis. You may want to use readline() when you're reading files that are too big for your RAM.\n",
    "* The **`readline()`** function, on the other hand, only reads a single line of the file. This means that if the first line of the file were three lines long, the readline() function would only parse (or iterate/operate) on the first line of the file.\n"
   ]
  },
  {
   "cell_type": "markdown",
   "id": "7fb3101b",
   "metadata": {},
   "source": [
    "#### 9. What data structure does a shelf value resemble?"
   ]
  },
  {
   "cell_type": "markdown",
   "id": "cb98bad3",
   "metadata": {},
   "source": [
    "**Ans:** it contains key and values it represents dictionary."
   ]
  }
 ],
 "metadata": {
  "hide_input": false,
  "kernelspec": {
   "display_name": "Neuron",
   "language": "python",
   "name": "neuron"
  },
  "language_info": {
   "codemirror_mode": {
    "name": "ipython",
    "version": 3
   },
   "file_extension": ".py",
   "mimetype": "text/x-python",
   "name": "python",
   "nbconvert_exporter": "python",
   "pygments_lexer": "ipython3",
   "version": "3.10.4"
  },
  "nbTranslate": {
   "displayLangs": [
    "*"
   ],
   "hotkey": "alt-t",
   "langInMainMenu": true,
   "sourceLang": "en",
   "targetLang": "fr",
   "useGoogleTranslate": true
  },
  "toc": {
   "base_numbering": 1,
   "nav_menu": {},
   "number_sections": true,
   "sideBar": true,
   "skip_h1_title": false,
   "title_cell": "Table of Contents",
   "title_sidebar": "Contents",
   "toc_cell": false,
   "toc_position": {},
   "toc_section_display": true,
   "toc_window_display": false
  }
 },
 "nbformat": 4,
 "nbformat_minor": 5
}
