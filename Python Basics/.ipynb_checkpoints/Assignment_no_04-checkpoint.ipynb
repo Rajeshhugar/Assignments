{
 "cells": [
  {
   "cell_type": "markdown",
   "id": "d3c30a28",
   "metadata": {},
   "source": [
    "#### 1. What exactly is []?"
   ]
  },
  {
   "cell_type": "markdown",
   "id": "a4c70283",
   "metadata": {},
   "source": [
    "**Ans:**\n",
    "\n",
    "Squre brackets are used by list,The empty list represented by `[]` is a list that contains no items. In a similar way `''` which represents an empty string"
   ]
  },
  {
   "cell_type": "markdown",
   "id": "ec0569ae",
   "metadata": {},
   "source": [
    "#### 2. In a list of values stored in a variable called spam, how would you assign the value 'hello' as the third value? (Assume [2, 4, 6, 8, 10] are in spam.)\n",
    "Let's pretend the spam includes the list ['a', 'b', 'c', 'd'] for the next three queries."
   ]
  },
  {
   "cell_type": "code",
   "execution_count": 5,
   "id": "c7e55529",
   "metadata": {},
   "outputs": [
    {
     "data": {
      "text/plain": [
       "[2, 4, 'hello', 8, 10]"
      ]
     },
     "execution_count": 5,
     "metadata": {},
     "output_type": "execute_result"
    }
   ],
   "source": [
    "spam=[2,4,6,8,10]\n",
    "spam[2]='hello'\n",
    "spam"
   ]
  },
  {
   "cell_type": "code",
   "execution_count": null,
   "id": "ae31a02b",
   "metadata": {},
   "outputs": [],
   "source": []
  },
  {
   "cell_type": "markdown",
   "id": "b11f7121",
   "metadata": {},
   "source": [
    "#### 3. What is the value of spam[int(int('3' * 2) / 11)]?"
   ]
  },
  {
   "cell_type": "code",
   "execution_count": 8,
   "id": "48efd361",
   "metadata": {},
   "outputs": [
    {
     "name": "stdout",
     "output_type": "stream",
     "text": [
      "d\n",
      "<class 'str'>\n"
     ]
    }
   ],
   "source": [
    "spam = ['a','b','c','d']\n",
    "eq=spam[int(int('3'*2)/11)]\n",
    "print(eq)\n",
    "print(type(eq))\n"
   ]
  },
  {
   "cell_type": "markdown",
   "id": "c474fcfb",
   "metadata": {},
   "source": [
    "##### 4. What is the value of spam[-1]?"
   ]
  },
  {
   "cell_type": "code",
   "execution_count": 7,
   "id": "24937606",
   "metadata": {},
   "outputs": [
    {
     "data": {
      "text/plain": [
       "'d'"
      ]
     },
     "execution_count": 7,
     "metadata": {},
     "output_type": "execute_result"
    }
   ],
   "source": [
    "spam[-1]"
   ]
  },
  {
   "cell_type": "markdown",
   "id": "c357a2a2",
   "metadata": {},
   "source": [
    "#### 5. What is the value of spam[:2]?\n",
    "#### Let's pretend bacon has the list [3.14, 'cat,' 11, 'cat,' True] for the next three questions."
   ]
  },
  {
   "cell_type": "code",
   "execution_count": 23,
   "id": "491118c2",
   "metadata": {},
   "outputs": [
    {
     "data": {
      "text/plain": [
       "[3.14, 'cat']"
      ]
     },
     "execution_count": 23,
     "metadata": {},
     "output_type": "execute_result"
    }
   ],
   "source": [
    "bacon =[3.14, 'cat' ,11, 'cat', True]\n",
    "bacon[:2]"
   ]
  },
  {
   "cell_type": "markdown",
   "id": "93ed19ff",
   "metadata": {},
   "source": [
    "#### 6. What is the value of bacon.index('cat')?"
   ]
  },
  {
   "cell_type": "code",
   "execution_count": 24,
   "id": "a26cd056",
   "metadata": {},
   "outputs": [
    {
     "data": {
      "text/plain": [
       "1"
      ]
     },
     "execution_count": 24,
     "metadata": {},
     "output_type": "execute_result"
    }
   ],
   "source": [
    "bacon.index('cat')"
   ]
  },
  {
   "cell_type": "markdown",
   "id": "bb64d2c6",
   "metadata": {},
   "source": [
    "#### 7. How does bacon.append(99) change the look of the list value in bacon?"
   ]
  },
  {
   "cell_type": "code",
   "execution_count": 25,
   "id": "2ace63f9",
   "metadata": {},
   "outputs": [
    {
     "data": {
      "text/plain": [
       "[3.14, 'cat', 11, 'cat', True, 99]"
      ]
     },
     "execution_count": 25,
     "metadata": {},
     "output_type": "execute_result"
    }
   ],
   "source": [
    "bacon.append(99)\n",
    "bacon"
   ]
  },
  {
   "cell_type": "markdown",
   "id": "6be16d90",
   "metadata": {},
   "source": [
    "#### 8. How does bacon.remove('cat') change the look of the list in bacon?"
   ]
  },
  {
   "cell_type": "code",
   "execution_count": 26,
   "id": "e94be188",
   "metadata": {},
   "outputs": [
    {
     "data": {
      "text/plain": [
       "[3.14, 11, 'cat', True, 99]"
      ]
     },
     "execution_count": 26,
     "metadata": {},
     "output_type": "execute_result"
    }
   ],
   "source": [
    "bacon.remove('cat')\n",
    "bacon"
   ]
  },
  {
   "cell_type": "markdown",
   "id": "047312d4",
   "metadata": {},
   "source": [
    "#### 9. What are the list concatenation and list replication operators?"
   ]
  },
  {
   "cell_type": "markdown",
   "id": "c9b33cea",
   "metadata": {},
   "source": [
    "**Ans**:\n",
    "The operator for list concatenation is `+`, while the operator for replication is `*.`"
   ]
  },
  {
   "cell_type": "markdown",
   "id": "f6c93746",
   "metadata": {},
   "source": [
    "#### 10. What is difference between the list methods append() and insert()?"
   ]
  },
  {
   "cell_type": "markdown",
   "id": "206574be",
   "metadata": {},
   "source": [
    "**Ans:**\n",
    "\n",
    "`append`: - append adds elements to a list at the end of the list\n",
    "          - this method is used to add the elements at the end \n",
    "          \n",
    "\n",
    "\n",
    "`insert`: - insert adds elements at a specific location as desired \n",
    "            "
   ]
  },
  {
   "cell_type": "code",
   "execution_count": 21,
   "id": "985c7610",
   "metadata": {},
   "outputs": [
    {
     "name": "stdout",
     "output_type": "stream",
     "text": [
      "[1, 2, 3, 4, 5, 6]\n",
      "[1, 2, 3, 4, 'becon', 5, 6]\n"
     ]
    }
   ],
   "source": [
    "#Examples\n",
    "list = [1,2,3,4,5]\n",
    "list.append(6)\n",
    "print(list)\n",
    "list.insert(4,'becon')\n",
    "print(list)"
   ]
  },
  {
   "cell_type": "markdown",
   "id": "55c113c0",
   "metadata": {},
   "source": [
    "#### 11. What are the two methods for removing items from a list?"
   ]
  },
  {
   "cell_type": "markdown",
   "id": "40b693cc",
   "metadata": {},
   "source": [
    "**Ans:** The `del` statement and the `remove()` method are two ways to `remove` values from a list"
   ]
  },
  {
   "cell_type": "code",
   "execution_count": null,
   "id": "d26eee5b",
   "metadata": {},
   "outputs": [],
   "source": []
  },
  {
   "cell_type": "markdown",
   "id": "d430b101",
   "metadata": {},
   "source": [
    "#### 12. Describe how list values and string values are identical."
   ]
  },
  {
   "cell_type": "markdown",
   "id": "71a513d1",
   "metadata": {},
   "source": [
    "**Ans:**\n",
    "    Both lists and strings can be passed to `len()` function, have indexes and slices, be used in `for` loops, be concatenated or replicated, and be used with the in and `not in` operators."
   ]
  },
  {
   "cell_type": "markdown",
   "id": "1de4d905",
   "metadata": {},
   "source": [
    "#### 13. What's the difference between tuples and lists?"
   ]
  },
  {
   "cell_type": "markdown",
   "id": "561fedee",
   "metadata": {},
   "source": [
    "\n",
    "\n",
    "\n",
    "**Ans:**\n",
    "\n",
    "\n",
    "Lists are `Mutable`, `Indexable` and `Slicable`. they can have values added, removed, or changed. \n",
    "\n",
    "Tuples are `Immutable` but `Indexable` and `Slicable`. the tuple values cannot be changed at all. Also, tuples are represented using parentheses, `()`, while lists use the square brackets, `[]`."
   ]
  },
  {
   "cell_type": "markdown",
   "id": "ab1bbe42",
   "metadata": {},
   "source": [
    "#### 14. How do you type a tuple value that only contains the integer 42?"
   ]
  },
  {
   "cell_type": "code",
   "execution_count": 1,
   "id": "89036f39",
   "metadata": {},
   "outputs": [],
   "source": [
    "val =42,"
   ]
  },
  {
   "cell_type": "code",
   "execution_count": 2,
   "id": "60e74e4d",
   "metadata": {},
   "outputs": [
    {
     "data": {
      "text/plain": [
       "tuple"
      ]
     },
     "execution_count": 2,
     "metadata": {},
     "output_type": "execute_result"
    }
   ],
   "source": [
    "type(val)"
   ]
  },
  {
   "cell_type": "markdown",
   "id": "518168d7",
   "metadata": {},
   "source": [
    "#### 15. How do you get a list value's tuple form? How do you get a tuple value's list form?"
   ]
  },
  {
   "cell_type": "markdown",
   "id": "21ddebf1",
   "metadata": {},
   "source": [
    "**Ans:**\n",
    "In that casae we have to convert it to the list\n"
   ]
  },
  {
   "cell_type": "markdown",
   "id": "838ea183",
   "metadata": {},
   "source": [
    "#### 16. Variables that \"contain\" list values are not necessarily lists themselves. Instead, what do they contain?"
   ]
  },
  {
   "cell_type": "code",
   "execution_count": null,
   "id": "b6eb51cc",
   "metadata": {},
   "outputs": [],
   "source": [
    "The directs to the reference of the list values "
   ]
  },
  {
   "cell_type": "markdown",
   "id": "43212123",
   "metadata": {},
   "source": [
    "#### 17. How do you distinguish between copy.copy() and copy.deepcopy()?"
   ]
  },
  {
   "cell_type": "markdown",
   "id": "af9c71bc",
   "metadata": {},
   "source": [
    "**Shallow Copy:**\n",
    "\n",
    "`Shallow copies` duplicate as little as possible. A `shallow copy` of a collection is a copy of the collection structure, not the elements.\n",
    "With a `shallow copy`, two collections now share the individual elements.\n",
    "Shallow copying is creating a new object and then copying the non static fields of the current object to the new object. If the field\n",
    "is a value type, a bit by bit copy of the field is performed. If the field is a reference type, the reference is copied but the referred\n",
    "object is not, therefore the original object and its clone refer to the same object.\n",
    "\n",
    "\n",
    "**Deep Copy:**\n",
    "\n",
    "`Deep copies` duplicate everything. A deep copy of a collection is two collections with all of the elements in the original collection\n",
    "duplicated.\n",
    "`Deep copy` is creating a new object and then copying the non-static fields of the current object to the new object. If a field is a\n",
    "value type, a bit by bit copy of the field is performed. If a field is a reference type, a new copy of the referred object is performed. A\n",
    "deep copy of an object is a new object with entirely new instance variables, it does not share objects with the old. While\n",
    "performing `Deep Copy` the classes to be cloned must be flagged as [Serializable]."
   ]
  },
  {
   "cell_type": "code",
   "execution_count": null,
   "id": "ad800279",
   "metadata": {},
   "outputs": [],
   "source": []
  }
 ],
 "metadata": {
  "hide_input": false,
  "kernelspec": {
   "display_name": "Python 3 (ipykernel)",
   "language": "python",
   "name": "python3"
  },
  "language_info": {
   "codemirror_mode": {
    "name": "ipython",
    "version": 3
   },
   "file_extension": ".py",
   "mimetype": "text/x-python",
   "name": "python",
   "nbconvert_exporter": "python",
   "pygments_lexer": "ipython3",
   "version": "3.9.12"
  },
  "nbTranslate": {
   "displayLangs": [
    "*"
   ],
   "hotkey": "alt-t",
   "langInMainMenu": true,
   "sourceLang": "en",
   "targetLang": "fr",
   "useGoogleTranslate": true
  },
  "toc": {
   "base_numbering": 1,
   "nav_menu": {},
   "number_sections": true,
   "sideBar": true,
   "skip_h1_title": false,
   "title_cell": "Table of Contents",
   "title_sidebar": "Contents",
   "toc_cell": false,
   "toc_position": {},
   "toc_section_display": true,
   "toc_window_display": false
  }
 },
 "nbformat": 4,
 "nbformat_minor": 5
}
