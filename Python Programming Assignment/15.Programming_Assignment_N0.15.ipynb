{
 "cells": [
  {
   "cell_type": "markdown",
   "id": "f8b4c141",
   "metadata": {},
   "source": [
    "**Question 1:**\n",
    "\n",
    "Please write a program using generator to print the numbers which can be divisible by 5 and 7 between 0 and n in comma separated form while n is input by console.\n",
    "\n",
    "**Example:**\n",
    "If the following n is given as input to the program:`100`\n",
    "\n",
    "Then, the output of the program should be:`0,35,70`"
   ]
  },
  {
   "cell_type": "code",
   "execution_count": 1,
   "id": "89ead459",
   "metadata": {},
   "outputs": [],
   "source": [
    "def div(n):\n",
    "    for i in range(n):\n",
    "        if i % 5 ==0 and i % 7  == 0:\n",
    "            yield(i)"
   ]
  },
  {
   "cell_type": "code",
   "execution_count": 2,
   "id": "f2a70060",
   "metadata": {},
   "outputs": [
    {
     "data": {
      "text/plain": [
       "[0, 35, 70]"
      ]
     },
     "execution_count": 2,
     "metadata": {},
     "output_type": "execute_result"
    }
   ],
   "source": [
    "x=div(100)\n",
    "list(x)"
   ]
  },
  {
   "cell_type": "markdown",
   "id": "5e7dad7f",
   "metadata": {},
   "source": [
    "**Question 2:**\n",
    "\n",
    "Please write a program using generator to print the even numbers between 0 and n in comma separated form while n is input by console.\n",
    "\n",
    "**Example:**\n",
    "If the following n is given as input to the program:`10`\n",
    "\n",
    "Then, the output of the program should be:`0,2,4,6,8,10`\n"
   ]
  },
  {
   "cell_type": "code",
   "execution_count": 27,
   "id": "5d8f834c",
   "metadata": {},
   "outputs": [
    {
     "name": "stdout",
     "output_type": "stream",
     "text": [
      "0,2,4,6,8,10,"
     ]
    }
   ],
   "source": [
    "def even_nums(n):\n",
    "    for i in range(n+1):\n",
    "        if i%2==0:\n",
    "            yield(i)\n",
    "\n",
    "x=even_nums(10)\n",
    "for i in x:\n",
    "    print(i,end=\",\")"
   ]
  },
  {
   "cell_type": "markdown",
   "id": "53b46aa2",
   "metadata": {},
   "source": [
    "**Question 3:**"
   ]
  },
  {
   "cell_type": "markdown",
   "id": "4ff538a0",
   "metadata": {},
   "source": [
    "The Fibonacci Sequence is computed based on the following formula:\n",
    "\n",
    "**f(n)=0 if n=0**\n",
    "\n",
    "**f(n)=1 if n=1**\n",
    "\n",
    "**f(n)=f(n-1)+f(n-2) if n>1**\n",
    "\n",
    "Please write a program using list comprehension to print the Fibonacci Sequence in comma separated form with a given n input by console.\n",
    "\n",
    "**Example:**\n",
    "\n",
    "If the following n is given as input to the program:`7`\n",
    "\n",
    "Then, the output of the program should be:`0,1,1,2,3,5,8,13`"
   ]
  },
  {
   "cell_type": "code",
   "execution_count": 51,
   "id": "46d0ec1d",
   "metadata": {},
   "outputs": [],
   "source": [
    "    def fib(x):\n",
    "        \"\"\" Fibonacci Series \n",
    "        \"\"\"\n",
    "        if x == 0:\n",
    "            return(0)\n",
    "        elif x ==1 :\n",
    "            return(1)\n",
    "        else:\n",
    "            return(fib(x-1)+fib(x-2))\n"
   ]
  },
  {
   "cell_type": "code",
   "execution_count": 52,
   "id": "3d2ab3d5",
   "metadata": {},
   "outputs": [
    {
     "name": "stdout",
     "output_type": "stream",
     "text": [
      "Enter a number for getting the fib series7\n",
      "[0, 1, 1, 2, 3, 5, 8, 13]\n"
     ]
    }
   ],
   "source": [
    "inp=int(input(\"Enter a number for getting the fib series\"))\n",
    "x=[fib(i) for i  in  range(inp+1)]\n",
    "print(x)"
   ]
  },
  {
   "cell_type": "markdown",
   "id": "730199d9",
   "metadata": {},
   "source": [
    "**Question 4:**\n",
    "\n",
    "Assuming that we have some email addresses in the \"username@companyname.com\" format, please write program to print the user name of a given email address. Both user names and company names are composed of letters only.\n",
    "\n",
    "**Example:**\n",
    "If the following email address is given as input to the program:`john@google.com`\n",
    "\n",
    "Then, the output of the program should be:`john`"
   ]
  },
  {
   "cell_type": "code",
   "execution_count": 56,
   "id": "efbc8fdd",
   "metadata": {},
   "outputs": [],
   "source": [
    "def name():\n",
    "    \"\"\" Split the name from the given email id\n",
    "    \"\"\"   \n",
    "    in_string=input(\"Enter an email address :\")\n",
    "    ele=in_string.split(\"@\")\n",
    "    return ele[0]\n"
   ]
  },
  {
   "cell_type": "code",
   "execution_count": 57,
   "id": "25ff2815",
   "metadata": {},
   "outputs": [
    {
     "name": "stdout",
     "output_type": "stream",
     "text": [
      "Enter an email address :nikhil@gmail,com\n"
     ]
    },
    {
     "data": {
      "text/plain": [
       "'nikhil'"
      ]
     },
     "execution_count": 57,
     "metadata": {},
     "output_type": "execute_result"
    }
   ],
   "source": [
    "name()"
   ]
  },
  {
   "cell_type": "markdown",
   "id": "a6071a98",
   "metadata": {},
   "source": [
    "**Question 5:**\n",
    "\n",
    "Define a class named Shape and its subclass Square. \n",
    "The Square class has an init function which takes a length as argument.\n",
    "\n",
    "Both classes have a area function which can print the area of the shape where Shape's area is 0 by default."
   ]
  },
  {
   "cell_type": "code",
   "execution_count": 58,
   "id": "6cfface7",
   "metadata": {},
   "outputs": [],
   "source": [
    "class Shape(object):\n",
    "    def __init__(self):\n",
    "        pass\n",
    "    def area(self):\n",
    "        return 0\n",
    "class Square(Shape):\n",
    "    def __init__(self, l):\n",
    "        Shape.__init__(self)\n",
    "        self.length = l\n",
    "    def area(self):\n",
    "        return self.length*self.length\n",
    "        "
   ]
  },
  {
   "cell_type": "code",
   "execution_count": 59,
   "id": "e8979ef3",
   "metadata": {},
   "outputs": [
    {
     "name": "stdout",
     "output_type": "stream",
     "text": [
      "9\n"
     ]
    }
   ],
   "source": [
    "aSquare= Square(3)\n",
    "print (aSquare.area())"
   ]
  },
  {
   "cell_type": "code",
   "execution_count": null,
   "id": "88553fd5",
   "metadata": {},
   "outputs": [],
   "source": []
  }
 ],
 "metadata": {
  "hide_input": false,
  "kernelspec": {
   "display_name": "Python 3 (ipykernel)",
   "language": "python",
   "name": "python3"
  },
  "language_info": {
   "codemirror_mode": {
    "name": "ipython",
    "version": 3
   },
   "file_extension": ".py",
   "mimetype": "text/x-python",
   "name": "python",
   "nbconvert_exporter": "python",
   "pygments_lexer": "ipython3",
   "version": "3.9.12"
  },
  "nbTranslate": {
   "displayLangs": [
    "*"
   ],
   "hotkey": "alt-t",
   "langInMainMenu": true,
   "sourceLang": "en",
   "targetLang": "fr",
   "useGoogleTranslate": true
  },
  "toc": {
   "base_numbering": 1,
   "nav_menu": {},
   "number_sections": true,
   "sideBar": true,
   "skip_h1_title": false,
   "title_cell": "Table of Contents",
   "title_sidebar": "Contents",
   "toc_cell": false,
   "toc_position": {},
   "toc_section_display": true,
   "toc_window_display": false
  }
 },
 "nbformat": 4,
 "nbformat_minor": 5
}
