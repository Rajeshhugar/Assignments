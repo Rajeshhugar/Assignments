{
 "cells": [
  {
   "cell_type": "markdown",
   "id": "ebc2c8f1",
   "metadata": {},
   "source": [
    "#### **Question 1:**\n",
    "\n",
    "Define a class with a generator which can iterate the numbers, which are divisible by 7, between a given range 0 and n."
   ]
  },
  {
   "cell_type": "code",
   "execution_count": 69,
   "id": "e02f1dc7",
   "metadata": {},
   "outputs": [
    {
     "name": "stdout",
     "output_type": "stream",
     "text": [
      "49\n",
      "[0, 7, 14, 21, 28, 35, 42]\n",
      "0,7,14,21,28,35,42,"
     ]
    }
   ],
   "source": [
    "n = int(input())\n",
    "divBy7 = [i for i in range(0, n) if (i % 7 == 0)]\n",
    "print(divBy7)\n",
    "def divChecker(n):\n",
    "    for i in range(n):\n",
    "        if i % 7 == 0:\n",
    "            print(i,end=',')\n",
    "\n",
    "divChecker(n)"
   ]
  },
  {
   "cell_type": "markdown",
   "id": "b7b01447",
   "metadata": {},
   "source": [
    "#### Question 2:"
   ]
  },
  {
   "cell_type": "markdown",
   "id": "f0fc3f6c",
   "metadata": {},
   "source": [
    "Write a program to compute the frequency of the words from the input. The output should output after sorting the key alphanumerically. \n",
    "\n",
    "Suppose the following input is supplied to the program:\n",
    "\n",
    "New to Python or choosing between Python 2 and Python 3? Read Python 2 or Python 3.\n",
    "\n",
    "Then, the output should be:\n",
    "\n",
    "2:2\n",
    "\n",
    "3.:1\n",
    "\n",
    "3?:1\n",
    "\n",
    "New:1\n",
    "\n",
    "Python:5\n",
    "\n",
    "Read:1\n",
    "\n",
    "and:1\n",
    "\n",
    "between:1\n",
    "\n",
    "choosing:1\n",
    "\n",
    "or:2\n",
    "\n",
    "to:1"
   ]
  },
  {
   "cell_type": "code",
   "execution_count": 33,
   "id": "13912bf1",
   "metadata": {},
   "outputs": [
    {
     "data": {
      "text/plain": [
       "Counter({'2': 2,\n",
       "         '3.': 1,\n",
       "         '3?': 1,\n",
       "         'New': 1,\n",
       "         'Python': 5,\n",
       "         'Read': 1,\n",
       "         'and': 1,\n",
       "         'between': 1,\n",
       "         'choosing': 1,\n",
       "         'or': 2,\n",
       "         'to': 1})"
      ]
     },
     "execution_count": 33,
     "metadata": {},
     "output_type": "execute_result"
    }
   ],
   "source": [
    "import collections\n",
    "string = 'New to Python or choosing between Python 2 and Python 3? Read Python 2 or Python 3.'\n",
    "x=sorted(string.split())\n",
    "frequency = collections.Counter(x)\n",
    "frequency"
   ]
  },
  {
   "cell_type": "markdown",
   "id": "4fb702dd",
   "metadata": {},
   "source": [
    "#### **Question 3:**\n",
    "    \n",
    "Define a class Person and its two child classes: Male and Female. All classes have a method \"getGender\" which can print \"Male\" for Male class and \"Female\" for Female class."
   ]
  },
  {
   "cell_type": "code",
   "execution_count": 34,
   "id": "4aff767e",
   "metadata": {},
   "outputs": [
    {
     "name": "stdout",
     "output_type": "stream",
     "text": [
      "Male\n",
      "Female\n"
     ]
    }
   ],
   "source": [
    "class Person:\n",
    "    def getGender(self):\n",
    "        pass\n",
    "\n",
    "class Male(Person):\n",
    "    def getGender(self):\n",
    "        print(\"Male\")\n",
    "\n",
    "class Female(Person):\n",
    "    def getGender(self):\n",
    "        print(\"Female\")\n",
    "\n",
    "# usage\n",
    "person = Person()\n",
    "male = Male()\n",
    "female = Female()\n",
    "\n",
    "# This will raise an error because the method is not defined in Person class\n",
    "person.getGender()\n",
    "male.getGender() # will print \"Male\"\n",
    "female.getGender() # will print \"Female\""
   ]
  },
  {
   "cell_type": "markdown",
   "id": "47c4d1a7",
   "metadata": {},
   "source": [
    "#### **Question 4:**\n",
    "    \n",
    "Please write a program to generate all sentences where subject is in `[\"I\", \"You\"]` and verb is in `[\"Play\", \"Love\"]`and the object is in` [\"Hockey\",\"Football\"].`"
   ]
  },
  {
   "cell_type": "code",
   "execution_count": 24,
   "id": "0b034341",
   "metadata": {},
   "outputs": [
    {
     "data": {
      "text/plain": [
       "['I Play Hockey',\n",
       " 'I Play Football',\n",
       " 'I Love Hockey',\n",
       " 'I Love Football',\n",
       " 'You Play Hockey',\n",
       " 'You Play Football',\n",
       " 'You Love Hockey',\n",
       " 'You Love Football']"
      ]
     },
     "execution_count": 24,
     "metadata": {},
     "output_type": "execute_result"
    }
   ],
   "source": [
    "Tokens=[]\n",
    "subjects=['I','You']\n",
    "verbs=['Play','Love']\n",
    "objects=['Hockey','Football']\n",
    "for sub in subjects:\n",
    "    for ver in verbs:\n",
    "        for obj in objects:\n",
    "            string = sub + ' ' +ver + ' ' +obj\n",
    "            Tokens.append(string)\n",
    "            \n",
    "Tokens"
   ]
  },
  {
   "cell_type": "markdown",
   "id": "4da75975",
   "metadata": {},
   "source": [
    "#### **Question 5:**\n",
    "    \n",
    "Please write a program to compress and decompress the string `\"hello world!hello world!hello world!hello world!\".`"
   ]
  },
  {
   "cell_type": "code",
   "execution_count": 65,
   "id": "69985434",
   "metadata": {},
   "outputs": [
    {
     "name": "stdout",
     "output_type": "stream",
     "text": [
      "Original string: hello world!hello world!hello world!hello world!\n",
      "Compressed string: b'x\\x9c\\xcbH\\xcd\\xc9\\xc9W(\\xcf/\\xcaIQ\\xcc \\x82\\r\\x00\\xbd[\\x11\\xf5'\n",
      "Decompressed string: hello world!hello world!hello world!hello world!\n"
     ]
    }
   ],
   "source": [
    "import zlib\n",
    "\n",
    "# Original string\n",
    "original_string = \"hello world!hello world!hello world!hello world!\"\n",
    "\n",
    "# Compress the string\n",
    "compressed_string = zlib.compress(original_string.encode('utf-8'))\n",
    "\n",
    "# Decompress the string\n",
    "decompressed_string = zlib.decompress(compressed_string).decode('utf-8')\n",
    "\n",
    "# Print the original, compressed, and decompressed strings\n",
    "print(\"Original string:\", original_string)\n",
    "print(\"Compressed string:\", compressed_string)\n",
    "print(\"Decompressed string:\", decompressed_string)\n"
   ]
  },
  {
   "cell_type": "markdown",
   "id": "4ac2cb47",
   "metadata": {},
   "source": [
    "#### **Question 6:**\n",
    "\n",
    "Please write a binary search function which searches an item in a sorted list. The function should return the index of element to be searched in the list."
   ]
  },
  {
   "cell_type": "code",
   "execution_count": 59,
   "id": "b3b66581",
   "metadata": {},
   "outputs": [
    {
     "name": "stdout",
     "output_type": "stream",
     "text": [
      "['2', '2', '3.', '3?', 'New', 'Python', 'Python', 'Python', 'Python', 'Python', 'Read', 'and', 'between', 'choosing', 'or', 'or', 'to']\n",
      "5,6,7,8,9,"
     ]
    }
   ],
   "source": [
    "def binary_search(element,List_to_search:list):\n",
    "    List_to_search.sort()\n",
    "    for i,ele in enumerate(List_to_search):\n",
    "        if ele== element:\n",
    "            yield(i)\n",
    "print(x)\n",
    "elements=binary_search('Python',x)\n",
    "for i in elements:\n",
    "    print(i,end=',')"
   ]
  }
 ],
 "metadata": {
  "hide_input": false,
  "kernelspec": {
   "display_name": "Python 3 (ipykernel)",
   "language": "python",
   "name": "python3"
  },
  "language_info": {
   "codemirror_mode": {
    "name": "ipython",
    "version": 3
   },
   "file_extension": ".py",
   "mimetype": "text/x-python",
   "name": "python",
   "nbconvert_exporter": "python",
   "pygments_lexer": "ipython3",
   "version": "3.9.12"
  },
  "nbTranslate": {
   "displayLangs": [
    "*"
   ],
   "hotkey": "alt-t",
   "langInMainMenu": true,
   "sourceLang": "en",
   "targetLang": "fr",
   "useGoogleTranslate": true
  },
  "toc": {
   "base_numbering": 1,
   "nav_menu": {},
   "number_sections": true,
   "sideBar": true,
   "skip_h1_title": false,
   "title_cell": "Table of Contents",
   "title_sidebar": "Contents",
   "toc_cell": false,
   "toc_position": {},
   "toc_section_display": true,
   "toc_window_display": false
  }
 },
 "nbformat": 4,
 "nbformat_minor": 5
}
