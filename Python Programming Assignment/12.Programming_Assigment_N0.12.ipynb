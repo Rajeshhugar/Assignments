{
 "cells": [
  {
   "cell_type": "markdown",
   "id": "b9cc107c",
   "metadata": {},
   "source": [
    "### 1.\tWrite a Python program to Extract Unique values dictionary values?"
   ]
  },
  {
   "cell_type": "code",
   "execution_count": 9,
   "id": "fae50559",
   "metadata": {},
   "outputs": [
    {
     "name": "stdout",
     "output_type": "stream",
     "text": [
      "{'Tokyo', 'Kathmandu', 'London'}\n"
     ]
    }
   ],
   "source": [
    "def unique_dict(x:dict):\n",
    "    val=set(x.values())\n",
    "    return val\n",
    "\n",
    "\n",
    "if __name__==\"__main__\":\n",
    "    x ={'Nepal': 'Kathmandu', 'England': 'London', 'Japan': 'Tokyo','Bengal':'Kathmandu'}\n",
    "    print(unique_dict(x))"
   ]
  },
  {
   "cell_type": "markdown",
   "id": "56923915",
   "metadata": {},
   "source": [
    "### 2.\tWrite a Python program to find the sum of all items in a dictionary?"
   ]
  },
  {
   "cell_type": "code",
   "execution_count": 10,
   "id": "fa2fa10b",
   "metadata": {},
   "outputs": [
    {
     "data": {
      "text/plain": [
       "669"
      ]
     },
     "execution_count": 10,
     "metadata": {},
     "output_type": "execute_result"
    }
   ],
   "source": [
    "dic1 = {\"Rajesh\":45,\"Rohan\":56,\"Dinesh\":45,\"JD\":523}\n",
    "sum=0\n",
    "for i in dic1.values():\n",
    "    sum += i\n",
    "\n",
    "sum"
   ]
  },
  {
   "cell_type": "markdown",
   "id": "15bdee85",
   "metadata": {},
   "source": [
    "### 3.\tWrite a Python program to Merging two Dictionaries?"
   ]
  },
  {
   "cell_type": "code",
   "execution_count": 11,
   "id": "c33d1921",
   "metadata": {},
   "outputs": [
    {
     "data": {
      "text/plain": [
       "{'a': 1, 'b': 2, 'c': 3, 'd': 4}"
      ]
     },
     "execution_count": 11,
     "metadata": {},
     "output_type": "execute_result"
    }
   ],
   "source": [
    "def merge_dictionary(dict1:dict,dict2:dict):\n",
    "    dict1.update(dict2)\n",
    "    return dict1\n",
    "\n",
    "\n",
    "dict1 = {'a': 1, 'b': 2}\n",
    "dict2 = {'c': 3, 'd': 4}\n",
    "merge_dictionary(dict1,dict2)"
   ]
  },
  {
   "cell_type": "markdown",
   "id": "052e3fc6",
   "metadata": {},
   "source": [
    "### 4.\tWrite a Python program to convert key-values list to flat dictionary?"
   ]
  },
  {
   "cell_type": "code",
   "execution_count": 37,
   "id": "d98c6195",
   "metadata": {},
   "outputs": [
    {
     "name": "stdout",
     "output_type": "stream",
     "text": [
      "CPU times: total: 0 ns\n",
      "Wall time: 0 ns\n"
     ]
    },
    {
     "data": {
      "text/plain": [
       "{'Rajesh': 45,\n",
       " 'Rohan': 56,\n",
       " 'Dinesh': 45,\n",
       " 'JD': 523,\n",
       " 'Suresh': 100,\n",
       " 'Ramesh': 34}"
      ]
     },
     "execution_count": 37,
     "metadata": {},
     "output_type": "execute_result"
    }
   ],
   "source": [
    "%%time\n",
    "def convert_to_dict(keyvalues):\n",
    "    flat_dict={}\n",
    "    for key,values in keyvalues:\n",
    "        flat_dict[key] = values\n",
    "    return flat_dict\n",
    "\n",
    "key_values= [(\"Rajesh\",45),(\"Rohan\",56),(\"Dinesh\",45),(\"JD\",523),('Suresh',100),('Ramesh',34)]\n",
    "\n",
    "convert_to_dict(key_values)"
   ]
  },
  {
   "cell_type": "markdown",
   "id": "257d545f",
   "metadata": {},
   "source": [
    "### 5.\tWrite a Python program to insertion at the beginning in OrderedDict?"
   ]
  },
  {
   "cell_type": "code",
   "execution_count": 36,
   "id": "0ce64615",
   "metadata": {
    "run_control": {
     "marked": true
    }
   },
   "outputs": [
    {
     "name": "stdout",
     "output_type": "stream",
     "text": [
      "Resultant Dictionary : OrderedDict([('Rajesh', '3'), ('Roshan', '1'), ('Sachin', '2')])\n"
     ]
    }
   ],
   "source": [
    "# Python code to demonstrate\n",
    "# insertion of items in beginning of ordered dict\n",
    "from collections import OrderedDict\n",
    "\n",
    "# initialising ordered_dict\n",
    "iniordered_dict = OrderedDict([('Roshan', '1'), ('Sachin', '2')])\n",
    "\n",
    "# inserting items in starting of dict\n",
    "iniordered_dict.update({'Rajesh':'3'})\n",
    "iniordered_dict.move_to_end('Rajesh', last = False)\n",
    "\n",
    "# print result\n",
    "print (\"Resultant Dictionary : \"+str(iniordered_dict))\n"
   ]
  },
  {
   "cell_type": "markdown",
   "id": "95090681",
   "metadata": {},
   "source": [
    "### 6.\tWrite a Python program to check order of character in string using OrderedDict()?"
   ]
  },
  {
   "cell_type": "code",
   "execution_count": 26,
   "id": "d1bbdf41",
   "metadata": {},
   "outputs": [
    {
     "name": "stdout",
     "output_type": "stream",
     "text": [
      "Ordered dictionary of characters in the string: OrderedDict([(' ', 7), ('M', 1), ('a', 5), ('c', 3), ('h', 1), ('i', 7), ('n', 8), ('e', 7), ('L', 1), ('r', 3), ('g', 3), ('E', 1), ('d', 1), ('t', 2), ('f', 1), ('l', 3), ('I', 1)])\n",
      "The string has duplicate characters\n"
     ]
    }
   ],
   "source": [
    "from collections import OrderedDict\n",
    "\n",
    "# Create a string\n",
    "my_string = \" Machine Learning Engineer and artificial Intelligence \"\n",
    "\n",
    "# Create an ordered dictionary\n",
    "my_dict = OrderedDict()\n",
    "\n",
    "# Iterate through the string and add each character to the dictionary\n",
    "for char in my_string:\n",
    "    my_dict[char] = my_dict.get(char, 0) + 1\n",
    "\n",
    "# Print the ordered dictionary\n",
    "print(\"Ordered dictionary of characters in the string:\", my_dict)\n",
    "\n",
    "#check if a string has unique character\n",
    "if len(my_dict) == len(my_string):\n",
    "    print(\"The string has unique characters\")\n",
    "else:\n",
    "    print(\"The string has duplicate characters\")\n",
    "\n",
    "\n",
    "    "
   ]
  },
  {
   "cell_type": "markdown",
   "id": "ce3f831c",
   "metadata": {},
   "source": [
    "### 7.\tWrite a Python program to sort Python Dictionaries by Key or Value?"
   ]
  },
  {
   "cell_type": "code",
   "execution_count": 30,
   "id": "b84734e2",
   "metadata": {},
   "outputs": [
    {
     "name": "stdout",
     "output_type": "stream",
     "text": [
      "Sorted by key: {'Dinesh': 45, 'JD': 523, 'Rajesh': 45, 'Ramesh': 34, 'Rohan': 56, 'Suresh': 100}\n",
      "Sorted by value: {'Ramesh': 34, 'Rajesh': 45, 'Dinesh': 45, 'Rohan': 56, 'Suresh': 100, 'JD': 523}\n"
     ]
    }
   ],
   "source": [
    "# Create a dictionary\n",
    "dictionary={'Rajesh': 45,\n",
    " 'Rohan': 56,\n",
    " 'Dinesh': 45,\n",
    " 'JD': 523,\n",
    " 'Suresh': 100,\n",
    " 'Ramesh': 34}\n",
    "\n",
    "# Sort the dictionary by key\n",
    "sorted_by_key = dict(sorted(dictionary.items(), key=lambda item: item[0]))\n",
    "print(\"Sorted by key:\", sorted_by_key)\n",
    "\n",
    "# Sort the dictionary by value\n",
    "sorted_by_value = dict(sorted(dictionary.items(), key=lambda item: item[1]))\n",
    "print(\"Sorted by value:\", sorted_by_value)\n"
   ]
  }
 ],
 "metadata": {
  "hide_input": false,
  "kernelspec": {
   "display_name": "Python 3 (ipykernel)",
   "language": "python",
   "name": "python3"
  },
  "language_info": {
   "codemirror_mode": {
    "name": "ipython",
    "version": 3
   },
   "file_extension": ".py",
   "mimetype": "text/x-python",
   "name": "python",
   "nbconvert_exporter": "python",
   "pygments_lexer": "ipython3",
   "version": "3.9.12"
  },
  "nbTranslate": {
   "displayLangs": [
    "*"
   ],
   "hotkey": "alt-t",
   "langInMainMenu": true,
   "sourceLang": "en",
   "targetLang": "fr",
   "useGoogleTranslate": true
  },
  "toc": {
   "base_numbering": 1,
   "nav_menu": {},
   "number_sections": true,
   "sideBar": true,
   "skip_h1_title": false,
   "title_cell": "Table of Contents",
   "title_sidebar": "Contents",
   "toc_cell": false,
   "toc_position": {},
   "toc_section_display": true,
   "toc_window_display": false
  }
 },
 "nbformat": 4,
 "nbformat_minor": 5
}
