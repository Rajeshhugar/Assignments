{
 "cells": [
  {
   "cell_type": "markdown",
   "id": "e2d491b2",
   "metadata": {},
   "source": [
    "# Assignment 1"
   ]
  },
  {
   "cell_type": "code",
   "execution_count": null,
   "id": "60ca3a57",
   "metadata": {},
   "outputs": [],
   "source": [
    "1. In the below elements which of them are values or an expression? eg:- values can be integer or string and expressions will be mathematical operators.\n",
    "* \n",
    "'hello'\n",
    "-87.8\n",
    "- \n",
    "/ \n",
    "+\n",
    "6 \n"
   ]
  },
  {
   "cell_type": "code",
   "execution_count": 1,
   "id": "f4256897",
   "metadata": {},
   "outputs": [],
   "source": [
    "Values='hello',-87.8,6"
   ]
  },
  {
   "cell_type": "markdown",
   "id": "969e50ff",
   "metadata": {},
   "source": [
    "expression=*,-,+,/"
   ]
  },
  {
   "cell_type": "markdown",
   "id": "8ca3d5d6",
   "metadata": {},
   "source": [
    "2. What is the difference between string and variable?"
   ]
  },
  {
   "cell_type": "code",
   "execution_count": null,
   "id": "afab97a7",
   "metadata": {},
   "outputs": [],
   "source": [
    "String=\"string is a data type used to store statements,which are inclosed by inverted commas\"\n",
    "Variable=\"It is a location pointer used to store the value. variable is also known as an identifier\""
   ]
  },
  {
   "cell_type": "markdown",
   "id": "849ba7a5",
   "metadata": {},
   "source": [
    "3. Describe three different data types."
   ]
  },
  {
   "cell_type": "markdown",
   "id": "4ae39af1",
   "metadata": {},
   "source": [
    "Integers – This value is represented by int class. It contains positive or negative whole numbers (without fraction or decimal). In Python there is no limit to how long an integer value can be.\n",
    "\n",
    "\n",
    "Float – This value is represented by float class. It is a real number with floating point representation. It is specified by a decimal point. Optionally, the character e or E followed by a positive or negative integer may be appended to specify scientific notation.\n",
    "\n",
    "\n",
    "Complex Numbers – Complex number is represented by complex class. It is specified as (real part) + (imaginary part)j. \n",
    "For example – 2+3j"
   ]
  },
  {
   "cell_type": "markdown",
   "id": "1d99ed0e",
   "metadata": {},
   "source": [
    "4. What is an expression made up of? What do all expressions do?"
   ]
  },
  {
   "cell_type": "markdown",
   "id": "ff3484a3",
   "metadata": {},
   "source": [
    "An Expression is a sequence or combination of values, variables, operators and function calls that always produces or returns a result value."
   ]
  },
  {
   "cell_type": "markdown",
   "id": "7bb59eb5",
   "metadata": {},
   "source": [
    "5. This assignment statements, like spam = 10. What is the difference between an expression and a statement?"
   ]
  },
  {
   "cell_type": "raw",
   "id": "e3aa77ac",
   "metadata": {},
   "source": [
    "expression is a combination of values and functions that are combined and interpreted by the compiler to create a new value\n",
    "\n",
    "\n",
    "statement which is just a standalone unit of execution and doesn't return anything"
   ]
  },
  {
   "cell_type": "markdown",
   "id": "0715b9de",
   "metadata": {},
   "source": [
    "6. After running the following code, what does the variable bacon contain?\n",
    "\n",
    "\n",
    "    bacon = 22\n",
    "    bacon + 1"
   ]
  },
  {
   "cell_type": "code",
   "execution_count": 20,
   "id": "3bfce393",
   "metadata": {},
   "outputs": [
    {
     "data": {
      "text/plain": [
       "23"
      ]
     },
     "execution_count": 20,
     "metadata": {},
     "output_type": "execute_result"
    }
   ],
   "source": [
    "bacon = 22\n",
    "bacon + 1\n",
    "# Answer is 23 (the variable bacon contains )"
   ]
  },
  {
   "cell_type": "markdown",
   "id": "526cf7eb",
   "metadata": {},
   "source": [
    "7. What should the values of the following two terms be?\n",
    "\n",
    "\n",
    "    'spam' + 'spamspam'\n",
    "    'spam' * 3 "
   ]
  },
  {
   "cell_type": "code",
   "execution_count": 7,
   "id": "1175c2e5",
   "metadata": {},
   "outputs": [
    {
     "data": {
      "text/plain": [
       "'spamspanspam'"
      ]
     },
     "execution_count": 7,
     "metadata": {},
     "output_type": "execute_result"
    }
   ],
   "source": [
    "'spam' +'spanspam' # it concats 2 strings"
   ]
  },
  {
   "cell_type": "code",
   "execution_count": 6,
   "id": "83a5be31",
   "metadata": {},
   "outputs": [
    {
     "data": {
      "text/plain": [
       "'spamspamspam'"
      ]
     },
     "execution_count": 6,
     "metadata": {},
     "output_type": "execute_result"
    }
   ],
   "source": [
    "'spam' * 3 #same output s above"
   ]
  },
  {
   "cell_type": "markdown",
   "id": "72893dc0",
   "metadata": {},
   "source": [
    "8. Why is eggs a valid variable name while 100 is invalid?"
   ]
  },
  {
   "cell_type": "raw",
   "id": "f059539b",
   "metadata": {},
   "source": [
    "As it does not satisfy the rules of the varaibles \n",
    "\n",
    "The rules to name an identifier are given below.\n",
    "\n",
    "The first character of the variable must be an alphabet or underscore ( _ ).\n",
    "All the characters except the first character may be an alphabet of lower-case(a-z), upper-case (A-Z), underscore, or digit (0-9).\n",
    "Identifier name must not contain any white-space, or special character (!, @, #, %, ^, &, *).\n",
    "Identifier name must not be similar to any keyword defined in the language.\n",
    "Identifier names are case sensitive; for example, my name, and MyName is not the same.\n",
    "Examples of valid identifiers: a123, _n, n_9, etc.\n",
    "Examples of invalid identifiers: 1a, n%4, n 9, etc."
   ]
  },
  {
   "cell_type": "markdown",
   "id": "54e49c4b",
   "metadata": {},
   "source": [
    "9. What three functions can be used to get the integer, floating-point number, or string version of a value?"
   ]
  },
  {
   "cell_type": "code",
   "execution_count": 15,
   "id": "f6734d1c",
   "metadata": {},
   "outputs": [
    {
     "name": "stdout",
     "output_type": "stream",
     "text": [
      "100 <class 'str'>\n",
      "100 <class 'int'>\n",
      "100.0 <class 'float'>\n"
     ]
    }
   ],
   "source": [
    "x=100\n",
    "print(str(x),type(str(x)))\n",
    "print(int(x),type(int(x)))\n",
    "print(float(x),type(float(x)))"
   ]
  },
  {
   "cell_type": "markdown",
   "id": "f886ff4d",
   "metadata": {},
   "source": [
    "10. Why does this expression cause an error? How can you fix it?\n",
    "\n",
    "   'I have eaten ' + 99 + ' burritos.'\n"
   ]
  },
  {
   "cell_type": "raw",
   "id": "f5b93140",
   "metadata": {},
   "source": [
    "Error is caused as we are tring to concat strings along with integers,\n",
    "to concat / add we should use single data type \n",
    "we can achieve this by type casting int value of 99 by int(99) or by giving inverted commas to the value"
   ]
  },
  {
   "cell_type": "code",
   "execution_count": 17,
   "id": "e9c0ddd2",
   "metadata": {},
   "outputs": [
    {
     "data": {
      "text/plain": [
       "'I have eaten 99 burritos.'"
      ]
     },
     "execution_count": 17,
     "metadata": {},
     "output_type": "execute_result"
    }
   ],
   "source": [
    "'I have eaten ' + str(99) + ' burritos.'"
   ]
  },
  {
   "cell_type": "code",
   "execution_count": 18,
   "id": "eb5f8ffb",
   "metadata": {},
   "outputs": [
    {
     "data": {
      "text/plain": [
       "'I have eaten 99 burritos.'"
      ]
     },
     "execution_count": 18,
     "metadata": {},
     "output_type": "execute_result"
    }
   ],
   "source": [
    "'I have eaten ' + \"99\" + ' burritos.'"
   ]
  },
  {
   "cell_type": "code",
   "execution_count": null,
   "id": "cb600c33",
   "metadata": {},
   "outputs": [],
   "source": []
  }
 ],
 "metadata": {
  "hide_input": false,
  "kernelspec": {
   "display_name": "Python 3 (ipykernel)",
   "language": "python",
   "name": "python3"
  },
  "language_info": {
   "codemirror_mode": {
    "name": "ipython",
    "version": 3
   },
   "file_extension": ".py",
   "mimetype": "text/x-python",
   "name": "python",
   "nbconvert_exporter": "python",
   "pygments_lexer": "ipython3",
   "version": "3.9.12"
  },
  "nbTranslate": {
   "displayLangs": [
    "*"
   ],
   "hotkey": "alt-t",
   "langInMainMenu": true,
   "sourceLang": "en",
   "targetLang": "fr",
   "useGoogleTranslate": true
  },
  "toc": {
   "base_numbering": 1,
   "nav_menu": {},
   "number_sections": true,
   "sideBar": true,
   "skip_h1_title": false,
   "title_cell": "Table of Contents",
   "title_sidebar": "Contents",
   "toc_cell": false,
   "toc_position": {},
   "toc_section_display": true,
   "toc_window_display": false
  }
 },
 "nbformat": 4,
 "nbformat_minor": 5
}
