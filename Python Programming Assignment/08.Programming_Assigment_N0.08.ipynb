{
 "cells": [
  {
   "cell_type": "markdown",
   "id": "1de24288",
   "metadata": {},
   "source": [
    "## 1.Write a Python Program to Add Two Matrices?"
   ]
  },
  {
   "cell_type": "code",
   "execution_count": 102,
   "id": "637d509f",
   "metadata": {},
   "outputs": [
    {
     "name": "stdout",
     "output_type": "stream",
     "text": [
      "[17, 15, 4]\n",
      "[10, 12, 9]\n",
      "[11, 13, 18]\n"
     ]
    }
   ],
   "source": [
    "# Program to add two matrices using list comprehension\n",
    "\n",
    "X = [[12,7,3],\n",
    "    [4 ,5,6],\n",
    "    [7 ,8,9]]\n",
    "\n",
    "Y = [[5,8,1],\n",
    "    [6,7,3],\n",
    "    [4,5,9]]\n",
    "\n",
    "result = [[X[i][j] + Y[i][j]  for j in range(len(X[0]))] for i in range(len(X))]\n",
    "\n",
    "for r in result:\n",
    "   print(r)"
   ]
  },
  {
   "cell_type": "code",
   "execution_count": 19,
   "id": "4453c30a",
   "metadata": {},
   "outputs": [],
   "source": [
    "import numpy as np"
   ]
  },
  {
   "cell_type": "code",
   "execution_count": 22,
   "id": "d20ee2bc",
   "metadata": {},
   "outputs": [
    {
     "data": {
      "text/plain": [
       "array([[0., 0., 0.],\n",
       "       [0., 0., 0.],\n",
       "       [0., 0., 0.]])"
      ]
     },
     "execution_count": 22,
     "metadata": {},
     "output_type": "execute_result"
    }
   ],
   "source": [
    "np.zeros((3,3))"
   ]
  },
  {
   "cell_type": "code",
   "execution_count": 25,
   "id": "2477ac00",
   "metadata": {},
   "outputs": [],
   "source": [
    "def add_matrix(one,two):\n",
    "    \"\"\" This function adds two arrays and gives the result \n",
    "\n",
    "    \"\"\"\n",
    "    result=np.zeros((len(one),len(two)))\n",
    "    for i in range(len(one)):\n",
    "        for j in range(len(one[0])):\n",
    "            result[i][j]=one[i][j] + two[i][j]\n",
    "    return result\n",
    "            "
   ]
  },
  {
   "cell_type": "code",
   "execution_count": 26,
   "id": "02ab96bd",
   "metadata": {},
   "outputs": [
    {
     "data": {
      "text/plain": [
       "array([[17., 15.,  4.],\n",
       "       [10., 12.,  9.],\n",
       "       [11., 13., 18.]])"
      ]
     },
     "execution_count": 26,
     "metadata": {},
     "output_type": "execute_result"
    }
   ],
   "source": [
    "add_matrix(X,Y)"
   ]
  },
  {
   "cell_type": "markdown",
   "id": "a6f316c0",
   "metadata": {},
   "source": [
    "## 2.Write a Python Program to Multiply Two Matrices?"
   ]
  },
  {
   "cell_type": "code",
   "execution_count": 68,
   "id": "04ab86db",
   "metadata": {
    "run_control": {
     "marked": true
    }
   },
   "outputs": [
    {
     "name": "stdout",
     "output_type": "stream",
     "text": [
      "We are in init  Function\n",
      "the Input arrays are [[12, 7, 3], [4, 5, 6], [7, 8, 9]] \n",
      " and[[5, 8, 1], [6, 7, 3], [4, 5, 9]]\n",
      "\n",
      "\n",
      "Multiplication of the two results is \n",
      "[[60. 56.  3.]\n",
      " [24. 35. 18.]\n",
      " [28. 40. 81.]]\n",
      "Addition of the two arrays is \n",
      "[[17. 15.  4.]\n",
      " [10. 12.  9.]\n",
      " [11. 13. 18.]]\n"
     ]
    }
   ],
   "source": [
    "class Operations:\n",
    "    \n",
    "    def __init__(self,A,B):\n",
    "        print(\"We are in init  Function\")\n",
    "        print(f\"the Input arrays are {A} \\n and{B}\")\n",
    "        self.A = A\n",
    "        self.B = B\n",
    "    def Multiplication(self):\n",
    "        print(\"\\n\")\n",
    "        \"\"\"Performs Multiplication function \"\"\"\n",
    "        print(\"Multiplication of the two results is \")\n",
    "        result=np.zeros((len(self.A),len(self.B)))\n",
    "        for i in range(len(self.A)):\n",
    "            for j in range(len(self.A[0])):\n",
    "                result[i][j]=self.A[i][j] * self.B[i][j]\n",
    "        print(result)\n",
    "        \n",
    "    def add_matrix(self):\n",
    "        \"\"\" This function adds two arrays and gives the result\"\"\"\n",
    "        print(\"Addition of the two arrays is \")\n",
    "        result=np.zeros((len(self.A),len(self.B)))\n",
    "        for i in range(len(self.A)):\n",
    "            for j in range(len(self.A[0])):\n",
    "                result[i][j]=self.A[i][j] + self.B[i][j]\n",
    "        print(result)\n",
    "\n",
    "    \n",
    "if __name__==\"__main__\":\n",
    "    obj = Operations(X,Y)\n",
    "    obj.Multiplication()\n",
    "    obj.add_matrix()"
   ]
  },
  {
   "cell_type": "code",
   "execution_count": null,
   "id": "8d97b600",
   "metadata": {},
   "outputs": [],
   "source": []
  },
  {
   "cell_type": "code",
   "execution_count": null,
   "id": "1d1ed370",
   "metadata": {},
   "outputs": [],
   "source": []
  },
  {
   "cell_type": "markdown",
   "id": "bf4f5d55",
   "metadata": {},
   "source": [
    "### 3.Write a Python Program to Transpose a Matrix?"
   ]
  },
  {
   "cell_type": "code",
   "execution_count": 56,
   "id": "cf85a2c9",
   "metadata": {},
   "outputs": [
    {
     "name": "stdout",
     "output_type": "stream",
     "text": [
      "Initial array was\n",
      "[[5, 8, 1], [6, 7, 3], [4, 5, 9]]\n",
      "[[5. 6. 4.]\n",
      " [8. 7. 5.]\n",
      " [1. 3. 9.]]\n"
     ]
    }
   ],
   "source": [
    "\"\"\"Transpose of a matrix is obtained by changing rows to columns\n",
    "and columns to rows. In other words,\n",
    "transpose of A[][] is obtained by changing A[i][j] to A[j][i]. \n",
    "\n",
    "\"\"\"\n",
    "\n",
    "def Transpose(A):\n",
    "    reverse=np.zeros((len(X),len(X[0])))\n",
    "    print(f\"Initial array was\")\n",
    "    print(A)\n",
    "    for i in range(len(A)):\n",
    "        for j in range(len(A[0])):\n",
    "            reverse[i][j]=A[j][i]\n",
    "    print(reverse)\n",
    "        \n",
    "\n",
    "if __name__==\"__main__\":\n",
    "    obj=Transpose(Y)\n",
    "    \n",
    "    \n",
    "    "
   ]
  },
  {
   "cell_type": "code",
   "execution_count": 49,
   "id": "e6a9928f",
   "metadata": {},
   "outputs": [
    {
     "name": "stdout",
     "output_type": "stream",
     "text": [
      "[[0. 0. 0.]\n",
      " [0. 0. 0.]\n",
      " [0. 0. 0.]]\n"
     ]
    }
   ],
   "source": [
    "\n",
    "print(reverse)"
   ]
  },
  {
   "cell_type": "markdown",
   "id": "ecfe95f7",
   "metadata": {},
   "source": [
    "## 4.Write a Python Program to Sort Words in Alphabetic Order?"
   ]
  },
  {
   "cell_type": "code",
   "execution_count": 101,
   "id": "1c41040c",
   "metadata": {},
   "outputs": [
    {
     "name": "stdout",
     "output_type": "stream",
     "text": [
      "['...', '2.0,', 'In', 'Python.', 'The', 'dates', 'earliest', 'from', 'functions', 'implemented', 'in', 'many', 'module', 'module', 'moved', 'of', 'of', 'only', 'previously', 'string', 'the', 'the', 'the', 'to', 'version', 'versions', 'were']\n"
     ]
    }
   ],
   "source": [
    "#def sort_words(paragraph):\n",
    "paragraph='''The string module dates from the earliest versions of Python. \n",
    "In version 2.0, many of the functions previously implemented only in the module were moved to ...'''\n",
    "li=paragraph.split()\n",
    "li=sorted(li)\n",
    "print(li)"
   ]
  },
  {
   "cell_type": "code",
   "execution_count": null,
   "id": "3723ac1e",
   "metadata": {},
   "outputs": [],
   "source": []
  },
  {
   "cell_type": "markdown",
   "id": "9d901d5a",
   "metadata": {},
   "source": [
    "## 5.Write a Python Program to Remove Punctuation From a String?"
   ]
  },
  {
   "cell_type": "code",
   "execution_count": 97,
   "id": "3fcf5016",
   "metadata": {},
   "outputs": [
    {
     "name": "stdout",
     "output_type": "stream",
     "text": [
      "The puntuations given in the string module are !\"#$%&'()*+,-./:;<=>?@[\\]^_`{|}~\n"
     ]
    },
    {
     "data": {
      "text/plain": [
       "'Rajesh Hugar'"
      ]
     },
     "execution_count": 97,
     "metadata": {},
     "output_type": "execute_result"
    }
   ],
   "source": [
    "import string \n",
    "def remove_puntuations(A):\n",
    "    print(f\"The puntuations given in the string module are {string.punctuation}\")\n",
    "    punctuations='!\"#$%&\\'()*+,-./:;<=>?@[\\\\]^_`{|}~'\n",
    "    for elements in A:\n",
    "        if elements in punctuations:\n",
    "            A =A.replace(elements,\"\")\n",
    "    return A\n",
    "remove_puntuations('!\"#$%&\\'()Rajesh Hugar~\",\",,,*&#$#^&(**)')"
   ]
  }
 ],
 "metadata": {
  "hide_input": false,
  "kernelspec": {
   "display_name": "Neuron",
   "language": "python",
   "name": "neuron"
  },
  "language_info": {
   "codemirror_mode": {
    "name": "ipython",
    "version": 3
   },
   "file_extension": ".py",
   "mimetype": "text/x-python",
   "name": "python",
   "nbconvert_exporter": "python",
   "pygments_lexer": "ipython3",
   "version": "3.10.4"
  },
  "nbTranslate": {
   "displayLangs": [
    "*"
   ],
   "hotkey": "alt-t",
   "langInMainMenu": true,
   "sourceLang": "en",
   "targetLang": "fr",
   "useGoogleTranslate": true
  },
  "toc": {
   "base_numbering": 1,
   "nav_menu": {},
   "number_sections": true,
   "sideBar": true,
   "skip_h1_title": false,
   "title_cell": "Table of Contents",
   "title_sidebar": "Contents",
   "toc_cell": false,
   "toc_position": {},
   "toc_section_display": true,
   "toc_window_display": false
  }
 },
 "nbformat": 4,
 "nbformat_minor": 5
}
