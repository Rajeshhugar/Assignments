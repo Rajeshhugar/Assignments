{
 "cells": [
  {
   "cell_type": "markdown",
   "id": "66558841",
   "metadata": {},
   "source": [
    "### 1.Write a Python program to check if the given number is a Disarium Number?"
   ]
  },
  {
   "cell_type": "code",
   "execution_count": 29,
   "id": "bbe5fb91",
   "metadata": {},
   "outputs": [],
   "source": [
    "def is_disarium(num):\n",
    "    return num == sum(int(digit) ** (index + 1) for index, digit in enumerate(str(num)))"
   ]
  },
  {
   "cell_type": "code",
   "execution_count": 31,
   "id": "04c28316",
   "metadata": {},
   "outputs": [
    {
     "data": {
      "text/plain": [
       "True"
      ]
     },
     "execution_count": 31,
     "metadata": {},
     "output_type": "execute_result"
    }
   ],
   "source": [
    "is_disarium(89)"
   ]
  },
  {
   "cell_type": "markdown",
   "id": "d1cda403",
   "metadata": {},
   "source": [
    "### 2.Write a Python program to print all disarium numbers between 1 to 100?"
   ]
  },
  {
   "cell_type": "markdown",
   "id": "ec5066bb",
   "metadata": {},
   "source": [
    "A disarium number is a number whose sum of digits powered with its respective position is equal to the number itself.\n",
    "\n",
    "For example, the number 89 is a disarium number because 8^1 + 9^2 = 8 + 81 = 89.\n",
    "\n",
    "Disarium numbers are also known as digit-powered numbers, or self-power numbers. They are not very common, and there are not many known disarium numbers. The first few disarium numbers are 89, 175, 518, and 872.\n",
    "\n",
    "The concept of disarium numbers was first introduced by Srinivasan Ramanujan in 1994 and studied by various authors in the field of number theory.\n",
    "\n",
    "It's not easy to find the disarium numbers, especially in large ranges, because it requires iterating through all the numbers in the range and checking them individually to see if they are disarium numbers.\n",
    "\n",
    "It's worth noting that the number 1 is not considered a disarium number because the sum of the digits powered with its respective position is 1^1 = 1 which is equal to the number itself, but the definition of disarium number is that sum of digits powered with its respective position should be greater than the number itself."
   ]
  },
  {
   "cell_type": "code",
   "execution_count": 32,
   "id": "b6f30f71",
   "metadata": {},
   "outputs": [
    {
     "name": "stdout",
     "output_type": "stream",
     "text": [
      "[1, 2, 3, 4, 5, 6, 7, 8, 9, 89]\n"
     ]
    }
   ],
   "source": [
    "def is_disarium(num):\n",
    "    return num == sum(int(digit) ** (index + 1) for index, digit in enumerate(str(num)))\n",
    "\n",
    "disarium_numbers = [n for n in range(1, 101) if is_disarium(n)]\n",
    "print(disarium_numbers)\n"
   ]
  },
  {
   "cell_type": "code",
   "execution_count": 33,
   "id": "152534c0",
   "metadata": {},
   "outputs": [
    {
     "name": "stdout",
     "output_type": "stream",
     "text": [
      "[1, 2, 3, 4, 5, 6, 7, 8, 9, 89]\n",
      "CPU times: total: 0 ns\n",
      "Wall time: 975 µs\n"
     ]
    }
   ],
   "source": [
    "%%time\n",
    "def is_disarium_number(num):\n",
    "    num_str = str(num)\n",
    "    total = 0\n",
    "    for i in range(len(num_str)):\n",
    "        total += int(num_str[i]) ** (i + 1)\n",
    "    return total == num\n",
    "\n",
    "disarium_numbers = []\n",
    "for num in range(1, 101):\n",
    "    if is_disarium_number(num):\n",
    "        disarium_numbers.append(num)\n",
    "print(disarium_numbers)"
   ]
  },
  {
   "cell_type": "markdown",
   "id": "8fa3ab1b",
   "metadata": {},
   "source": [
    "### 3.Write a Python program to check if the given number is Happy Number?"
   ]
  },
  {
   "cell_type": "code",
   "execution_count": 34,
   "id": "7b458a0a",
   "metadata": {},
   "outputs": [
    {
     "name": "stdout",
     "output_type": "stream",
     "text": [
      "True\n",
      "True\n",
      "False\n"
     ]
    }
   ],
   "source": [
    "def is_Happy_num(n):\n",
    "    past = set()\n",
    "    while n != 1:\n",
    "        n = sum(int(i)**2 for i in str(n))\n",
    "        if n in past:\n",
    "            return False\n",
    "        past.add(n)\n",
    "    return True\n",
    "print(is_Happy_num(7))\n",
    "print(is_Happy_num(932))\n",
    "print(is_Happy_num(6))\n"
   ]
  },
  {
   "cell_type": "markdown",
   "id": "a288efca",
   "metadata": {},
   "source": [
    "##### In number theory, a happy number is a number which eventually reaches 1 when replaced by the sum of the square of each \n",
    "digit. For instance, 13 is a happy number because  \n",
    "\n",
    "`1^{2}+3^{2}=10`, and\n",
    "`1^{2}+0^{2}=1`\n",
    "\n",
    "On the other hand, 4 is not a happy number because the sequence starting with \n",
    "\n",
    "\n",
    "`displaystyle 4^{2}=16` and   `1^{2}+6^{2}=37`\n",
    "\n",
    "eventually reaches `2^{2}+0^{2}=4`,\n",
    "\n",
    "the number that started the sequence, and so the process continues in an infinite cycle without ever reaching 1. \n",
    "A number which is not happy is called sad or unhappy."
   ]
  },
  {
   "cell_type": "markdown",
   "id": "b7a9527a",
   "metadata": {},
   "source": [
    "### 4.Write a Python program to print all happy numbers between 1 and 100?"
   ]
  },
  {
   "cell_type": "code",
   "execution_count": 35,
   "id": "f08cfe23",
   "metadata": {},
   "outputs": [
    {
     "name": "stdout",
     "output_type": "stream",
     "text": [
      "True\n",
      "False\n",
      "True\n"
     ]
    }
   ],
   "source": [
    "# define a function to check if a number is a happy number\n",
    "def is_happy(num):\n",
    "  # keep track of the numbers that have been seen in a set\n",
    "  seen = set()\n",
    "\n",
    "  # keep looping until the number is 1 or it has been seen before\n",
    "  while num != 1 and num not in seen:\n",
    "    # add the number to the set of seen numbers\n",
    "    seen.add(num)\n",
    "\n",
    "    # replace the number by the sum of the squares of its digits\n",
    "    sum_of_squares = 0\n",
    "    for digit in str(num):\n",
    "      sum_of_squares += int(digit) ** 2\n",
    "    num = sum_of_squares\n",
    "\n",
    "  # if the number is 1, return True (it is a happy number)\n",
    "  if num == 1:\n",
    "    return True\n",
    "  # if the number has been seen before, return False (it is not a happy number)\n",
    "  else:\n",
    "    return False\n",
    "\n",
    "# test the is_happy() function with some numbers\n",
    "print(is_happy(7))  # True\n",
    "print(is_happy(9))  # False\n",
    "print(is_happy(13))  # True\n",
    "    "
   ]
  },
  {
   "cell_type": "markdown",
   "id": "34ea8345",
   "metadata": {},
   "source": [
    "### 5.Write a Python program to determine whether the given number is a Harshad Number?"
   ]
  },
  {
   "cell_type": "code",
   "execution_count": 36,
   "id": "592d1d88",
   "metadata": {},
   "outputs": [
    {
     "name": "stdout",
     "output_type": "stream",
     "text": [
      "True\n",
      "False\n"
     ]
    }
   ],
   "source": [
    "def is_harshad(n):\n",
    "    return n % sum(int(i) for i in str(n)) == 0\n",
    "print(is_harshad(18)) # True\n",
    "print(is_harshad(145)) # False\n"
   ]
  },
  {
   "cell_type": "markdown",
   "id": "ba084d76",
   "metadata": {},
   "source": [
    "### 6.Write a Python program to print all pronic numbers between 1 and 100?"
   ]
  },
  {
   "cell_type": "code",
   "execution_count": 37,
   "id": "3e915ab9",
   "metadata": {},
   "outputs": [],
   "source": [
    "# define a function to check if a number is a pronic number\n",
    "def is_pronic(num):\n",
    "  # loop through the consecutive integers\n",
    "  for i in range(1, num):\n",
    "    # if the product of the two consecutive integers is equal to the given number, return True\n",
    "    if i * (i + 1) == num:\n",
    "      return True\n",
    "  # if the number is not a pronic number, return False\n",
    "  return False"
   ]
  },
  {
   "cell_type": "code",
   "execution_count": 38,
   "id": "9c0f6406",
   "metadata": {},
   "outputs": [
    {
     "name": "stdout",
     "output_type": "stream",
     "text": [
      "2\n",
      "6\n",
      "12\n",
      "20\n",
      "30\n",
      "42\n",
      "56\n",
      "72\n",
      "90\n"
     ]
    }
   ],
   "source": [
    "# loop through the numbers from 1 to 100\n",
    "for num in range(1, 101):\n",
    "  # if the number is a pronic number, print it\n",
    "  if is_pronic(num):\n",
    "    print(num)\n",
    "#This program first defines a function called is_pronic() that takes a number as an argument and returns True if it is a pronic number, and False otherwise. The function does this by looping through the consecutive integers and checking if their product is equal to the given number.\n"
   ]
  }
 ],
 "metadata": {
  "hide_input": false,
  "kernelspec": {
   "display_name": "Neuron",
   "language": "python",
   "name": "neuron"
  },
  "language_info": {
   "codemirror_mode": {
    "name": "ipython",
    "version": 3
   },
   "file_extension": ".py",
   "mimetype": "text/x-python",
   "name": "python",
   "nbconvert_exporter": "python",
   "pygments_lexer": "ipython3",
   "version": "3.10.4"
  },
  "nbTranslate": {
   "displayLangs": [
    "*"
   ],
   "hotkey": "alt-t",
   "langInMainMenu": true,
   "sourceLang": "en",
   "targetLang": "fr",
   "useGoogleTranslate": true
  },
  "toc": {
   "base_numbering": 1,
   "nav_menu": {},
   "number_sections": true,
   "sideBar": true,
   "skip_h1_title": false,
   "title_cell": "Table of Contents",
   "title_sidebar": "Contents",
   "toc_cell": false,
   "toc_position": {},
   "toc_section_display": true,
   "toc_window_display": false
  }
 },
 "nbformat": 4,
 "nbformat_minor": 5
}
