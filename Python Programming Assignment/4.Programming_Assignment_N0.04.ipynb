{
 "cells": [
  {
   "cell_type": "markdown",
   "id": "1de9e634",
   "metadata": {},
   "source": [
    "1.Write a Python Program to Find the Factorial of a Number?"
   ]
  },
  {
   "cell_type": "code",
   "execution_count": 1,
   "id": "7ca8fca8",
   "metadata": {},
   "outputs": [
    {
     "name": "stdout",
     "output_type": "stream",
     "text": [
      "The factorial of 7 is 5040\n"
     ]
    }
   ],
   "source": [
    "def factorial(x):\n",
    "    \"\"\"This is a recursive function\n",
    "    to find the factorial of an integer\"\"\"\n",
    "\n",
    "    if x == 1:\n",
    "        return 1\n",
    "    else:\n",
    "        # recursive call to the function\n",
    "        return (x * factorial(x-1))\n",
    "\n",
    "\n",
    "# change the value for a different result\n",
    "num = 7\n",
    "\n",
    "# to take input from the user\n",
    "# num = int(input(\"Enter a number: \"))\n",
    "\n",
    "# call the factorial function\n",
    "result = factorial(num)\n",
    "print(\"The factorial of\", num, \"is\", result)"
   ]
  },
  {
   "cell_type": "code",
   "execution_count": 3,
   "id": "f914aa57",
   "metadata": {},
   "outputs": [
    {
     "name": "stdout",
     "output_type": "stream",
     "text": [
      "The factorial of 8 is 40320\n"
     ]
    }
   ],
   "source": [
    "# Alternate Method\n",
    "num = 8\n",
    "\n",
    "# To take input from the user\n",
    "#num = int(input(\"Enter a number: \"))\n",
    "\n",
    "factorial = 1\n",
    "\n",
    "# check if the number is negative, positive or zero\n",
    "if num < 0:\n",
    "   print(\"Sorry, factorial does not exist for negative numbers\")\n",
    "elif num == 0:\n",
    "   print(\"The factorial of 0 is 1\")\n",
    "else:\n",
    "   for i in range(1,num + 1):\n",
    "       factorial = factorial*i\n",
    "   print(\"The factorial of\",num,\"is\",factorial)"
   ]
  },
  {
   "cell_type": "code",
   "execution_count": null,
   "id": "7ad12b04",
   "metadata": {},
   "outputs": [],
   "source": []
  },
  {
   "cell_type": "code",
   "execution_count": null,
   "id": "37da8930",
   "metadata": {},
   "outputs": [],
   "source": []
  },
  {
   "cell_type": "markdown",
   "id": "59fdeb5d",
   "metadata": {},
   "source": [
    "2.Write a Python Program to Display the multiplication Table?"
   ]
  },
  {
   "cell_type": "code",
   "execution_count": 23,
   "id": "bff814dc",
   "metadata": {},
   "outputs": [],
   "source": [
    "def table(x,n):\n",
    "    \"\"\"\n",
    "    Enter the Number whoes table\n",
    "    you want to get & the length of that table \n",
    "    \"\"\"\n",
    "    if x >= 1 and n>=1:\n",
    "        for i in range(1,n+1):\n",
    "            table =(x*i)\n",
    "            print(table,end=\" \") \n",
    "    else:\n",
    "        print(\"Enter positive number\")"
   ]
  },
  {
   "cell_type": "code",
   "execution_count": 26,
   "id": "f7660f23",
   "metadata": {},
   "outputs": [
    {
     "name": "stdout",
     "output_type": "stream",
     "text": [
      "10 20 30 40 50 60 70 80 90 100 "
     ]
    }
   ],
   "source": [
    "table(10,10)"
   ]
  },
  {
   "cell_type": "code",
   "execution_count": null,
   "id": "ea52377d",
   "metadata": {},
   "outputs": [],
   "source": []
  },
  {
   "cell_type": "markdown",
   "id": "7780f391",
   "metadata": {},
   "source": [
    "3.Write a Python Program to Print the Fibonacci sequence?"
   ]
  },
  {
   "cell_type": "code",
   "execution_count": 15,
   "id": "6c149b46",
   "metadata": {},
   "outputs": [
    {
     "name": "stdout",
     "output_type": "stream",
     "text": [
      "1 1 2 3 5 8 13 21 34 55 89 144 233 377 610 "
     ]
    }
   ],
   "source": [
    "def Fib(x):\n",
    "    \"\"\"\n",
    "    MEthod is used to \n",
    "    find the fibonacci series\n",
    "    \"\"\"\n",
    "    if x <= 1:\n",
    "        return 1\n",
    "    else:\n",
    "          return Fib(x-1) +  Fib(x-2)\n",
    "\n",
    "for i in range(15):\n",
    "    print(Fib(i),end=\" \")"
   ]
  },
  {
   "cell_type": "markdown",
   "id": "af7a5165",
   "metadata": {},
   "source": [
    "4.Write a Python Program to Check Armstrong Number?"
   ]
  },
  {
   "cell_type": "markdown",
   "id": "517697dc",
   "metadata": {},
   "source": [
    "What are Armstrong Numbers?\n",
    "The Armstrong number in python is the number in which the sum of each digit powered to the total number of digits is the same as the given number. i.e. for a given number say 153, 1^3 + 5^3 + 3^3 is equal to 153. Take another example, say, 1634 = 1^4 +6^4 +3^4 + 4^4 is an Armstrong number. Any number in any number system exhibits this sum property, which will be called an Armstrong number.\n",
    "\n",
    "Armstrong numbers are also called Narcissistic numbers. Armstrong numbers don’t have real-life applications. It is just another number puzzle."
   ]
  },
  {
   "cell_type": "code",
   "execution_count": 10,
   "id": "0a0d79ae",
   "metadata": {},
   "outputs": [
    {
     "name": "stdout",
     "output_type": "stream",
     "text": [
      "Given number is a three-digit Armstrong Number\n"
     ]
    }
   ],
   "source": [
    "number = 153\n",
    "temp = number\n",
    "add_sum = 0\n",
    "while temp != 0:\n",
    "    k = temp % 10\n",
    "    add_sum += k*k*k\n",
    "    temp = temp//10\n",
    "if add_sum == number:\n",
    "    print('Given number is a three-digit Armstrong Number')\n",
    "else:\n",
    "    print('Given number is not an Armstrong Number')"
   ]
  },
  {
   "cell_type": "markdown",
   "id": "6244b92b",
   "metadata": {},
   "source": [
    "5.Write a Python Program to Find Armstrong Number in an Interval?"
   ]
  },
  {
   "cell_type": "code",
   "execution_count": 13,
   "id": "fb680678",
   "metadata": {},
   "outputs": [
    {
     "name": "stdout",
     "output_type": "stream",
     "text": [
      "1 2 3 4 5 6 7 8 9 153 370 371 407 "
     ]
    }
   ],
   "source": [
    "# Program to check Armstrong numbers in a certain interval\n",
    "\n",
    "lower = 1\n",
    "upper = 1000\n",
    "\n",
    "for num in range(lower, upper + 1):\n",
    "\n",
    "    # order of number\n",
    "    order = len(str(num))\n",
    "\n",
    "    # initialize sum\n",
    "    sum = 0\n",
    "\n",
    "    temp = num\n",
    "    while temp > 0:\n",
    "       digit = temp % 10\n",
    "       sum += digit ** order\n",
    "       temp //= 10\n",
    "\n",
    "    if num == sum:\n",
    "       print(num,end=\" \")"
   ]
  },
  {
   "cell_type": "markdown",
   "id": "4ab73f00",
   "metadata": {},
   "source": [
    "6.Write a Python Program to Find the Sum of Natural Numbers?"
   ]
  },
  {
   "cell_type": "code",
   "execution_count": 14,
   "id": "34d8d26d",
   "metadata": {},
   "outputs": [
    {
     "name": "stdout",
     "output_type": "stream",
     "text": [
      "The sum is 36\n"
     ]
    }
   ],
   "source": [
    "\n",
    "\n",
    "num = 8\n",
    "\n",
    "if num < 0:\n",
    "   print(\"Enter a positive number\")\n",
    "else:\n",
    "       suma = 0\n",
    "       # use while loop to iterate until zero\n",
    "       while(num > 0):\n",
    "           suma += num\n",
    "           num -= 1\n",
    "       print(\"The sum is\", suma)"
   ]
  }
 ],
 "metadata": {
  "hide_input": false,
  "kernelspec": {
   "display_name": "Neuron",
   "language": "python",
   "name": "neuron"
  },
  "language_info": {
   "codemirror_mode": {
    "name": "ipython",
    "version": 3
   },
   "file_extension": ".py",
   "mimetype": "text/x-python",
   "name": "python",
   "nbconvert_exporter": "python",
   "pygments_lexer": "ipython3",
   "version": "3.10.4"
  },
  "nbTranslate": {
   "displayLangs": [
    "*"
   ],
   "hotkey": "alt-t",
   "langInMainMenu": true,
   "sourceLang": "en",
   "targetLang": "fr",
   "useGoogleTranslate": true
  },
  "toc": {
   "base_numbering": 1,
   "nav_menu": {},
   "number_sections": true,
   "sideBar": true,
   "skip_h1_title": false,
   "title_cell": "Table of Contents",
   "title_sidebar": "Contents",
   "toc_cell": false,
   "toc_position": {},
   "toc_section_display": true,
   "toc_window_display": false
  }
 },
 "nbformat": 4,
 "nbformat_minor": 5
}
