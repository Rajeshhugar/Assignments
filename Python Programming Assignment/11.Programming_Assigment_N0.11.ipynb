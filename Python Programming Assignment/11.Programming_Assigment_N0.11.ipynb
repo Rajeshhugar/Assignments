{
 "cells": [
  {
   "cell_type": "markdown",
   "id": "d92a66f3",
   "metadata": {},
   "source": [
    "### 1.\tWrite a Python program to find words which are greater than given length k?"
   ]
  },
  {
   "cell_type": "code",
   "execution_count": 1,
   "id": "edd7fe51",
   "metadata": {},
   "outputs": [],
   "source": [
    "string = \"\"\"Despite its economic importance,\n",
    "Lubumbashi and the Haut-Katanga province have been affected by poverty and instability,\n",
    "particularly during the civil war in the 1990s and 2000s.\n",
    "However, the city is considered relatively safe and stable compared to other parts of the DRC\n",
    ", and it continues to attract investment and development.\"\"\""
   ]
  },
  {
   "cell_type": "code",
   "execution_count": 2,
   "id": "fc707830",
   "metadata": {},
   "outputs": [
    {
     "name": "stdout",
     "output_type": "stream",
     "text": [
      "['Despite', 'its', 'economic', 'importance,', 'Lubumbashi', 'and', 'the', 'Haut-Katanga', 'province', 'have', 'been', 'affected', 'by', 'poverty', 'and', 'instability,', 'particularly', 'during', 'the', 'civil', 'war', 'in', 'the', '1990s', 'and', '2000s.', 'However,', 'the', 'city', 'is', 'considered', 'relatively', 'safe', 'and', 'stable', 'compared', 'to', 'other', 'parts', 'of', 'the', 'DRC', ',', 'and', 'it', 'continues', 'to', 'attract', 'investment', 'and', 'development.']\n"
     ]
    }
   ],
   "source": [
    "print(string.split())"
   ]
  },
  {
   "cell_type": "code",
   "execution_count": 3,
   "id": "8718eecb",
   "metadata": {},
   "outputs": [],
   "source": [
    "def find_word(string:str,K:int):\n",
    "    greater_than_k_=[]\n",
    "    strring = string.split()\n",
    "    for i in strring:\n",
    "        if len(i)>K:\n",
    "            greater_than_k_.append(i)\n",
    "        else:\n",
    "            continue\n",
    "            \n",
    "    return set(greater_than_k_)"
   ]
  },
  {
   "cell_type": "code",
   "execution_count": 4,
   "id": "3c1a52cb",
   "metadata": {},
   "outputs": [
    {
     "data": {
      "text/plain": [
       "{'Haut-Katanga',\n",
       " 'However,',\n",
       " 'Lubumbashi',\n",
       " 'affected',\n",
       " 'compared',\n",
       " 'considered',\n",
       " 'continues',\n",
       " 'development.',\n",
       " 'economic',\n",
       " 'importance,',\n",
       " 'instability,',\n",
       " 'investment',\n",
       " 'particularly',\n",
       " 'province',\n",
       " 'relatively'}"
      ]
     },
     "execution_count": 4,
     "metadata": {},
     "output_type": "execute_result"
    }
   ],
   "source": [
    "find_word(string,7)"
   ]
  },
  {
   "cell_type": "markdown",
   "id": "01b945a3",
   "metadata": {},
   "source": [
    "### 2.\tWrite a Python program for removing i-th character from a string?"
   ]
  },
  {
   "cell_type": "code",
   "execution_count": 5,
   "id": "4911272d",
   "metadata": {},
   "outputs": [
    {
     "name": "stdout",
     "output_type": "stream",
     "text": [
      "['India', 'is', 'one', 'the', 'third', 'largest', 'economy', 'while', 'pakistan', 'is', 'struggling', 'day', 'to', 'day']\n",
      "struggling\n",
      "['India', 'is', 'one', 'the', 'third', 'largest', 'economy', 'while', 'pakistan', 'is', 'day', 'to', 'day']\n",
      "India is one the third largest economy while pakistan is day to day\n"
     ]
    }
   ],
   "source": [
    "def remove_nth_char(x:str,y:int):\n",
    "    z=x.split()\n",
    "    print(z)\n",
    "    a=z[y]\n",
    "    print(a)\n",
    "    z.remove(a)\n",
    "    print(z)\n",
    "    remove=\" \".join(z)\n",
    "    print(remove) \n",
    "\n",
    "if __name__==\"__main__\":\n",
    "    raj=\"India is one the third largest economy while pakistan is struggling day to day\"\n",
    "    remove_nth_char(raj,10)"
   ]
  },
  {
   "cell_type": "markdown",
   "id": "ba6ffdaf",
   "metadata": {},
   "source": [
    "### 3.\tWrite a Python program to split and join a string?"
   ]
  },
  {
   "cell_type": "code",
   "execution_count": 6,
   "id": "2eedff12",
   "metadata": {},
   "outputs": [],
   "source": [
    "def split(string):\n",
    "    words=string.split()\n",
    "    print(f'The splited string is :: \\n',words)\n",
    "    joined=\" \".join(words)\n",
    "    print(f\"The joined string is::\\n \",joined)"
   ]
  },
  {
   "cell_type": "code",
   "execution_count": 7,
   "id": "6f861a8d",
   "metadata": {},
   "outputs": [
    {
     "name": "stdout",
     "output_type": "stream",
     "text": [
      "The splited string is :: \n",
      " ['Transfer', 'learning', 'is', 'a', 'research', 'problem', 'in', 'machine', 'learning', 'that', 'focuses', 'on', 'storing', 'knowledge', 'gained', 'while', 'solving', 'one', 'problem', 'and', 'applying', 'it', 'to', 'a', 'different', 'but', 'related', 'problem.', 'For', 'example,', 'knowledge', 'gained', 'while', 'learning', 'to', 'recognize', 'cars', 'could', 'apply', 'when', 'trying', 'to', 'recognize', 'trucks.']\n",
      "The joined string is::\n",
      "  Transfer learning is a research problem in machine learning that focuses on storing knowledge gained while solving one problem and applying it to a different but related problem. For example, knowledge gained while learning to recognize cars could apply when trying to recognize trucks.\n"
     ]
    }
   ],
   "source": [
    "string=\"\"\"Transfer learning is a research problem in machine learning that focuses on\n",
    "storing knowledge gained while solving one problem and applying it to a different but \n",
    "related problem. For example, knowledge gained while learning to\n",
    "recognize cars could apply when trying to recognize trucks.\"\"\"\n",
    "split(string)"
   ]
  },
  {
   "cell_type": "markdown",
   "id": "48f6f93c",
   "metadata": {},
   "source": [
    "### 4.\tWrite a Python to check if a given string is binary string or not?"
   ]
  },
  {
   "cell_type": "code",
   "execution_count": 8,
   "id": "27d8b9e3",
   "metadata": {},
   "outputs": [
    {
     "name": "stdout",
     "output_type": "stream",
     "text": [
      "True\n",
      "False\n"
     ]
    }
   ],
   "source": [
    "import re\n",
    "\n",
    "def is_binary_string(string):\n",
    "    # Regular expression to match a binary string\n",
    "    pattern = r'^[01]+$'\n",
    "    return bool(re.match(pattern, string))\n",
    "\n",
    "# Example usage\n",
    "string1 = \"1010101\"\n",
    "string2 = \"hello\"\n",
    "\n",
    "print(is_binary_string(string1)) # True\n",
    "print(is_binary_string(string2)) # False\n"
   ]
  },
  {
   "cell_type": "markdown",
   "id": "4765498b",
   "metadata": {},
   "source": [
    "### 5.\tWrite a Python program to find uncommon words from two Strings?"
   ]
  },
  {
   "cell_type": "code",
   "execution_count": 9,
   "id": "94c41144",
   "metadata": {},
   "outputs": [
    {
     "data": {
      "text/plain": [
       "{'by', 'played'}"
      ]
     },
     "execution_count": 9,
     "metadata": {},
     "output_type": "execute_result"
    }
   ],
   "source": [
    "x=\"Messi Is  Goat of football \"\n",
    "y=\"Football is Played by Messi \"\n",
    "\n",
    "def str_uncomman(x:str,y:str):\n",
    "    x= x.lower().split()\n",
    "    y= y.lower().split()\n",
    "    l=set()\n",
    "    for i in x:  \n",
    "        for j in y:\n",
    "            if j not in x:\n",
    "                l.add(j)\n",
    "    return l\n",
    "str_uncomman(x,y)"
   ]
  },
  {
   "cell_type": "markdown",
   "id": "8dd088fd",
   "metadata": {},
   "source": [
    "### 6.\tWrite a Python to find all duplicate characters in string?"
   ]
  },
  {
   "cell_type": "code",
   "execution_count": 10,
   "id": "5cddd310",
   "metadata": {},
   "outputs": [],
   "source": [
    "string=\"\"\"\n",
    "Transfer learning is a research problem in machine learning that focuses on storing knowledge gained while solving one problem and applying it to a different but related problem. For example, knowledge gained while learning to recognize cars could apply when trying to recognize trucks.\"\"\"\n",
    "def duplicate(string):\n",
    "    word_list=[]\n",
    "    duplicate_list=[]\n",
    "    string_list=string.split()\n",
    "    for words in string_list:\n",
    "        if words not in word_list:\n",
    "            word_list.append(words)\n",
    "        else:\n",
    "            duplicate_list.append(words)\n",
    "            \n",
    "    return duplicate_list"
   ]
  },
  {
   "cell_type": "code",
   "execution_count": 11,
   "id": "31319bbd",
   "metadata": {},
   "outputs": [
    {
     "data": {
      "text/plain": [
       "['learning',\n",
       " 'problem',\n",
       " 'a',\n",
       " 'knowledge',\n",
       " 'gained',\n",
       " 'while',\n",
       " 'learning',\n",
       " 'to',\n",
       " 'to',\n",
       " 'recognize']"
      ]
     },
     "execution_count": 11,
     "metadata": {},
     "output_type": "execute_result"
    }
   ],
   "source": [
    "duplicate(string)"
   ]
  },
  {
   "cell_type": "markdown",
   "id": "61985d9b",
   "metadata": {},
   "source": [
    "### 7.\tWrite a Python Program to check if a string contains any special character?"
   ]
  },
  {
   "cell_type": "code",
   "execution_count": 12,
   "id": "82c4e51f",
   "metadata": {},
   "outputs": [
    {
     "name": "stdout",
     "output_type": "stream",
     "text": [
      "Yes the string contains special character \n",
      "{'.', '*', '@', '-', ';', ',', '=', '<', '+', '(', '\\\\', ':', '[', '/', ')', \"'\"}\n"
     ]
    }
   ],
   "source": [
    "from string import punctuation\n",
    "\n",
    "\n",
    "def string_specia(x:str):\n",
    "    r=[]\n",
    "    for i in punctuation:\n",
    "        if i in x:\n",
    "            r.append(i)\n",
    "    if len(r)> 0:\n",
    "        print(\"Yes the string contains special character \")\n",
    "        #print(\" \".join(r))\n",
    "        print(set(r))\n",
    "        \n",
    "\n",
    "if __name__==\"__main__\":\n",
    "    x = \"\"\"Rajesh is an Indian actor who has performed in Tamil and M'() * + , \n",
    "             -./   : ; <=     @  [ \\ \\a layalam films and serials.\n",
    "        He has completed more than 47 years in films and appeared as lead roles \"\"\"\n",
    "    string_specia(x)"
   ]
  },
  {
   "cell_type": "code",
   "execution_count": null,
   "id": "7f03296b",
   "metadata": {},
   "outputs": [],
   "source": []
  },
  {
   "cell_type": "code",
   "execution_count": null,
   "id": "6093394e",
   "metadata": {},
   "outputs": [],
   "source": []
  }
 ],
 "metadata": {
  "hide_input": false,
  "kernelspec": {
   "display_name": "Python 3 (ipykernel)",
   "language": "python",
   "name": "python3"
  },
  "language_info": {
   "codemirror_mode": {
    "name": "ipython",
    "version": 3
   },
   "file_extension": ".py",
   "mimetype": "text/x-python",
   "name": "python",
   "nbconvert_exporter": "python",
   "pygments_lexer": "ipython3",
   "version": "3.9.12"
  },
  "nbTranslate": {
   "displayLangs": [
    "*"
   ],
   "hotkey": "alt-t",
   "langInMainMenu": true,
   "sourceLang": "en",
   "targetLang": "fr",
   "useGoogleTranslate": true
  },
  "toc": {
   "base_numbering": 1,
   "nav_menu": {},
   "number_sections": true,
   "sideBar": true,
   "skip_h1_title": false,
   "title_cell": "Table of Contents",
   "title_sidebar": "Contents",
   "toc_cell": false,
   "toc_position": {},
   "toc_section_display": true,
   "toc_window_display": false
  }
 },
 "nbformat": 4,
 "nbformat_minor": 5
}
