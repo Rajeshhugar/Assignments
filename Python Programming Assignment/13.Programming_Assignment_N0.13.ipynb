{
 "cells": [
  {
   "cell_type": "markdown",
   "id": "4f1c7561",
   "metadata": {},
   "source": [
    "\n",
    "\n",
    "###  **Question 1:** Write a program that calculates and prints the value according to the given formula:\n",
    "\n",
    "Q = Square root of `[(2 * C * D)/H]`\n",
    "\n",
    "Following are the fixed values of C and H:\n",
    "\n",
    "`C is 50. H is 30.`\n",
    "\n",
    "D is the variable whose values should be input to your program in a comma-separated sequence.\n",
    "\n",
    "**Example**\n",
    "\n",
    "Let us assume the following comma separated input sequence is given to the program:`100,150,180`\n",
    "\n",
    "The output of the program should be:`18,22,24`"
   ]
  },
  {
   "cell_type": "code",
   "execution_count": 1,
   "id": "e6679582",
   "metadata": {},
   "outputs": [],
   "source": [
    "import math\n",
    "def formula(D):\n",
    "    C=50\n",
    "    H=30\n",
    "    for i in D:\n",
    "        Q=math.sqrt((2*C*i)/H)\n",
    "        print(round(Q),end=\",\")"
   ]
  },
  {
   "cell_type": "code",
   "execution_count": 2,
   "id": "c4a9cd0b",
   "metadata": {},
   "outputs": [
    {
     "name": "stdout",
     "output_type": "stream",
     "text": [
      "18,22,24,"
     ]
    }
   ],
   "source": [
    "formula([100,150,180])"
   ]
  },
  {
   "cell_type": "code",
   "execution_count": 3,
   "id": "9feabad7",
   "metadata": {},
   "outputs": [
    {
     "data": {
      "text/plain": [
       "3.1622776601683795"
      ]
     },
     "execution_count": 3,
     "metadata": {},
     "output_type": "execute_result"
    }
   ],
   "source": [
    "import math\n",
    "math.sqrt(10)"
   ]
  },
  {
   "cell_type": "markdown",
   "id": "76722ba0",
   "metadata": {},
   "source": [
    "### **Question 2:**Write a program which takes 2 digits, X,Y as input and generates a 2-dimensional array. The element value in the i-th row and j-th column of the array should be i*j.\n",
    "\n",
    "\n",
    "Note: `i=0,1.., X-1; j=0,1,¡¬Y-1.`\n",
    "\n",
    "**Example**\n",
    "\n",
    "Suppose the following inputs are given to the program:\n",
    "\n",
    "`3,5`\n",
    "\n",
    "Then, the output of the program should be:\n",
    "\n",
    "`[[0, 0, 0, 0, 0], [0, 1, 2, 3, 4], [0, 2, 4, 6, 8]] `"
   ]
  },
  {
   "cell_type": "code",
   "execution_count": 1,
   "id": "d3f8dab2",
   "metadata": {},
   "outputs": [
    {
     "name": "stdout",
     "output_type": "stream",
     "text": [
      "[[0, 0, 0, 0, 0], [0, 1, 2, 3, 4], [0, 2, 4, 6, 8]]\n"
     ]
    }
   ],
   "source": [
    "def i_j(X,Y):\n",
    "    l2=[]\n",
    "    for i in range(3):\n",
    "        list1=[ele*i for ele in range(5)]\n",
    "        l2.append(list1)\n",
    "    print((l2))\n",
    "i_j(3,5)"
   ]
  },
  {
   "cell_type": "markdown",
   "id": "7100ac10",
   "metadata": {
    "run_control": {
     "marked": true
    }
   },
   "source": [
    "###  **Question 3:**Write a program that accepts a comma separated sequence of words as input and prints the words in a comma-separated sequence after sorting them alphabetically.\n",
    "\n",
    "\n",
    "Suppose the following input is supplied to the program:`without,hello,bag,world`\n",
    "\n",
    "Then, the output should be:`bag,hello,without,world`"
   ]
  },
  {
   "cell_type": "code",
   "execution_count": 5,
   "id": "6603c8f2",
   "metadata": {},
   "outputs": [],
   "source": [
    "def sort_words(list_input):\n",
    "    lower_list=[]\n",
    "    for i in list_input:\n",
    "        #print(i)\n",
    "        x=i.lower()\n",
    "        lower_list.append(x)\n",
    "    return (sorted(lower_list))"
   ]
  },
  {
   "cell_type": "code",
   "execution_count": 6,
   "id": "21d2032c",
   "metadata": {},
   "outputs": [
    {
     "data": {
      "text/plain": [
       "['dinesh', 'nikhil', 'raj', 'rohan', 'sudhanshu']"
      ]
     },
     "execution_count": 6,
     "metadata": {},
     "output_type": "execute_result"
    }
   ],
   "source": [
    "sort_words([\"Raj\",\"nikhil\",\"rohan\",\"dinesh\",\"sudhanshu\"])"
   ]
  },
  {
   "cell_type": "code",
   "execution_count": 7,
   "id": "20948eaa",
   "metadata": {},
   "outputs": [
    {
     "data": {
      "text/plain": [
       "['bag', 'hello', 'without', 'world']"
      ]
     },
     "execution_count": 7,
     "metadata": {},
     "output_type": "execute_result"
    }
   ],
   "source": [
    "x=[\"without\",\"hello\",\"bag\",\"world\"]\n",
    "sort_words(x)"
   ]
  },
  {
   "cell_type": "markdown",
   "id": "c967524a",
   "metadata": {},
   "source": [
    "### **Question 4:** Write a program that accepts a sequence of whitespace separated words as input and prints the words after removing all duplicate words and sorting them alphanumerically.\n",
    "    \n",
    "\n",
    "\n",
    "Suppose the following input is supplied to the program:\n",
    "\n",
    "`hello world and practice makes perfect and hello world again`\n",
    "\n",
    "Then, the output should be:\n",
    "\n",
    "`again and hello makes perfect practice world`"
   ]
  },
  {
   "cell_type": "code",
   "execution_count": 8,
   "id": "afaebe47",
   "metadata": {},
   "outputs": [
    {
     "name": "stdout",
     "output_type": "stream",
     "text": [
      "again and hello makes perfect practice world\n"
     ]
    }
   ],
   "source": [
    "\n",
    "\n",
    "def remove_duplicate(x):\n",
    "    '''\n",
    "    This function takes input as string\n",
    "    and gives out as string after removing \n",
    "    the duplicate words'''\n",
    "    word_list=x.split()\n",
    "    return ' '.join(sorted(set(word_list)))\n",
    "\n",
    "\n",
    "if __name__== '__main__':\n",
    "    \n",
    "    x='hello world and practice makes perfect and hello world again' \n",
    "    print(remove_duplicate(x))"
   ]
  },
  {
   "cell_type": "markdown",
   "id": "7662620a",
   "metadata": {},
   "source": [
    "### **Question 5:** Write a program that accepts a sentence and calculate the number of letters and digits.\n",
    "\n",
    "\n",
    "\n",
    "Suppose the following input is supplied to the program:\n",
    "\n",
    "`hello world! 123`\n",
    "\n",
    "Then, the output should be:\n",
    "\n",
    "`LETTERS 10`\n",
    "\n",
    "`DIGITS 3`"
   ]
  },
  {
   "cell_type": "code",
   "execution_count": 9,
   "id": "a839c736",
   "metadata": {},
   "outputs": [],
   "source": [
    "def count_letter_digits(string):\n",
    "    LETTERS=[]\n",
    "    DIGITS =[]\n",
    "    for i in string:\n",
    "        if i.isdigit()==True:\n",
    "            DIGITS.append(i)\n",
    "        else:\n",
    "            LETTERS.append(i)\n",
    "    print('LETTERS :',len(LETTERS))\n",
    "    print('DIGITS :',len(DIGITS))"
   ]
  },
  {
   "cell_type": "code",
   "execution_count": 10,
   "id": "8328965b",
   "metadata": {},
   "outputs": [
    {
     "name": "stdout",
     "output_type": "stream",
     "text": [
      "LETTERS : 13\n",
      "DIGITS : 3\n"
     ]
    }
   ],
   "source": [
    "string = 'hello world! 123'\n",
    "count_letter_digits(string)"
   ]
  },
  {
   "cell_type": "markdown",
   "id": "7317c925",
   "metadata": {},
   "source": [
    "### Question 6:A website requires the users to input username and password to register. Write a program to check the validity of password input by users.\n",
    "\n",
    "Following are the criteria for checking the password:\n",
    "\n",
    "1. At least 1 letter between [a-z]\n",
    "\n",
    "2. At least 1 number between [0-9]\n",
    "\n",
    "1. At least 1 letter between [A-Z]\n",
    "\n",
    "3. At least 1 character from [$#@]\n",
    "\n",
    "4. Minimum length of transaction password: 6\n",
    "\n",
    "5. Maximum length of transaction password: 12\n",
    "\n",
    "Your program should accept a sequence of comma separated passwords and will check them according to the above criteria. Passwords that match the criteria are to be printed, each separated by a comma.\n",
    "\n",
    "Example\n",
    "\n",
    "If the following passwords are given as input to the program:\n",
    "\n",
    "`ABd1234@1,a F1#,2w3E*,2We3345`\n",
    "\n",
    "Then, the output of the program should be:\n",
    "\n",
    "ABd1234@1"
   ]
  },
  {
   "cell_type": "code",
   "execution_count": 11,
   "id": "69f59ad4",
   "metadata": {
    "run_control": {
     "marked": true
    }
   },
   "outputs": [],
   "source": [
    "import re\n",
    "string=['ABd1234@1','a F1#','2w3E*','2We3345']\n",
    "def password_check(string):\n",
    "    \n",
    "    ''' This function checks the strength of the \n",
    "     and gives us the passowrd which satisfies the criteria\n",
    "\n",
    "    '''\n",
    "    small_letter=[]\n",
    "    big_letters=[]\n",
    "    numbers=[]\n",
    "    special=[]\n",
    "    condition_statisfy=[]\n",
    "    for i in string:\n",
    "        if (re.findall('[a-z]',i)):\n",
    "            small_letter.append(i)\n",
    "        if (re.findall('[A-Z]',i)):\n",
    "            big_letters.append(i)\n",
    "        if ((re.findall('[0-9]',i))):\n",
    "            numbers.append(i)\n",
    "        if (re.findall('[#@$]',i)):\n",
    "            special.append(i)\n",
    "\n",
    "    for i in string :\n",
    "        if i in small_letter and i in big_letters and i in numbers and i in special:\n",
    "            condition_statisfy.append(i)\n",
    "\n",
    "\n",
    "    for i in condition_statisfy:\n",
    "        if len(i) > 6 and len(i) <12:\n",
    "            print(i)\n"
   ]
  },
  {
   "cell_type": "code",
   "execution_count": 12,
   "id": "97c547c9",
   "metadata": {},
   "outputs": [
    {
     "name": "stdout",
     "output_type": "stream",
     "text": [
      "ABd1234@1\n"
     ]
    }
   ],
   "source": [
    "password_check(string)"
   ]
  }
 ],
 "metadata": {
  "hide_input": false,
  "kernelspec": {
   "display_name": "Rajesh_3.10",
   "language": "python",
   "name": "rajesh_3.10"
  },
  "language_info": {
   "codemirror_mode": {
    "name": "ipython",
    "version": 3
   },
   "file_extension": ".py",
   "mimetype": "text/x-python",
   "name": "python",
   "nbconvert_exporter": "python",
   "pygments_lexer": "ipython3",
   "version": "3.10.4"
  },
  "nbTranslate": {
   "displayLangs": [
    "*"
   ],
   "hotkey": "alt-t",
   "langInMainMenu": true,
   "sourceLang": "en",
   "targetLang": "fr",
   "useGoogleTranslate": true
  },
  "toc": {
   "base_numbering": 1,
   "nav_menu": {},
   "number_sections": true,
   "sideBar": true,
   "skip_h1_title": false,
   "title_cell": "Table of Contents",
   "title_sidebar": "Contents",
   "toc_cell": false,
   "toc_position": {},
   "toc_section_display": true,
   "toc_window_display": false
  }
 },
 "nbformat": 4,
 "nbformat_minor": 5
}
