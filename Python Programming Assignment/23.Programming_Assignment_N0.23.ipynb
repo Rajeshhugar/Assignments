{
 "cells": [
  {
   "cell_type": "code",
   "execution_count": null,
   "id": "553fb353",
   "metadata": {},
   "outputs": [],
   "source": [
    "Question 1\n",
    "Create a function that takes a number as an argument and returns True or False depending on whether the number is symmetrical or not. A number is symmetrical when it is the same as its reverse.\n",
    "Examples\n",
    "is_symmetrical(7227) ➞ True\n",
    "\n",
    "is_symmetrical(12567) ➞ False\n",
    "\n",
    "is_symmetrical(44444444) ➞ True\n",
    "\n",
    "is_symmetrical(9939) ➞ False\n",
    "\n",
    "is_symmetrical(1112111) ➞ True"
   ]
  },
  {
   "cell_type": "code",
   "execution_count": 35,
   "id": "fb95e851",
   "metadata": {},
   "outputs": [],
   "source": [
    "def is_symmetrical(x):\n",
    "    y=str(x)\n",
    "    if y == y[::-1]:\n",
    "       # print(y)\n",
    "        return True \n",
    "    else:\n",
    "        print(y)\n",
    "        return False "
   ]
  },
  {
   "cell_type": "code",
   "execution_count": 36,
   "id": "f8719876",
   "metadata": {
    "scrolled": true
   },
   "outputs": [
    {
     "data": {
      "text/plain": [
       "'121'"
      ]
     },
     "execution_count": 36,
     "metadata": {},
     "output_type": "execute_result"
    }
   ],
   "source": [
    "is_symmetrical(122)"
   ]
  },
  {
   "cell_type": "code",
   "execution_count": null,
   "id": "ae1a1eb5",
   "metadata": {},
   "outputs": [],
   "source": [
    "Question 2\n",
    "Given a string of numbers separated by a comma and space, return the product of the numbers.\n",
    "Examples\n",
    "multiply_nums(\"2, 3\") ➞ 6\n",
    "\n",
    "multiply_nums(\"1, 2, 3, 4\") ➞ 24\n",
    "\n",
    "multiply_nums(\"54, 75, 453, 0\") ➞ 0\n",
    "\n",
    "multiply_nums(\"10, -2\") ➞ -20"
   ]
  },
  {
   "cell_type": "code",
   "execution_count": 40,
   "id": "a8ebfc78",
   "metadata": {},
   "outputs": [],
   "source": [
    "\n",
    "def multiply_num(s):\n",
    "    y=1\n",
    "    s=s.split(\",\")\n",
    "    for i in s:\n",
    "        x=int(i)\n",
    "        y= x*y\n",
    "    return y"
   ]
  },
  {
   "cell_type": "code",
   "execution_count": 44,
   "id": "d3254869",
   "metadata": {},
   "outputs": [
    {
     "data": {
      "text/plain": [
       "24"
      ]
     },
     "execution_count": 44,
     "metadata": {},
     "output_type": "execute_result"
    }
   ],
   "source": [
    "multiply_num(\"1,2,3,4\")"
   ]
  },
  {
   "cell_type": "code",
   "execution_count": null,
   "id": "5b8d18f7",
   "metadata": {},
   "outputs": [],
   "source": [
    "Question 3\n",
    "Create a function that squares every digit of a number.\n",
    "Examples\n",
    "square_digits(9119) ➞ 811181\n",
    "\n",
    "square_digits(2483) ➞ 416649\n",
    "\n",
    "square_digits(3212) ➞ 9414\n",
    "Notes\n",
    "The function receives an integer and must return an integer."
   ]
  },
  {
   "cell_type": "code",
   "execution_count": 56,
   "id": "0ce24a72",
   "metadata": {},
   "outputs": [],
   "source": [
    "def square_digits(x):\n",
    "    x=str(x)\n",
    "    y=[]\n",
    "    for i in x:\n",
    "        x=int(i)**2\n",
    "        y.append(str(x))\n",
    "        z=\"\".join(y)\n",
    "    return (int(z))"
   ]
  },
  {
   "cell_type": "code",
   "execution_count": 57,
   "id": "70d441b1",
   "metadata": {},
   "outputs": [
    {
     "name": "stdout",
     "output_type": "stream",
     "text": [
      "811181\n",
      "416649\n",
      "9414\n"
     ]
    }
   ],
   "source": [
    "x=[9119,2483,3212]\n",
    "for i in x:\n",
    "    print(square_digits(i))"
   ]
  },
  {
   "cell_type": "code",
   "execution_count": null,
   "id": "0447727e",
   "metadata": {},
   "outputs": [],
   "source": [
    "Question 4\n",
    "Create a function that sorts a list and removes all duplicate items from it.\n",
    "Examples\n",
    "setify([1, 3, 3, 5, 5]) ➞ [1, 3, 5]\n",
    "\n",
    "setify([4, 4, 4, 4]) ➞ [4]\n",
    "\n",
    "setify([5, 7, 8, 9, 10, 15]) ➞ [5, 7, 8, 9, 10, 15]\n",
    "\n",
    "setify([3, 3, 3, 2, 1]) ➞ [1, 2, 3]"
   ]
  },
  {
   "cell_type": "code",
   "execution_count": 95,
   "id": "47ca66dd",
   "metadata": {},
   "outputs": [],
   "source": [
    "def setify(x):\n",
    "    return (list(set(x)))\n"
   ]
  },
  {
   "cell_type": "code",
   "execution_count": 96,
   "id": "e31550e9",
   "metadata": {
    "run_control": {
     "marked": true
    }
   },
   "outputs": [
    {
     "data": {
      "text/plain": [
       "[1, 3, 5]"
      ]
     },
     "execution_count": 96,
     "metadata": {},
     "output_type": "execute_result"
    }
   ],
   "source": [
    "setify([1,3,3,5,5])"
   ]
  },
  {
   "cell_type": "code",
   "execution_count": null,
   "id": "5d6a3299",
   "metadata": {},
   "outputs": [],
   "source": [
    "Question 5\n",
    "Create a function that returns the mean of all digits.\n",
    "Examples\n",
    "mean(42) ➞ 3\n",
    "\n",
    "mean(12345) ➞ 3\n",
    "\n",
    "mean(666) ➞ 6\n",
    "Notes\n",
    "•\tThe mean of all digits is the sum of digits / how many digits there are (e.g. mean of digits in 512 is (5+1+2)/3(number of digits) = 8/3=2).\n",
    "•\tThe mean will always be an integer."
   ]
  },
  {
   "cell_type": "code",
   "execution_count": 83,
   "id": "abf10b7f",
   "metadata": {},
   "outputs": [],
   "source": [
    "def mean(x):\n",
    "    y=str(x)\n",
    "    z=[int(i) for i in y]\n",
    "    mean=int(sum(z)/len(z))\n",
    "    return mean"
   ]
  },
  {
   "cell_type": "code",
   "execution_count": 91,
   "id": "f87c7b66",
   "metadata": {},
   "outputs": [
    {
     "name": "stdout",
     "output_type": "stream",
     "text": [
      "(42,) >> 3\n",
      "(12345,) >> 3\n",
      "(666,) >> 6\n"
     ]
    }
   ],
   "source": [
    "x=[42,12345,666]\n",
    "for i in x:\n",
    "    print((i,),\">>\",mean(i))"
   ]
  },
  {
   "cell_type": "code",
   "execution_count": null,
   "id": "96ebb461",
   "metadata": {},
   "outputs": [],
   "source": []
  }
 ],
 "metadata": {
  "hide_input": false,
  "kernelspec": {
   "display_name": "Neuron",
   "language": "python",
   "name": "neuron"
  },
  "language_info": {
   "codemirror_mode": {
    "name": "ipython",
    "version": 3
   },
   "file_extension": ".py",
   "mimetype": "text/x-python",
   "name": "python",
   "nbconvert_exporter": "python",
   "pygments_lexer": "ipython3",
   "version": "3.10.4"
  },
  "nbTranslate": {
   "displayLangs": [
    "*"
   ],
   "hotkey": "alt-t",
   "langInMainMenu": true,
   "sourceLang": "en",
   "targetLang": "fr",
   "useGoogleTranslate": true
  },
  "toc": {
   "base_numbering": 1,
   "nav_menu": {},
   "number_sections": true,
   "sideBar": true,
   "skip_h1_title": false,
   "title_cell": "Table of Contents",
   "title_sidebar": "Contents",
   "toc_cell": false,
   "toc_position": {},
   "toc_section_display": true,
   "toc_window_display": false
  }
 },
 "nbformat": 4,
 "nbformat_minor": 5
}
