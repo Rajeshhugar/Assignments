{
 "cells": [
  {
   "cell_type": "code",
   "execution_count": 1,
   "id": "c7e6917f",
   "metadata": {},
   "outputs": [],
   "source": [
    "LIST=[1,2,4,5,7,3,23,56,7,4,7,34,9,5,3,1,343,76,9,345,45,455,678,346,742,8,65]"
   ]
  },
  {
   "cell_type": "markdown",
   "id": "0c701ba8",
   "metadata": {},
   "source": [
    "### 1.\tWrite a Python program to find sum of elements in list?"
   ]
  },
  {
   "cell_type": "code",
   "execution_count": 2,
   "id": "163c3cf0",
   "metadata": {},
   "outputs": [
    {
     "data": {
      "text/plain": [
       "3283"
      ]
     },
     "execution_count": 2,
     "metadata": {},
     "output_type": "execute_result"
    }
   ],
   "source": [
    "def sum_of_list(X):\n",
    "    '''This function takes list as an \n",
    "    input and returns the sum of the list\n",
    "    '''\n",
    "    #x=input(\"Enter a list \")\n",
    "    counter = 0\n",
    "    for numbers in X:\n",
    "        counter +=numbers\n",
    "    return counter\n",
    "\n",
    "sum_of_list(LIST)\n",
    "    \n",
    "    "
   ]
  },
  {
   "cell_type": "markdown",
   "id": "bbf1a839",
   "metadata": {},
   "source": [
    "### 2.\tWrite a Python program to  Multiply all numbers in the list?"
   ]
  },
  {
   "cell_type": "code",
   "execution_count": 3,
   "id": "28697d07",
   "metadata": {},
   "outputs": [
    {
     "name": "stdout",
     "output_type": "stream",
     "text": [
      "CPU times: total: 0 ns\n",
      "Wall time: 0 ns\n"
     ]
    },
    {
     "data": {
      "text/plain": [
       "146005822385417714232733968384000000"
      ]
     },
     "execution_count": 3,
     "metadata": {},
     "output_type": "execute_result"
    }
   ],
   "source": [
    "\n",
    "%%time\n",
    "def mul_of_list(X):\n",
    "    '''This function takes list as an \n",
    "    input and returns the product of the list\n",
    "    '''\n",
    "    #x=input(\"Enter a list \")\n",
    "    counter = 1\n",
    "    for numbers in X:\n",
    "        counter *=numbers\n",
    "    return counter\n",
    "\n",
    "\n",
    "mul_of_list(LIST)\n",
    "    \n",
    "    "
   ]
  },
  {
   "cell_type": "markdown",
   "id": "f8d457eb",
   "metadata": {},
   "source": [
    "### 3.\tWrite a Python program to find smallest number in a list?"
   ]
  },
  {
   "cell_type": "code",
   "execution_count": 4,
   "id": "2501f091",
   "metadata": {},
   "outputs": [
    {
     "name": "stdout",
     "output_type": "stream",
     "text": [
      "[742, 678, 455, 346, 345, 343, 76, 65, 56, 45, 34, 23, 9, 8, 7, 5, 4, 3, 2, 1]\n"
     ]
    },
    {
     "data": {
      "text/plain": [
       "1"
      ]
     },
     "execution_count": 4,
     "metadata": {},
     "output_type": "execute_result"
    }
   ],
   "source": [
    "def smallest_num_list(X):\n",
    "    '''This function takes list as an \n",
    "    input and returns the product of the list\n",
    "    '''\n",
    "    X=sorted(set(X),reverse=True)\n",
    "    print(X)\n",
    "    return X[-1]\n",
    "    \n",
    "\n",
    "\n",
    "smallest_num_list(LIST)\n",
    "    "
   ]
  },
  {
   "cell_type": "markdown",
   "id": "37f9f27d",
   "metadata": {},
   "source": [
    "### 4.\tWrite a Python program to find largest number in a list?"
   ]
  },
  {
   "cell_type": "code",
   "execution_count": 5,
   "id": "1b617824",
   "metadata": {},
   "outputs": [
    {
     "name": "stdout",
     "output_type": "stream",
     "text": [
      "[742, 678, 455, 346, 345, 343, 76, 65, 56, 45, 34, 23, 9, 8, 7, 5, 4, 3, 2, 1]\n"
     ]
    },
    {
     "data": {
      "text/plain": [
       "742"
      ]
     },
     "execution_count": 5,
     "metadata": {},
     "output_type": "execute_result"
    }
   ],
   "source": [
    "def largest_num_list(X):\n",
    "    '''This function takes list as an \n",
    "    input and returns the largest number in the list\n",
    "    '''\n",
    "    X=sorted(set(X),reverse=True)\n",
    "    print(X)\n",
    "    return X[0]\n",
    "\n",
    "\n",
    "largest_num_list(LIST)"
   ]
  },
  {
   "cell_type": "markdown",
   "id": "83beea86",
   "metadata": {},
   "source": [
    "### 5.\tWrite a Python program to find second largest number in a list?"
   ]
  },
  {
   "cell_type": "code",
   "execution_count": 6,
   "id": "7545c9ea",
   "metadata": {},
   "outputs": [
    {
     "name": "stdout",
     "output_type": "stream",
     "text": [
      "[742, 678, 455, 346, 345, 343, 76, 65, 56, 45, 34, 23, 9, 8, 7, 5, 4, 3, 2, 1]\n"
     ]
    },
    {
     "data": {
      "text/plain": [
       "678"
      ]
     },
     "execution_count": 6,
     "metadata": {},
     "output_type": "execute_result"
    }
   ],
   "source": [
    "def largest_second_number(X):\n",
    "    '''This function takes list as an \n",
    "    input and return the largest second number as the output \n",
    "\n",
    "    '''\n",
    "    X=sorted(set(X),reverse=True)\n",
    "    print(X)\n",
    "    return X[1]\n",
    "\n",
    "\n",
    "largest_second_number(LIST)"
   ]
  },
  {
   "cell_type": "markdown",
   "id": "c4bcf660",
   "metadata": {},
   "source": [
    "### 6.\tWrite a Python program to find N largest elements from a list?"
   ]
  },
  {
   "cell_type": "code",
   "execution_count": 7,
   "id": "289f331b",
   "metadata": {},
   "outputs": [],
   "source": [
    "LIST=[1,2,4,5,7,3,23,56,7,4,7,34,9,5,3,1,343,76,9,345,45,455,678,346,742,8,65]\n",
    "\n",
    "def n_largest(k:int,List_number:list):\n",
    "    x = sorted(List_number)\n",
    "    print(len(x))\n",
    "    if len(x)>=k:\n",
    "        print(f' {k} element in the list is {x[k]}')\n",
    "    else:\n",
    "        return 'Kth number is greater than length of List'"
   ]
  },
  {
   "cell_type": "code",
   "execution_count": 8,
   "id": "3374537b",
   "metadata": {},
   "outputs": [
    {
     "name": "stdout",
     "output_type": "stream",
     "text": [
      "27\n",
      " 10 element in the list is 7\n"
     ]
    }
   ],
   "source": [
    "n_largest(10,LIST)"
   ]
  },
  {
   "cell_type": "markdown",
   "id": "929fc2d5",
   "metadata": {},
   "source": [
    "### 7.\tWrite a Python program to print even numbers in a list?"
   ]
  },
  {
   "cell_type": "code",
   "execution_count": 9,
   "id": "fa27c089",
   "metadata": {},
   "outputs": [
    {
     "data": {
      "text/plain": [
       "[2, 4, 56, 4, 34, 76, 678, 346, 742, 8]"
      ]
     },
     "execution_count": 9,
     "metadata": {},
     "output_type": "execute_result"
    }
   ],
   "source": [
    "def even(x):\n",
    "    for num in x:\n",
    "        if num%2 ==0:\n",
    "            yield num\n",
    "\n",
    "x=even(LIST)\n",
    "list(x)"
   ]
  },
  {
   "cell_type": "markdown",
   "id": "d55009f0",
   "metadata": {},
   "source": [
    "### 8.\tWrite a Python program to print odd numbers in a List?"
   ]
  },
  {
   "cell_type": "code",
   "execution_count": 10,
   "id": "604624ca",
   "metadata": {},
   "outputs": [
    {
     "data": {
      "text/plain": [
       "[1, 5, 7, 3, 23, 7, 7, 9, 5, 3, 1, 343, 9, 345, 45, 455, 65]"
      ]
     },
     "execution_count": 10,
     "metadata": {},
     "output_type": "execute_result"
    }
   ],
   "source": [
    "def odd(x):\n",
    "    for num in x:\n",
    "        if num%2 !=0:\n",
    "            yield num\n",
    "\n",
    "x=odd(LIST)\n",
    "list(x)"
   ]
  },
  {
   "cell_type": "markdown",
   "id": "ae1c0f2d",
   "metadata": {},
   "source": [
    "### 9.\tWrite a Python program to Remove empty List from List?"
   ]
  },
  {
   "cell_type": "code",
   "execution_count": 11,
   "id": "5cfc1aee",
   "metadata": {},
   "outputs": [
    {
     "name": "stdout",
     "output_type": "stream",
     "text": [
      "The original list is : [[2], [3, 4, 5, 6], [], [34, 2, 4, 5], [], [], [], [5, 8]]\n",
      "List after empty list removal : [[2], [3, 4, 5, 6], [34, 2, 4, 5], [5, 8]]\n"
     ]
    }
   ],
   "source": [
    "list_=[[2], [3, 4, 5, 6], [], [34, 2, 4, 5], [], [], [], [5, 8]]\n",
    "\n",
    " \n",
    "# Printing original list\n",
    "print(\"The original list is : \" + str(list_))\n",
    " \n",
    "# Removing empty List from List\n",
    "# using filter() method\n",
    "res = list(filter(None, list_))\n",
    " \n",
    "# Printing the resultant list\n",
    "print(\"List after empty list removal : \" + str(res))"
   ]
  },
  {
   "cell_type": "markdown",
   "id": "6de3d4fb",
   "metadata": {},
   "source": [
    "### 10.\tWrite a Python program to Cloning or Copying a list?"
   ]
  },
  {
   "cell_type": "code",
   "execution_count": 24,
   "id": "b47c78ae",
   "metadata": {},
   "outputs": [
    {
     "name": "stdout",
     "output_type": "stream",
     "text": [
      "[1, 2, 3, 4, 5, 10]\n",
      "[1, 2, 3, 4, 5]\n"
     ]
    }
   ],
   "source": [
    "import copy\n",
    "original_list = [1, 2, 3, 4, 5]\n",
    "cloned_list = copy.deepcopy(original_list)\n",
    "cloned_list.append(10)\n",
    "print(cloned_list)\n",
    "print(original_list)"
   ]
  },
  {
   "cell_type": "markdown",
   "id": "524e0031",
   "metadata": {},
   "source": [
    "### 11.\tWrite a Python program to Count occurrences of an element in a list?"
   ]
  },
  {
   "cell_type": "code",
   "execution_count": 35,
   "id": "68c0f74d",
   "metadata": {},
   "outputs": [
    {
     "name": "stdout",
     "output_type": "stream",
     "text": [
      "3\n"
     ]
    }
   ],
   "source": [
    "def count_occurenec(x,list1):\n",
    "    counter = 0\n",
    "    for i in list1:\n",
    "        if i==x:\n",
    "            counter += 1\n",
    "    return counter\n",
    "\n",
    "if __name__=='__main__':\n",
    "    list1=[12,34,56,234,56,34,67,908,-9,43,78,544,68,90]\n",
    "    x=34\n",
    "    print(count_occurenec(x,list1))"
   ]
  }
 ],
 "metadata": {
  "hide_input": false,
  "kernelspec": {
   "display_name": "Neuron",
   "language": "python",
   "name": "neuron"
  },
  "language_info": {
   "codemirror_mode": {
    "name": "ipython",
    "version": 3
   },
   "file_extension": ".py",
   "mimetype": "text/x-python",
   "name": "python",
   "nbconvert_exporter": "python",
   "pygments_lexer": "ipython3",
   "version": "3.10.4"
  },
  "nbTranslate": {
   "displayLangs": [
    "*"
   ],
   "hotkey": "alt-t",
   "langInMainMenu": true,
   "sourceLang": "en",
   "targetLang": "fr",
   "useGoogleTranslate": true
  },
  "toc": {
   "base_numbering": 1,
   "nav_menu": {},
   "number_sections": true,
   "sideBar": true,
   "skip_h1_title": false,
   "title_cell": "Table of Contents",
   "title_sidebar": "Contents",
   "toc_cell": false,
   "toc_position": {},
   "toc_section_display": true,
   "toc_window_display": false
  }
 },
 "nbformat": 4,
 "nbformat_minor": 5
}
