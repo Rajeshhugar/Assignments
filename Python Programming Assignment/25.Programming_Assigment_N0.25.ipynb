{
 "cells": [
  {
   "cell_type": "markdown",
   "id": "8b860150",
   "metadata": {},
   "source": [
    "1\n",
    "Create a function that takes three integer arguments (a, b, c) and returns the amount of\n",
    "integers which are of equal value.\n",
    "\n",
    "Examples: \n",
    "\n",
    "* equal(3, 4, 3) ➞ 2\n",
    "* equal(1, 1, 1) ➞ 3\n",
    "* equal(3, 4, 1) ➞ 0\n",
    "\n",
    "Notes\n",
    "\n",
    "Your function must return 0, 2 or 3."
   ]
  },
  {
   "cell_type": "code",
   "execution_count": 86,
   "id": "840c5089",
   "metadata": {},
   "outputs": [
    {
     "name": "stdout",
     "output_type": "stream",
     "text": [
      "2\n",
      "0\n",
      "3\n",
      "2\n",
      "2\n"
     ]
    }
   ],
   "source": [
    "def arg(a,b,c):\n",
    "    if int(a) != int(b) and int(b) != int(c) and int(a) != int(c):\n",
    "        return 0\n",
    "    elif int(a) == int(b) and int(a) == int(c) and int(b)== int(c):\n",
    "        return 3\n",
    "    elif int(a) == int(b) or int(a) == int(c) or int(b)== int (c):\n",
    "        return 2\n",
    "    \n",
    "if __name__==\"__main__\":\n",
    "    x=[(1,1,3),(22,3,4),(34,34,34),(4,5,5),(21,42,21)]\n",
    "    for ele in x:\n",
    "        print(arg(ele[0],ele[1],ele[2]))"
   ]
  },
  {
   "cell_type": "markdown",
   "id": "452fa144",
   "metadata": {},
   "source": [
    "2\n",
    "Write a function that converts a dictionary into a list of keys-values tuples."
   ]
  },
  {
   "cell_type": "raw",
   "id": "6769f84e",
   "metadata": {},
   "source": [
    "Examples:\n",
    "\n",
    "dict_to_list({\n",
    "  \"D\": 1,\n",
    "  \"B\": 2,\n",
    "  \"C\": 3\n",
    "}) ➞ [(\"B\", 2), (\"C\", 3), (\"D\", 1)]\n",
    "\n",
    "\n",
    "\n",
    "dict_to_list({\n",
    "  \"likes\": 2,\n",
    "  \"dislikes\": 3,\n",
    "  \"followers\": 10\n",
    "}) ➞ [(\"dislikes\", 3), (\"followers\", 10), (\"likes\", 2)]\n",
    "\n",
    "Notes-Return the elements in the list in alphabetical order.\n",
    "\n",
    "dict_to_list1=({\n",
    "  \"D\": 1,\n",
    "  \"B\": 2,\n",
    "  \"C\": 3\n",
    "})\n",
    "dict_to_list2=({\n",
    "  \"likes\": 2,\n",
    "  \"dislikes\": 3,\n",
    "  \"followers\": 10\n",
    "})"
   ]
  },
  {
   "cell_type": "code",
   "execution_count": 32,
   "id": "90c6f566",
   "metadata": {},
   "outputs": [
    {
     "name": "stdout",
     "output_type": "stream",
     "text": [
      "[('B', 2), ('C', 3), ('D', 1)]\n",
      "[('dislikes', 3), ('followers', 10), ('likes', 2)]\n"
     ]
    }
   ],
   "source": [
    "def dict_to_list(a):\n",
    "    x=list(a.items())\n",
    "    x.sort()\n",
    "    return x\n",
    "print(dict_to_list(dict_to_list1))\n",
    "print(dict_to_list(dict_to_list2))"
   ]
  },
  {
   "cell_type": "markdown",
   "id": "eb93cf87",
   "metadata": {},
   "source": [
    "3\n",
    "Write a function that creates a dictionary with each (key, value) pair being the (lower case,\n",
    "upper case) versions of a letter, respectively."
   ]
  },
  {
   "cell_type": "raw",
   "id": "96563431",
   "metadata": {},
   "source": [
    "Examples\n",
    "mapping([\"p\", \"s\"]) ➞ { \"p\": \"P\", \"s\": \"S\" }\n",
    "\n",
    "mapping([\"a\", \"b\", \"c\"]) ➞ { \"a\": \"A\", \"b\": \"B\", \"c\": \"C\" }\n",
    "\n",
    "mapping([\"a\", \"v\", \"y\", \"z\"]) ➞ { \"a\": \"A\", \"v\": \"V\", \"y\": \"Y\", \"z\": \"Z\" }\n",
    "\n",
    "Note\n",
    "\n",
    "All of the letters in the input list will always be lowercase."
   ]
  },
  {
   "cell_type": "code",
   "execution_count": 3,
   "id": "df59955c",
   "metadata": {},
   "outputs": [],
   "source": [
    "def mapping(A):\n",
    "    l2 = {x : x.upper() for x in A}\n",
    "    return l2\n",
    "    "
   ]
  },
  {
   "cell_type": "code",
   "execution_count": 4,
   "id": "721aef7e",
   "metadata": {},
   "outputs": [
    {
     "data": {
      "text/plain": [
       "{'a': 'A', 'v': 'V', 'y': 'Y', 'z': 'Z'}"
      ]
     },
     "execution_count": 4,
     "metadata": {},
     "output_type": "execute_result"
    }
   ],
   "source": [
    "mapping([\"a\", \"v\", \"y\", \"z\"])"
   ]
  },
  {
   "cell_type": "code",
   "execution_count": 143,
   "id": "6310efb7",
   "metadata": {},
   "outputs": [
    {
     "name": "stdout",
     "output_type": "stream",
     "text": [
      "{1: 1, 2: 4, 3: 9, 4: 16, 5: 25}\n"
     ]
    }
   ],
   "source": [
    "myDict = {x: x**2 for x in [1,2,3,4,5]}\n",
    "print (myDict)\n"
   ]
  },
  {
   "cell_type": "markdown",
   "id": "59d929f9",
   "metadata": {},
   "source": [
    "4.\n",
    "Write a function, that replaces all vowels in a string with a specified vowel.\n",
    "\n",
    "Examples:\n",
    "    \n",
    "* vow_replace(\"apples and bananas\", \"u\") ➞ \"upplus und bununus\"\n",
    "\n",
    "* vow_replace(\"cheese casserole\", \"o\") ➞ \"chooso cossorolo\"\n",
    "\n",
    "* vow_replace(\"stuffed jalapeno poppers\", \"e\") ➞ \"steffed jelepene peppers\"\n",
    "\n",
    "Notes:\n",
    "\n",
    "All words will be lowercase. Y is not considered a vowel."
   ]
  },
  {
   "cell_type": "code",
   "execution_count": 82,
   "id": "f96cb1e1",
   "metadata": {
    "scrolled": true
   },
   "outputs": [
    {
     "data": {
      "text/plain": [
       "'xpplxs xnd bxnxnxs'"
      ]
     },
     "execution_count": 82,
     "metadata": {},
     "output_type": "execute_result"
    }
   ],
   "source": [
    "import re\n",
    "def vowel_replace(a, vowel):\n",
    "    \n",
    "    vowels = 'AEIOUaeiou'\n",
    "    return re.sub(rf'[{vowels}]', vowel, a)\n",
    "\n",
    "\n",
    "vowel_replace(a,vowel)"
   ]
  },
  {
   "cell_type": "markdown",
   "id": "c0eeb422",
   "metadata": {},
   "source": [
    "5.\n",
    "Create a function that takes a string as input and capitalizes a letter if its ASCII code is even\n",
    "and returns its lower case version if its ASCII code is odd.\n",
    "\n",
    "Examples:\n",
    "\n",
    "* ascii_capitalize(\"to be or not to be!\") ➞ \"To Be oR NoT To Be!\"\n",
    "\n",
    "* ascii_capitalize(\"THE LITTLE MERMAID\") ➞ \"THe LiTTLe meRmaiD\"\n",
    "\n",
    "* ascii_capitalize(\"Oh what a beautiful morning.\") ➞ \"oH wHaT a BeauTiFuL moRNiNg.\"\n"
   ]
  },
  {
   "cell_type": "code",
   "execution_count": 118,
   "id": "b215d4f0",
   "metadata": {},
   "outputs": [
    {
     "name": "stdout",
     "output_type": "stream",
     "text": [
      "To Be oR NoT To Be!None\n",
      "THe LiTTLe meRmaiDNone\n",
      "oH wHaT a BeauTiFuL moRNiNg.None\n"
     ]
    }
   ],
   "source": [
    "def ascii_capitalize(string):\n",
    "    for ele in string:\n",
    "        if ord(ele)%2 == 0:\n",
    "            print(ele.upper(),end=\"\")\n",
    "        else:\n",
    "            print(ele.lower(),end=\"\")\n",
    "\n",
    "if __name__==\"__main__\":\n",
    "    a=\"to be or not to be!\"\n",
    "    b=\"THE LITTLE MERMAID\"\n",
    "    c= \"Oh what a beautiful morning.\"\n",
    "    list1=[a,b,c]\n",
    "    for ele in list1:\n",
    "        print(ascii_capitalize(ele))"
   ]
  }
 ],
 "metadata": {
  "hide_input": false,
  "kernelspec": {
   "display_name": "Python 3 (ipykernel)",
   "language": "python",
   "name": "python3"
  },
  "language_info": {
   "codemirror_mode": {
    "name": "ipython",
    "version": 3
   },
   "file_extension": ".py",
   "mimetype": "text/x-python",
   "name": "python",
   "nbconvert_exporter": "python",
   "pygments_lexer": "ipython3",
   "version": "3.9.12"
  },
  "nbTranslate": {
   "displayLangs": [
    "*"
   ],
   "hotkey": "alt-t",
   "langInMainMenu": true,
   "sourceLang": "en",
   "targetLang": "fr",
   "useGoogleTranslate": true
  },
  "toc": {
   "base_numbering": 1,
   "nav_menu": {},
   "number_sections": true,
   "sideBar": true,
   "skip_h1_title": false,
   "title_cell": "Table of Contents",
   "title_sidebar": "Contents",
   "toc_cell": false,
   "toc_position": {},
   "toc_section_display": true,
   "toc_window_display": false
  }
 },
 "nbformat": 4,
 "nbformat_minor": 5
}
