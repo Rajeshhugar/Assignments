{
 "cells": [
  {
   "cell_type": "markdown",
   "id": "7e8dfbda",
   "metadata": {},
   "source": [
    "1.Write a Python program to convert kilometers to miles?"
   ]
  },
  {
   "cell_type": "code",
   "execution_count": 15,
   "id": "48bfa22e",
   "metadata": {},
   "outputs": [
    {
     "name": "stdout",
     "output_type": "stream",
     "text": [
      "Enter the value in KMS :1\n",
      "0.621\n"
     ]
    }
   ],
   "source": [
    "km_to_miles=0.62137119\n",
    "KM_value = eval(input(\"Enter the value in KMS :\"))\n",
    "Miles=KM_value*km_to_miles\n",
    "print(round(Miles,3))"
   ]
  },
  {
   "cell_type": "markdown",
   "id": "6f13729c",
   "metadata": {},
   "source": [
    "2.Write a Python program to convert Celsius to Fahrenheit?"
   ]
  },
  {
   "cell_type": "code",
   "execution_count": 10,
   "id": "d0a29bb0",
   "metadata": {},
   "outputs": [
    {
     "name": "stdout",
     "output_type": "stream",
     "text": [
      "Enter the temperature in Celcius :25\n",
      "The temperature in Farenheit is given by 77.0\n"
     ]
    }
   ],
   "source": [
    "Celsius = eval(input(\"Enter the temperature in Celcius :\"))\n",
    "Celsius_to_Faren=(Celsius * 9/5) + 32 \n",
    "\n",
    "\n",
    "print(\"The temperature in Farenheit is given by\",round(Celsius_to_Faren,2))"
   ]
  },
  {
   "cell_type": "markdown",
   "id": "92177018",
   "metadata": {},
   "source": [
    "3.Write a Python program to display calendar?"
   ]
  },
  {
   "cell_type": "code",
   "execution_count": 11,
   "id": "94d04242",
   "metadata": {},
   "outputs": [
    {
     "name": "stdout",
     "output_type": "stream",
     "text": [
      "Enter year: 1995\n",
      "Enter month: 01\n",
      "    January 1995\n",
      "Mo Tu We Th Fr Sa Su\n",
      "                   1\n",
      " 2  3  4  5  6  7  8\n",
      " 9 10 11 12 13 14 15\n",
      "16 17 18 19 20 21 22\n",
      "23 24 25 26 27 28 29\n",
      "30 31\n",
      "\n"
     ]
    }
   ],
   "source": [
    "import calendar  \n",
    "# Enter the month and year  \n",
    "year = int(input(\"Enter year: \"))  \n",
    "month = int(input(\"Enter month: \"))  \n",
    "  \n",
    "# display the calendar  \n",
    "print(calendar.month(year,month))  "
   ]
  },
  {
   "cell_type": "markdown",
   "id": "1680d90c",
   "metadata": {},
   "source": [
    "4.Write a Python program to solve quadratic equation?"
   ]
  },
  {
   "cell_type": "code",
   "execution_count": 19,
   "id": "e8452f00",
   "metadata": {},
   "outputs": [
    {
     "name": "stdout",
     "output_type": "stream",
     "text": [
      "The roots are\n",
      "(-3.414213562373095+0j)\n",
      "(-0.5857864376269049+0j)\n"
     ]
    }
   ],
   "source": [
    "\n",
    "# import complex math module\n",
    "import cmath\n",
    "  \n",
    "a = 1\n",
    "b = 4\n",
    "c = 2\n",
    "  \n",
    "# calculating  the discriminant\n",
    "dis = (b**2) - (4 * a*c)\n",
    "  \n",
    "# find two results\n",
    "ans1 = (-b-cmath.sqrt(dis))/(2 * a)\n",
    "ans2 = (-b + cmath.sqrt(dis))/(2 * a)\n",
    "  \n",
    "# printing the results\n",
    "print('The roots are')\n",
    "print(ans1)\n",
    "print(ans2)"
   ]
  },
  {
   "cell_type": "markdown",
   "id": "bb4c17b5",
   "metadata": {},
   "source": [
    "5.Write a Python program to swap two variables without temp variable?"
   ]
  },
  {
   "cell_type": "code",
   "execution_count": 21,
   "id": "72006d17",
   "metadata": {},
   "outputs": [
    {
     "name": "stdout",
     "output_type": "stream",
     "text": [
      "Before swapping: \n",
      "Value of x :  5.4  and y :  10.3\n",
      "After swapping: \n",
      "Value of x :  10.3  and y :  5.4\n"
     ]
    }
   ],
   "source": [
    "# Python code to swap two numbers\n",
    "# using / and * operators\n",
    "\n",
    "x = 5.4\n",
    "y = 10.3\n",
    "\n",
    "print (\"Before swapping: \")\n",
    "print(\"Value of x : \", x, \" and y : \", y)\n",
    "\n",
    "# Swap code\n",
    "x = x * y # x = 55.62, y = 10.3\n",
    "y = x / y # x = 55.62, y = 5.4\n",
    "x = x / y # x = 10.3, y = 5.4\n",
    "\n",
    "print (\"After swapping: \")\n",
    "print(\"Value of x : \", x, \" and y : \", y)"
   ]
  },
  {
   "cell_type": "code",
   "execution_count": null,
   "id": "f8be5bcf",
   "metadata": {},
   "outputs": [],
   "source": []
  }
 ],
 "metadata": {
  "hide_input": false,
  "kernelspec": {
   "display_name": "Neuron",
   "language": "python",
   "name": "neuron"
  },
  "language_info": {
   "codemirror_mode": {
    "name": "ipython",
    "version": 3
   },
   "file_extension": ".py",
   "mimetype": "text/x-python",
   "name": "python",
   "nbconvert_exporter": "python",
   "pygments_lexer": "ipython3",
   "version": "3.10.4"
  },
  "nbTranslate": {
   "displayLangs": [
    "*"
   ],
   "hotkey": "alt-t",
   "langInMainMenu": true,
   "sourceLang": "en",
   "targetLang": "fr",
   "useGoogleTranslate": true
  },
  "toc": {
   "base_numbering": 1,
   "nav_menu": {},
   "number_sections": true,
   "sideBar": true,
   "skip_h1_title": false,
   "title_cell": "Table of Contents",
   "title_sidebar": "Contents",
   "toc_cell": false,
   "toc_position": {},
   "toc_section_display": true,
   "toc_window_display": false
  }
 },
 "nbformat": 4,
 "nbformat_minor": 5
}
