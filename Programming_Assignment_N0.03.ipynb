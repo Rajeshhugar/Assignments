{
 "cells": [
  {
   "cell_type": "markdown",
   "id": "ab954f71",
   "metadata": {},
   "source": [
    "1.Write a Python Program to Check if a Number is Positive, Negative or Zero?"
   ]
  },
  {
   "cell_type": "code",
   "execution_count": 1,
   "id": "499d7305",
   "metadata": {},
   "outputs": [
    {
     "name": "stdout",
     "output_type": "stream",
     "text": [
      "Enter a number:12\n",
      "The given number is Positive\n"
     ]
    }
   ],
   "source": [
    "num=int(input(\"Enter a number:\"))\n",
    "if num == 0:\n",
    "    print(\"Number is zero\")\n",
    "elif num > 0:\n",
    "    print(\"The given number is Positive\")\n",
    "else :\n",
    "    print(\"The given number is negative \")"
   ]
  },
  {
   "cell_type": "markdown",
   "id": "7cf744cf",
   "metadata": {},
   "source": [
    "2.Write a Python Program to Check if a Number is Odd or Even?"
   ]
  },
  {
   "cell_type": "code",
   "execution_count": 2,
   "id": "0239c5ab",
   "metadata": {},
   "outputs": [
    {
     "name": "stdout",
     "output_type": "stream",
     "text": [
      "Enter a number : 157\n",
      "The given number is  ODd\n"
     ]
    }
   ],
   "source": [
    "take=eval(input(\"Enter a number : \"))\n",
    "if take%2 == 0:\n",
    "    print(\"The given number is Even\")\n",
    "else:\n",
    "    print(\"The given number is  ODd\")\n",
    "    \n",
    "    "
   ]
  },
  {
   "cell_type": "code",
   "execution_count": 3,
   "id": "53d01cce",
   "metadata": {},
   "outputs": [
    {
     "data": {
      "text/plain": [
       "0"
      ]
     },
     "execution_count": 3,
     "metadata": {},
     "output_type": "execute_result"
    }
   ],
   "source": [
    "34%2"
   ]
  },
  {
   "cell_type": "markdown",
   "id": "043c953a",
   "metadata": {},
   "source": [
    "3.Write a Python Program to Check Leap Year?"
   ]
  },
  {
   "cell_type": "code",
   "execution_count": 4,
   "id": "b6742d6d",
   "metadata": {
    "run_control": {
     "marked": true
    }
   },
   "outputs": [
    {
     "name": "stdout",
     "output_type": "stream",
     "text": [
      "2012 is a leap year\n",
      "2013 is not a leap year\n",
      "1304 is a leap year\n",
      "2022 is not a leap year\n",
      "2018 is not a leap year\n",
      "2016 is a leap year\n"
     ]
    }
   ],
   "source": [
    "def leap_or_not(year):\n",
    "    # divided by 100 means century year (ending with 00)\n",
    "    # century year divided by 400 is leap year\n",
    "    if (year % 400 ==0) and (year %100 ==0):\n",
    "        return (f\"{year} is a leap year\")\n",
    "    # not divided by 100 means not a century year\n",
    "    # year divided by 4 is a leap year\n",
    "    elif (year % 4 ==0) and (year % 100 != 0):\n",
    "        return(\"{0} is a leap year\".format(year))\n",
    "    else:\n",
    "    # if not divided by both 400 (century year) and 4 (not century year)\n",
    "    # year is not leap year\n",
    "        return(\"{0} is not a leap year\".format(year))\n",
    "    \n",
    "if __name__==\"__main__\":\n",
    "    list_of_year=[2012,2013,1304,2022,2018,2016]\n",
    "    for i in list_of_year:\n",
    "        print(leap_or_not(i))"
   ]
  },
  {
   "cell_type": "code",
   "execution_count": null,
   "id": "882e0bd2",
   "metadata": {
    "run_control": {
     "marked": true
    }
   },
   "outputs": [],
   "source": []
  },
  {
   "cell_type": "code",
   "execution_count": null,
   "id": "60a0e034",
   "metadata": {},
   "outputs": [],
   "source": []
  },
  {
   "cell_type": "markdown",
   "id": "9eeaaf29",
   "metadata": {},
   "source": [
    "4.Write a Python Program to Check Prime Number?"
   ]
  },
  {
   "cell_type": "code",
   "execution_count": 5,
   "id": "d7f588e9",
   "metadata": {},
   "outputs": [],
   "source": [
    "def is_prime(n):\n",
    "  for i in range(2,int(n/2)):\n",
    "    if (n%i) == 0:\n",
    "      return \"The given number is  Not a Prime number \"\n",
    "  return \"The given number is a Prime Number \"\n"
   ]
  },
  {
   "cell_type": "code",
   "execution_count": 6,
   "id": "666d386e",
   "metadata": {},
   "outputs": [
    {
     "name": "stdout",
     "output_type": "stream",
     "text": [
      "1 The given number is a Prime Number \n",
      "2 The given number is a Prime Number \n",
      "3 The given number is a Prime Number \n",
      "4 The given number is a Prime Number \n",
      "5 The given number is a Prime Number \n",
      "6 The given number is  Not a Prime number \n",
      "7 The given number is a Prime Number \n",
      "8 The given number is  Not a Prime number \n",
      "9 The given number is  Not a Prime number \n",
      "10 The given number is  Not a Prime number \n",
      "11 The given number is a Prime Number \n",
      "12 The given number is  Not a Prime number \n",
      "13 The given number is a Prime Number \n",
      "14 The given number is  Not a Prime number \n",
      "CPU times: total: 0 ns\n",
      "Wall time: 0 ns\n"
     ]
    }
   ],
   "source": [
    "%%time\n",
    "for i in range(1,15):\n",
    "    print(i,is_prime(i))"
   ]
  },
  {
   "cell_type": "code",
   "execution_count": 7,
   "id": "56bf6c23",
   "metadata": {},
   "outputs": [],
   "source": [
    "def is_primenum(a):\n",
    "    for i in range(2,a):\n",
    "        if a%i==0:\n",
    "            return \"Not Prime\" \n",
    "    return \"Prime\"\n",
    "    "
   ]
  },
  {
   "cell_type": "code",
   "execution_count": 8,
   "id": "5558c941",
   "metadata": {},
   "outputs": [
    {
     "name": "stdout",
     "output_type": "stream",
     "text": [
      "1 Prime\n",
      "2 Prime\n",
      "3 Prime\n",
      "4 Not Prime\n",
      "5 Prime\n",
      "6 Not Prime\n",
      "7 Prime\n",
      "8 Not Prime\n",
      "9 Not Prime\n",
      "10 Not Prime\n",
      "11 Prime\n",
      "12 Not Prime\n",
      "13 Prime\n",
      "14 Not Prime\n",
      "CPU times: total: 0 ns\n",
      "Wall time: 998 µs\n"
     ]
    }
   ],
   "source": [
    "%%time\n",
    "for i in range(1,15):\n",
    "    print(i,is_primenum(i))"
   ]
  },
  {
   "cell_type": "markdown",
   "id": "6db90735",
   "metadata": {},
   "source": [
    "5.Write a Python Program to Print all Prime Numbers in an Interval of 1-10000?"
   ]
  },
  {
   "cell_type": "code",
   "execution_count": 9,
   "id": "b33e03fd",
   "metadata": {},
   "outputs": [
    {
     "name": "stdout",
     "output_type": "stream",
     "text": [
      "[2, 3, 4, 5, 6, 7, 8, 9, 10]\n",
      "9\n",
      "CPU times: total: 0 ns\n",
      "Wall time: 995 µs\n"
     ]
    }
   ],
   "source": [
    "%%time \n",
    "lower=1\n",
    "upper=10\n",
    "li=[]\n",
    "for num in range(lower,upper+1):\n",
    "    if num>1:\n",
    "        for x in range(2,num):\n",
    "            if (num % i ) ==0:\n",
    "                break  \n",
    "        else:\n",
    "            li.append(num)\n",
    "print(li)\n",
    "print(len(li))\n"
   ]
  },
  {
   "cell_type": "code",
   "execution_count": null,
   "id": "8bbd5a59",
   "metadata": {},
   "outputs": [],
   "source": []
  },
  {
   "cell_type": "code",
   "execution_count": null,
   "id": "a11804c5",
   "metadata": {},
   "outputs": [],
   "source": []
  }
 ],
 "metadata": {
  "hide_input": false,
  "kernelspec": {
   "display_name": "Neuron",
   "language": "python",
   "name": "neuron"
  },
  "language_info": {
   "codemirror_mode": {
    "name": "ipython",
    "version": 3
   },
   "file_extension": ".py",
   "mimetype": "text/x-python",
   "name": "python",
   "nbconvert_exporter": "python",
   "pygments_lexer": "ipython3",
   "version": "3.10.4"
  },
  "nbTranslate": {
   "displayLangs": [
    "*"
   ],
   "hotkey": "alt-t",
   "langInMainMenu": true,
   "sourceLang": "en",
   "targetLang": "fr",
   "useGoogleTranslate": true
  },
  "toc": {
   "base_numbering": 1,
   "nav_menu": {},
   "number_sections": true,
   "sideBar": true,
   "skip_h1_title": false,
   "title_cell": "Table of Contents",
   "title_sidebar": "Contents",
   "toc_cell": false,
   "toc_position": {},
   "toc_section_display": true,
   "toc_window_display": false
  }
 },
 "nbformat": 4,
 "nbformat_minor": 5
}
