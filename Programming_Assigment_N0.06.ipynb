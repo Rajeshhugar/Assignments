{
 "cells": [
  {
   "cell_type": "markdown",
   "metadata": {},
   "source": [
    "1.\tWrite a Python Program to Display Fibonacci Sequence Using Recursion?\n"
   ]
  },
  {
   "cell_type": "code",
   "execution_count": 1,
   "metadata": {},
   "outputs": [
    {
     "name": "stdout",
     "output_type": "stream",
     "text": [
      "1 1 2 3 5 8 13 21 34 55 "
     ]
    }
   ],
   "source": [
    "def fib_series(x):\n",
    "    if x <= 1:\n",
    "        return 1\n",
    "    else:\n",
    "        return fib_series(x-1) + fib_series(x-2)\n",
    "    \n",
    "    \n",
    "if __name__==\"__main__\":\n",
    "    \n",
    "    for i in range(10):\n",
    "        print(fib_series(i),end=\" \")\n",
    "        "
   ]
  },
  {
   "cell_type": "markdown",
   "metadata": {},
   "source": [
    "2.\tWrite a Python Program to Find Factorial of Number Using Recursion?"
   ]
  },
  {
   "cell_type": "code",
   "execution_count": 27,
   "metadata": {},
   "outputs": [],
   "source": [
    "def fact(x):\n",
    "    if x<=1:\n",
    "        return 1\n",
    "    else:\n",
    "        return x* fact(x-1)"
   ]
  },
  {
   "cell_type": "code",
   "execution_count": 29,
   "metadata": {},
   "outputs": [
    {
     "data": {
      "text/plain": [
       "720"
      ]
     },
     "execution_count": 29,
     "metadata": {},
     "output_type": "execute_result"
    }
   ],
   "source": [
    "fact(6)"
   ]
  },
  {
   "cell_type": "markdown",
   "metadata": {},
   "source": [
    "3.\tWrite a Python Program to calculate your Body Mass Index?\n"
   ]
  },
  {
   "cell_type": "code",
   "execution_count": 64,
   "metadata": {},
   "outputs": [],
   "source": [
    "'''\n",
    "BMI Formulas\n",
    "Divide weight by height squared to find BMI. Note that you need to use kg and meters the standard units for the BMI formula are kg and meters.\n",
    "\n",
    "In metric units, using kg and meters:\n",
    "\n",
    " BMI= weight in kg /  height**2 in m\n",
    " \n",
    " BMI\t      Status\n",
    "≤ 18.4 \t     Underweight\n",
    "18.5 - 24.9\t Normal\n",
    "25.0 - 39.9\t Overweight\n",
    "≥ 40.0\t      Obese\n",
    " \n",
    " '''\n",
    " \n",
    "## The Height should be entered in cms\n",
    "## The Weight should be entered in kgs\n",
    "\n",
    "\"\"\"\"This Class Performs Operation based on the  metric Units\"\"\"\n",
    "class BodyMassIndex:\n",
    "    \n",
    "    def __init__(self,Height,Weight):\n",
    "        self.height=Height\n",
    "        self.weight=Weight\n",
    "\n",
    "    def BMI_nu(self):\n",
    "        \n",
    "        Height_in_cms=self.height/(100)\n",
    "        \n",
    "        BMI = (self.weight/(Height_in_cms**2))\n",
    "        self.BMI =BMI\n",
    "        return round(BMI,2)\n",
    "\n",
    "    def BMI_groups(self):\n",
    "        BMI =self.BMI \n",
    "        if BMI <= 18.4:\n",
    "            return \"UnderWeight\"\n",
    "        elif BMI >= 18.5 and BMI <=24.9:\n",
    "            return 'NOrmal'\n",
    "        elif BMI >= 25 and BMI <=39.9:\n",
    "            return 'Overweight'\n",
    "        else:\n",
    "            return \"Obese\"\n",
    "        \n",
    "    def BMI(self):\n",
    "        \n",
    "        return f\"The BMI is {round(self.BMI_nu(),2)}\",f\"The Status is {self.BMI_groups()}\"\n",
    "\n",
    "\n",
    "if __name__==\"__main__\":\n",
    "    index=BodyMassIndex(160,45)   \n",
    "    "
   ]
  },
  {
   "cell_type": "code",
   "execution_count": 66,
   "metadata": {},
   "outputs": [
    {
     "data": {
      "text/plain": [
       "('The BMI is 20.98', 'The Status is NOrmal')"
      ]
     },
     "execution_count": 66,
     "metadata": {},
     "output_type": "execute_result"
    }
   ],
   "source": [
    "\n",
    "index=BodyMassIndex(160.45,54)\n",
    "index.BMI()"
   ]
  },
  {
   "cell_type": "code",
   "execution_count": 67,
   "metadata": {},
   "outputs": [
    {
     "data": {
      "text/plain": [
       "20.98"
      ]
     },
     "execution_count": 67,
     "metadata": {},
     "output_type": "execute_result"
    }
   ],
   "source": [
    "index.BMI_nu()"
   ]
  },
  {
   "cell_type": "code",
   "execution_count": 34,
   "metadata": {},
   "outputs": [
    {
     "data": {
      "text/plain": [
       "'NOrmal'"
      ]
     },
     "execution_count": 34,
     "metadata": {},
     "output_type": "execute_result"
    }
   ],
   "source": [
    "index.BMI_groups()"
   ]
  },
  {
   "cell_type": "markdown",
   "metadata": {},
   "source": [
    "4.\tWrite a Python Program to calculate the natural logarithm of any number?\n"
   ]
  },
  {
   "cell_type": "code",
   "execution_count": 116,
   "metadata": {},
   "outputs": [
    {
     "name": "stdout",
     "output_type": "stream",
     "text": [
      "The number is negative or zero \n",
      "Natural logarithm of 34 is : 3.53\n",
      "The number is negative or zero \n"
     ]
    }
   ],
   "source": [
    "\n",
    "import math\n",
    "x=[-29,34,0]\n",
    "\n",
    "\n",
    "for i in (x): \n",
    "    if i <= 0:\n",
    "        print(\"The number is negative or zero \")\n",
    "    else:\n",
    "        print (f\"Natural logarithm of {i} is : \", end=\"\")\n",
    "        print (round(math.log(i),2))\n",
    "\n"
   ]
  },
  {
   "cell_type": "markdown",
   "metadata": {},
   "source": [
    "5.\tWrite a Python Program for cube sum of first n natural numbers?\n"
   ]
  },
  {
   "cell_type": "code",
   "execution_count": 33,
   "metadata": {},
   "outputs": [],
   "source": [
    "def cube_sum(x):\n",
    "    if x<=0:\n",
    "        return \"Enter a Positive Number\"\n",
    "    elif x>1:\n",
    "        sum=0\n",
    "        for i in range(x+1):\n",
    "            cube=i**3\n",
    "            sum += cube\n",
    "        return sum\n"
   ]
  },
  {
   "cell_type": "code",
   "execution_count": 34,
   "metadata": {},
   "outputs": [
    {
     "data": {
      "text/plain": [
       "'Enter a Positive Number'"
      ]
     },
     "execution_count": 34,
     "metadata": {},
     "output_type": "execute_result"
    }
   ],
   "source": [
    "cube_sum(-1)"
   ]
  },
  {
   "cell_type": "code",
   "execution_count": 35,
   "metadata": {},
   "outputs": [
    {
     "data": {
      "text/plain": [
       "354025"
      ]
     },
     "execution_count": 35,
     "metadata": {},
     "output_type": "execute_result"
    }
   ],
   "source": [
    "cube_sum(34)"
   ]
  },
  {
   "cell_type": "code",
   "execution_count": null,
   "metadata": {},
   "outputs": [],
   "source": []
  },
  {
   "cell_type": "code",
   "execution_count": null,
   "metadata": {},
   "outputs": [],
   "source": []
  }
 ],
 "metadata": {
  "kernelspec": {
   "display_name": "Python 3.9.12 ('base')",
   "language": "python",
   "name": "python3"
  },
  "language_info": {
   "codemirror_mode": {
    "name": "ipython",
    "version": 3
   },
   "file_extension": ".py",
   "mimetype": "text/x-python",
   "name": "python",
   "nbconvert_exporter": "python",
   "pygments_lexer": "ipython3",
   "version": "3.9.12"
  },
  "orig_nbformat": 4,
  "vscode": {
   "interpreter": {
    "hash": "ad2bdc8ecc057115af97d19610ffacc2b4e99fae6737bb82f5d7fb13d2f2c186"
   }
  }
 },
 "nbformat": 4,
 "nbformat_minor": 2
}
