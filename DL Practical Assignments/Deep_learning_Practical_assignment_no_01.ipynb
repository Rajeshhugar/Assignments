{
  "nbformat": 4,
  "nbformat_minor": 0,
  "metadata": {
    "colab": {
      "provenance": []
    },
    "kernelspec": {
      "name": "python3",
      "display_name": "Python 3"
    },
    "language_info": {
      "name": "python"
    }
  },
  "cells": [
    {
      "cell_type": "markdown",
      "source": [
        "\n",
        "#Practical Assignment\n",
        "\n",
        "### Objective: - Predict Next Sequence\n",
        "- To start with deep learning, the very basic project that you can build is to\n",
        "predict the next digit in a sequence.\n",
        "\n",
        "#### Dataset: - Create a sequence like a list of odd numbers and then build a model and train it to predict the next digit in the sequence.\n",
        "\n",
        "#### Task: - A simple neural network with 2 layers would be sufficient to build the\n",
        "model."
      ],
      "metadata": {
        "id": "MJZba83R3nY6"
      }
    },
    {
      "cell_type": "code",
      "source": [
        "import numpy as np\n",
        "from keras.models import Sequential\n",
        "from keras.layers import Dense"
      ],
      "metadata": {
        "id": "WUS2Rglj3oYH"
      },
      "execution_count": 3,
      "outputs": []
    },
    {
      "cell_type": "code",
      "source": [
        "# Generate the data of ODD numbers\n",
        "\n",
        "data=np.arange(1,350,2)\n",
        "data"
      ],
      "metadata": {
        "colab": {
          "base_uri": "https://localhost:8080/"
        },
        "id": "_OgSJJn53-hn",
        "outputId": "c303923b-0b2c-4e25-d55d-53459d6a7c89"
      },
      "execution_count": 5,
      "outputs": [
        {
          "output_type": "execute_result",
          "data": {
            "text/plain": [
              "array([  1,   3,   5,   7,   9,  11,  13,  15,  17,  19,  21,  23,  25,\n",
              "        27,  29,  31,  33,  35,  37,  39,  41,  43,  45,  47,  49,  51,\n",
              "        53,  55,  57,  59,  61,  63,  65,  67,  69,  71,  73,  75,  77,\n",
              "        79,  81,  83,  85,  87,  89,  91,  93,  95,  97,  99, 101, 103,\n",
              "       105, 107, 109, 111, 113, 115, 117, 119, 121, 123, 125, 127, 129,\n",
              "       131, 133, 135, 137, 139, 141, 143, 145, 147, 149, 151, 153, 155,\n",
              "       157, 159, 161, 163, 165, 167, 169, 171, 173, 175, 177, 179, 181,\n",
              "       183, 185, 187, 189, 191, 193, 195, 197, 199, 201, 203, 205, 207,\n",
              "       209, 211, 213, 215, 217, 219, 221, 223, 225, 227, 229, 231, 233,\n",
              "       235, 237, 239, 241, 243, 245, 247, 249, 251, 253, 255, 257, 259,\n",
              "       261, 263, 265, 267, 269, 271, 273, 275, 277, 279, 281, 283, 285,\n",
              "       287, 289, 291, 293, 295, 297, 299, 301, 303, 305, 307, 309, 311,\n",
              "       313, 315, 317, 319, 321, 323, 325, 327, 329, 331, 333, 335, 337,\n",
              "       339, 341, 343, 345, 347, 349])"
            ]
          },
          "metadata": {},
          "execution_count": 5
        }
      ]
    },
    {
      "cell_type": "code",
      "source": [
        "# Split  the data into input(X) and Output(y) arrays\n",
        "\n",
        "x=data[:-1].reshape(-1,1)\n",
        "y=data[1:].reshape(-1,1)"
      ],
      "metadata": {
        "id": "hGarwV3Q4Y64"
      },
      "execution_count": 6,
      "outputs": []
    },
    {
      "cell_type": "code",
      "source": [
        "# Build a neural network model\n",
        "\n",
        "model = Sequential()\n",
        "model.add(Dense(10,input_dim=1,activation='relu'))\n",
        "model.add(Dense(1))"
      ],
      "metadata": {
        "id": "RGybGh2D44Yd"
      },
      "execution_count": 22,
      "outputs": []
    },
    {
      "cell_type": "code",
      "source": [
        "# Compile the model\n",
        "\n",
        "model.compile(loss='mean_squared_error', optimizer='adam')"
      ],
      "metadata": {
        "id": "E4nr6hlF5KZm"
      },
      "execution_count": 23,
      "outputs": []
    },
    {
      "cell_type": "code",
      "source": [
        "#Train the model\n",
        "model.fit(x, y, epochs=100, batch_size=1, verbose=1)"
      ],
      "metadata": {
        "colab": {
          "base_uri": "https://localhost:8080/"
        },
        "id": "PZvklJ6G5RjX",
        "outputId": "f4d9ac8c-4a40-4cab-c24c-b9b07b1b6e1d"
      },
      "execution_count": 24,
      "outputs": [
        {
          "output_type": "stream",
          "name": "stdout",
          "text": [
            "Epoch 1/100\n",
            "174/174 [==============================] - 0s 970us/step - loss: 20024.3301\n",
            "Epoch 2/100\n",
            "174/174 [==============================] - 0s 1ms/step - loss: 6124.8066\n",
            "Epoch 3/100\n",
            "174/174 [==============================] - 0s 949us/step - loss: 1091.9513\n",
            "Epoch 4/100\n",
            "174/174 [==============================] - 0s 939us/step - loss: 83.7465\n",
            "Epoch 5/100\n",
            "174/174 [==============================] - 0s 1ms/step - loss: 2.9188\n",
            "Epoch 6/100\n",
            "174/174 [==============================] - 0s 962us/step - loss: 0.3096\n",
            "Epoch 7/100\n",
            "174/174 [==============================] - 0s 1ms/step - loss: 0.2742\n",
            "Epoch 8/100\n",
            "174/174 [==============================] - 0s 967us/step - loss: 0.2732\n",
            "Epoch 9/100\n",
            "174/174 [==============================] - 0s 995us/step - loss: 0.2703\n",
            "Epoch 10/100\n",
            "174/174 [==============================] - 0s 969us/step - loss: 0.2692\n",
            "Epoch 11/100\n",
            "174/174 [==============================] - 0s 968us/step - loss: 0.2673\n",
            "Epoch 12/100\n",
            "174/174 [==============================] - 0s 927us/step - loss: 0.2641\n",
            "Epoch 13/100\n",
            "174/174 [==============================] - 0s 903us/step - loss: 0.2601\n",
            "Epoch 14/100\n",
            "174/174 [==============================] - 0s 951us/step - loss: 0.2576\n",
            "Epoch 15/100\n",
            "174/174 [==============================] - 0s 961us/step - loss: 0.2551\n",
            "Epoch 16/100\n",
            "174/174 [==============================] - 0s 849us/step - loss: 0.2508\n",
            "Epoch 17/100\n",
            "174/174 [==============================] - 0s 919us/step - loss: 0.2464\n",
            "Epoch 18/100\n",
            "174/174 [==============================] - 0s 891us/step - loss: 0.2436\n",
            "Epoch 19/100\n",
            "174/174 [==============================] - 0s 1ms/step - loss: 0.2386\n",
            "Epoch 20/100\n",
            "174/174 [==============================] - 0s 853us/step - loss: 0.2362\n",
            "Epoch 21/100\n",
            "174/174 [==============================] - 0s 900us/step - loss: 0.2279\n",
            "Epoch 22/100\n",
            "174/174 [==============================] - 0s 934us/step - loss: 0.2214\n",
            "Epoch 23/100\n",
            "174/174 [==============================] - 0s 1ms/step - loss: 0.2184\n",
            "Epoch 24/100\n",
            "174/174 [==============================] - 0s 1ms/step - loss: 0.2133\n",
            "Epoch 25/100\n",
            "174/174 [==============================] - 0s 1ms/step - loss: 0.2029\n",
            "Epoch 26/100\n",
            "174/174 [==============================] - 0s 1ms/step - loss: 0.1953\n",
            "Epoch 27/100\n",
            "174/174 [==============================] - 0s 1ms/step - loss: 0.1861\n",
            "Epoch 28/100\n",
            "174/174 [==============================] - 0s 1ms/step - loss: 0.1815\n",
            "Epoch 29/100\n",
            "174/174 [==============================] - 0s 1ms/step - loss: 0.1753\n",
            "Epoch 30/100\n",
            "174/174 [==============================] - 0s 1ms/step - loss: 0.1668\n",
            "Epoch 31/100\n",
            "174/174 [==============================] - 0s 1ms/step - loss: 0.1570\n",
            "Epoch 32/100\n",
            "174/174 [==============================] - 0s 846us/step - loss: 0.1467\n",
            "Epoch 33/100\n",
            "174/174 [==============================] - 0s 975us/step - loss: 0.1375\n",
            "Epoch 34/100\n",
            "174/174 [==============================] - 0s 964us/step - loss: 0.1278\n",
            "Epoch 35/100\n",
            "174/174 [==============================] - 0s 1ms/step - loss: 0.1183\n",
            "Epoch 36/100\n",
            "174/174 [==============================] - 0s 928us/step - loss: 0.1145\n",
            "Epoch 37/100\n",
            "174/174 [==============================] - 0s 996us/step - loss: 0.0998\n",
            "Epoch 38/100\n",
            "174/174 [==============================] - 0s 967us/step - loss: 0.0892\n",
            "Epoch 39/100\n",
            "174/174 [==============================] - 0s 968us/step - loss: 0.0782\n",
            "Epoch 40/100\n",
            "174/174 [==============================] - 0s 896us/step - loss: 0.0741\n",
            "Epoch 41/100\n",
            "174/174 [==============================] - 0s 860us/step - loss: 0.0672\n",
            "Epoch 42/100\n",
            "174/174 [==============================] - 0s 907us/step - loss: 0.0528\n",
            "Epoch 43/100\n",
            "174/174 [==============================] - 0s 980us/step - loss: 0.0484\n",
            "Epoch 44/100\n",
            "174/174 [==============================] - 0s 871us/step - loss: 0.0388\n",
            "Epoch 45/100\n",
            "174/174 [==============================] - 0s 1ms/step - loss: 0.0339\n",
            "Epoch 46/100\n",
            "174/174 [==============================] - 0s 1ms/step - loss: 0.0271\n",
            "Epoch 47/100\n",
            "174/174 [==============================] - 0s 980us/step - loss: 0.0214\n",
            "Epoch 48/100\n",
            "174/174 [==============================] - 0s 931us/step - loss: 0.0185\n",
            "Epoch 49/100\n",
            "174/174 [==============================] - 0s 934us/step - loss: 0.0129\n",
            "Epoch 50/100\n",
            "174/174 [==============================] - 0s 1ms/step - loss: 0.0092\n",
            "Epoch 51/100\n",
            "174/174 [==============================] - 0s 958us/step - loss: 0.0078\n",
            "Epoch 52/100\n",
            "174/174 [==============================] - 0s 944us/step - loss: 0.0059\n",
            "Epoch 53/100\n",
            "174/174 [==============================] - 0s 1ms/step - loss: 0.0039\n",
            "Epoch 54/100\n",
            "174/174 [==============================] - 0s 937us/step - loss: 0.0027\n",
            "Epoch 55/100\n",
            "174/174 [==============================] - 0s 937us/step - loss: 0.0016\n",
            "Epoch 56/100\n",
            "174/174 [==============================] - 0s 1ms/step - loss: 0.0013\n",
            "Epoch 57/100\n",
            "174/174 [==============================] - 0s 994us/step - loss: 7.7632e-04\n",
            "Epoch 58/100\n",
            "174/174 [==============================] - 0s 1ms/step - loss: 5.6585e-04\n",
            "Epoch 59/100\n",
            "174/174 [==============================] - 0s 988us/step - loss: 2.4164e-04\n",
            "Epoch 60/100\n",
            "174/174 [==============================] - 0s 941us/step - loss: 2.4545e-04\n",
            "Epoch 61/100\n",
            "174/174 [==============================] - 0s 972us/step - loss: 5.1919e-05\n",
            "Epoch 62/100\n",
            "174/174 [==============================] - 0s 968us/step - loss: 3.3183e-05\n",
            "Epoch 63/100\n",
            "174/174 [==============================] - 0s 1ms/step - loss: 1.8358e-05\n",
            "Epoch 64/100\n",
            "174/174 [==============================] - 0s 964us/step - loss: 1.2325e-05\n",
            "Epoch 65/100\n",
            "174/174 [==============================] - 0s 1ms/step - loss: 7.7284e-06\n",
            "Epoch 66/100\n",
            "174/174 [==============================] - 0s 898us/step - loss: 5.3596e-06\n",
            "Epoch 67/100\n",
            "174/174 [==============================] - 0s 998us/step - loss: 5.1630e-06\n",
            "Epoch 68/100\n",
            "174/174 [==============================] - 0s 995us/step - loss: 5.3740e-06\n",
            "Epoch 69/100\n",
            "174/174 [==============================] - 0s 893us/step - loss: 7.9864e-06\n",
            "Epoch 70/100\n",
            "174/174 [==============================] - 0s 991us/step - loss: 0.0022\n",
            "Epoch 71/100\n",
            "174/174 [==============================] - 0s 1ms/step - loss: 0.0050\n",
            "Epoch 72/100\n",
            "174/174 [==============================] - 0s 956us/step - loss: 0.0808\n",
            "Epoch 73/100\n",
            "174/174 [==============================] - 0s 925us/step - loss: 0.0494\n",
            "Epoch 74/100\n",
            "174/174 [==============================] - 0s 960us/step - loss: 0.0997\n",
            "Epoch 75/100\n",
            "174/174 [==============================] - 0s 927us/step - loss: 2.0525e-04\n",
            "Epoch 76/100\n",
            "174/174 [==============================] - 0s 865us/step - loss: 8.1356e-05\n",
            "Epoch 77/100\n",
            "174/174 [==============================] - 0s 976us/step - loss: 1.1442e-05\n",
            "Epoch 78/100\n",
            "174/174 [==============================] - 0s 1ms/step - loss: 1.0329e-05\n",
            "Epoch 79/100\n",
            "174/174 [==============================] - 0s 1ms/step - loss: 5.2373e-06\n",
            "Epoch 80/100\n",
            "174/174 [==============================] - 0s 973us/step - loss: 5.8128e-06\n",
            "Epoch 81/100\n",
            "174/174 [==============================] - 0s 933us/step - loss: 8.2514e-05\n",
            "Epoch 82/100\n",
            "174/174 [==============================] - 0s 943us/step - loss: 1.9486e-04\n",
            "Epoch 83/100\n",
            "174/174 [==============================] - 0s 997us/step - loss: 0.3788\n",
            "Epoch 84/100\n",
            "174/174 [==============================] - 0s 966us/step - loss: 5.4376e-05\n",
            "Epoch 85/100\n",
            "174/174 [==============================] - 0s 1ms/step - loss: 1.7419e-05\n",
            "Epoch 86/100\n",
            "174/174 [==============================] - 0s 891us/step - loss: 9.7104e-06\n",
            "Epoch 87/100\n",
            "174/174 [==============================] - 0s 1ms/step - loss: 6.7902e-06\n",
            "Epoch 88/100\n",
            "174/174 [==============================] - 0s 1ms/step - loss: 5.2460e-06\n",
            "Epoch 89/100\n",
            "174/174 [==============================] - 0s 1ms/step - loss: 5.2900e-06\n",
            "Epoch 90/100\n",
            "174/174 [==============================] - 0s 1ms/step - loss: 1.0071e-05\n",
            "Epoch 91/100\n",
            "174/174 [==============================] - 0s 1ms/step - loss: 1.8483e-05\n",
            "Epoch 92/100\n",
            "174/174 [==============================] - 0s 1ms/step - loss: 5.1933e-06\n",
            "Epoch 93/100\n",
            "174/174 [==============================] - 0s 1ms/step - loss: 8.4344e-04\n",
            "Epoch 94/100\n",
            "174/174 [==============================] - 0s 1ms/step - loss: 0.0926\n",
            "Epoch 95/100\n",
            "174/174 [==============================] - 0s 1ms/step - loss: 0.0767\n",
            "Epoch 96/100\n",
            "174/174 [==============================] - 0s 1ms/step - loss: 0.0025\n",
            "Epoch 97/100\n",
            "174/174 [==============================] - 0s 928us/step - loss: 5.4459e-05\n",
            "Epoch 98/100\n",
            "174/174 [==============================] - 0s 946us/step - loss: 3.3008e-05\n",
            "Epoch 99/100\n",
            "174/174 [==============================] - 0s 1ms/step - loss: 2.9447e-05\n",
            "Epoch 100/100\n",
            "174/174 [==============================] - 0s 1ms/step - loss: 1.3482e-05\n"
          ]
        },
        {
          "output_type": "execute_result",
          "data": {
            "text/plain": [
              "<keras.callbacks.History at 0x7f68d3ef2be0>"
            ]
          },
          "metadata": {},
          "execution_count": 24
        }
      ]
    },
    {
      "cell_type": "code",
      "source": [
        "next_odd_number = model.predict(np.array([199]).reshape(1, 1))"
      ],
      "metadata": {
        "colab": {
          "base_uri": "https://localhost:8080/"
        },
        "id": "wWx5WIgj5Tgu",
        "outputId": "2bf1d906-08b4-4386-d914-b0141d8ba3be"
      },
      "execution_count": 26,
      "outputs": [
        {
          "output_type": "stream",
          "name": "stdout",
          "text": [
            "1/1 [==============================] - 0s 60ms/step\n"
          ]
        }
      ]
    },
    {
      "cell_type": "code",
      "source": [
        "next_odd_number"
      ],
      "metadata": {
        "colab": {
          "base_uri": "https://localhost:8080/"
        },
        "id": "puYvnyy75f_i",
        "outputId": "b1b3cb74-da07-44d6-e9d0-5c1a565b202a"
      },
      "execution_count": 27,
      "outputs": [
        {
          "output_type": "execute_result",
          "data": {
            "text/plain": [
              "array([[200.99863]], dtype=float32)"
            ]
          },
          "metadata": {},
          "execution_count": 27
        }
      ]
    },
    {
      "cell_type": "code",
      "source": [],
      "metadata": {
        "id": "jJpLxfUw5lMn"
      },
      "execution_count": null,
      "outputs": []
    }
  ]
}